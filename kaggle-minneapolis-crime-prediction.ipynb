{
 "cells": [
  {
   "cell_type": "markdown",
   "source": [
    "Minneapolis Crime Project\n",
    "\n",
    "* Author: Jay Bennett [@k-chuang](https://www.github.com/k-chuang)\n",
    "* Created on: August 25, 2018\n",
    "* Description: Data analysis, exploration, visualization, and data mining on crime in SF\n",
    "* Original dataset: [SF Gov Crime dataset](https://data.sfgov.org/Public-Safety/-Change-Notice-Police-Department-Incidents/tmnf-yvry/about)\n",
    "* Kaggle dataset: [Kaggle SF Crime](https://www.kaggle.com/c/sf-crime/data)\n",
    "\n",
    "---------------"
   ],
   "metadata": {}
  },
  {
   "cell_type": "markdown",
   "source": [
    "# Table of Contents\n",
    "\n",
    "- Introduction\n",
    "    - SF Crime Dataset\n",
    "- Basic Preparation\n",
    "    - Import libraries\n",
    "    - Load data\n",
    "- Data Exploration/Analysis Extension\n",
    "- Data Preprocessing\n",
    "    - Data Imputation/Removal\n",
    "    - Feature Engineering\n",
    "    - Feature Encoding\n",
    "- Build Machine Learning Models\n",
    "    - Train different baseline models\n",
    "    - Analyze results\n",
    "- Model Selection\n",
    "- Hyperparameter tuning\n",
    "- Train Model with optimal hyperparameters\n",
    "- Feature Selection\n",
    "    - Feature Importance\n",
    "    - Feature Removal\n",
    "- Train Final Model\n",
    "- Model Evaluation\n",
    "- Summary\n",
    "- Kaggle Submission\n",
    "- Conclusion"
   ],
   "metadata": {}
  },
  {
   "cell_type": "markdown",
   "source": [
    "# Introduction\n",
    "\n",
    "\n",
    "## SF Crime Dataset\n",
    "\n",
    "This dataset contains incidents derived from SFPD Crime Incident Reporting system. The data ranges from 1/1/2003 to 5/13/2015. The training set and test set rotate every week, meaning week 1,3,5,7... belong to test set, week 2,4,6,8 belong to training set. The goal is to try to predict the category of crime that occurred in the city of San Francisco. \n",
    "\n",
    "### Data Fields\n",
    "- **Dates** - timestamp of the crime incident\n",
    "- **Category** - category of the crime incident (only in train.csv). This is the target variable you are going to predict.\n",
    "- **Descript** - detailed description of the crime incident (only in train.csv)\n",
    "- **DayOfWeek** - the day of the week\n",
    "- **Precinct** - name of the Police Department District\n",
    "- **Resolution** - how the crime incident was resolved (only in train.csv)\n",
    "- **Address** - the approximate street address of the crime incident \n",
    "- **X** - Longitude\n",
    "- **Y** - Latitude\n",
    "\n",
    "\n",
    "In this juypter notebook, I will go through the whole process, end-to-end, of creating a machine learning model on the open source San Francisco Crime dataset. This includes data exploration & analysis, data preprocessing (huge part of this project and includes feature engineering), trying out different ML algorithms and determining the optimal ML model, tuning the hyperparameters of that model, and finally, evaluating the chosen model in terms of multiclass log loss. \n",
    "\n",
    "Since this is an old Kaggle competition, I will refrain from looking online for resources or old Kaggle kernels. The plan is to get better at coding an end to end data science project and to familiarize myself with the Python data science libraries. Also, I hope to learn some interesting things and discover some cool patterns or ideas using this dataset. Well, here goes nothing!\n",
    "\n"
   ],
   "metadata": {}
  },
  {
   "cell_type": "markdown",
   "source": [
    "## Import libraries"
   ],
   "metadata": {}
  },
  {
   "cell_type": "code",
   "execution_count": 1,
   "source": [
    "# # Count number of observations for each day of week\n",
    "# train_df['DayOfWeek'].value_counts()\n",
    "# linear algebra\n",
    "import numpy as np \n",
    "\n",
    "# data processing\n",
    "import pandas as pd \n",
    "\n",
    "# data visualization\n",
    "import seaborn as sns\n",
    "%matplotlib inline\n",
    "from matplotlib import pyplot as plt\n",
    "from matplotlib import style\n",
    "\n",
    "# Algorithms\n",
    "from sklearn import linear_model\n",
    "from sklearn.linear_model import SGDClassifier, LogisticRegression\n",
    "from sklearn.ensemble import RandomForestClassifier\n",
    "from sklearn.linear_model import Perceptron\n",
    "from sklearn.tree import DecisionTreeClassifier\n",
    "from sklearn.neighbors import KNeighborsClassifier\n",
    "from sklearn.svm import SVC, LinearSVC\n",
    "from sklearn.naive_bayes import GaussianNB, MultinomialNB\n",
    "from sklearn.ensemble import AdaBoostClassifier\n",
    "from sklearn.neural_network import MLPClassifier\n",
    "from xgboost import XGBClassifier\n",
    "import xgboost as xgb\n",
    "\n",
    "# Preprocessing\n",
    "from sklearn.model_selection import train_test_split\n",
    "from sklearn.preprocessing import LabelEncoder, StandardScaler, OneHotEncoder\n",
    "\n",
    "# Metrics \n",
    "from sklearn.metrics import log_loss\n",
    "from sklearn.model_selection import cross_val_score\n",
    "\n",
    "# Model Selection & Hyperparameter tuning\n",
    "from sklearn.model_selection import GridSearchCV, RandomizedSearchCV, StratifiedKFold\n",
    "from skopt import BayesSearchCV\n",
    "from skopt.space  import Real, Categorical, Integer\n",
    "\n",
    "\n",
    "# Clustering\n",
    "from sklearn.cluster import KMeans\n",
    "\n",
    "# Mathematical Functions\n",
    "import math\n",
    "\n",
    "import warnings\n",
    "warnings.filterwarnings('ignore')\n",
    "\n",
    "jobs=1000"
   ],
   "outputs": [],
   "metadata": {
    "ExecuteTime": {
     "end_time": "2018-09-15T00:10:19.277666Z",
     "start_time": "2018-09-15T00:10:17.704742Z"
    }
   }
  },
  {
   "cell_type": "markdown",
   "source": [
    "## Load data"
   ],
   "metadata": {}
  },
  {
   "cell_type": "code",
   "execution_count": 2,
   "source": [
    "#train_df.columns.values\n",
    "\n",
    "df_train = pd.read_csv('incidents.csv', index_col=0)\n",
    "df_train = df_train\n",
    "\n",
    "df_train.drop(columns=['Time', 'Date', 'Month_Name'], inplace=True)\n",
    "#df_train.rename(columns={'Lat':'Y', 'Long':'X'}, inplace=True)\n",
    "\n",
    "df_train['X'] = df_train['Long']\n",
    "df_train['Y'] = df_train['Lat']\n",
    "\n",
    "start_date = '2018-01-01'\n",
    "end_date = '2020-12-31'\n",
    "mask = (df_train['Dates'] > start_date) & (df_train['Dates'] <= end_date)\n",
    "df_train = df_train.loc[mask]\n",
    "df_train\n",
    "\n",
    "df_train.head()\n",
    "\n",
    "\n",
    "train_df, test_df = train_test_split(df_train,test_size=0.25,random_state=0)#,stratify=df_train['Survived'])\n",
    "# train,test=train_test_split(df_train,test_size=0.3,random_state=0,stratify=df_train['Survived'])\n",
    "# train_X=train[train.columns[1:]]\n",
    "# train_y=train[train.columns[:1]]\n",
    "# test_X=test[test.columns[1:]]\n",
    "# test_y=test[test.columns[:1]]\n",
    "# X=df_train[df_train.columns[1:]]\n",
    "# y=df_train['Survived']\n",
    "\n",
    "#train_df = train #pd.read_csv('train.csv')\n",
    "#test_df = test#pd.read_csv('test.csv')\n",
    "#train_df = pd.read_csv('train.csv')\n",
    "#test_df = pd.read_csv('test.csv')\n",
    "#df.rename(columns={'ReportedDateTime':'Dates', 'Offense':'Category', 'DoW':'DayOfWeek'}, inplace=True)\n"
   ],
   "outputs": [
    {
     "output_type": "error",
     "ename": "FileNotFoundError",
     "evalue": "[Errno 2] No such file or directory: 'incidents.csv'",
     "traceback": [
      "\u001b[0;31m---------------------------------------------------------------------------\u001b[0m",
      "\u001b[0;31mFileNotFoundError\u001b[0m                         Traceback (most recent call last)",
      "\u001b[0;32m/var/folders/3x/75txnqv153g7fgkclt0n4b6w0000gn/T/ipykernel_35170/4033179710.py\u001b[0m in \u001b[0;36m<module>\u001b[0;34m\u001b[0m\n\u001b[1;32m      1\u001b[0m \u001b[0;31m#train_df.columns.values\u001b[0m\u001b[0;34m\u001b[0m\u001b[0;34m\u001b[0m\u001b[0;34m\u001b[0m\u001b[0m\n\u001b[1;32m      2\u001b[0m \u001b[0;34m\u001b[0m\u001b[0m\n\u001b[0;32m----> 3\u001b[0;31m \u001b[0mdf_train\u001b[0m \u001b[0;34m=\u001b[0m \u001b[0mpd\u001b[0m\u001b[0;34m.\u001b[0m\u001b[0mread_csv\u001b[0m\u001b[0;34m(\u001b[0m\u001b[0;34m'incidents.csv'\u001b[0m\u001b[0;34m,\u001b[0m \u001b[0mindex_col\u001b[0m\u001b[0;34m=\u001b[0m\u001b[0;36m0\u001b[0m\u001b[0;34m)\u001b[0m\u001b[0;34m\u001b[0m\u001b[0;34m\u001b[0m\u001b[0m\n\u001b[0m\u001b[1;32m      4\u001b[0m \u001b[0mdf_train\u001b[0m \u001b[0;34m=\u001b[0m \u001b[0mdf_train\u001b[0m\u001b[0;34m\u001b[0m\u001b[0;34m\u001b[0m\u001b[0m\n\u001b[1;32m      5\u001b[0m \u001b[0;34m\u001b[0m\u001b[0m\n",
      "\u001b[0;32m~/miniforge3/envs/tensorflow38/lib/python3.8/site-packages/pandas/util/_decorators.py\u001b[0m in \u001b[0;36mwrapper\u001b[0;34m(*args, **kwargs)\u001b[0m\n\u001b[1;32m    309\u001b[0m                     \u001b[0mstacklevel\u001b[0m\u001b[0;34m=\u001b[0m\u001b[0mstacklevel\u001b[0m\u001b[0;34m,\u001b[0m\u001b[0;34m\u001b[0m\u001b[0;34m\u001b[0m\u001b[0m\n\u001b[1;32m    310\u001b[0m                 )\n\u001b[0;32m--> 311\u001b[0;31m             \u001b[0;32mreturn\u001b[0m \u001b[0mfunc\u001b[0m\u001b[0;34m(\u001b[0m\u001b[0;34m*\u001b[0m\u001b[0margs\u001b[0m\u001b[0;34m,\u001b[0m \u001b[0;34m**\u001b[0m\u001b[0mkwargs\u001b[0m\u001b[0;34m)\u001b[0m\u001b[0;34m\u001b[0m\u001b[0;34m\u001b[0m\u001b[0m\n\u001b[0m\u001b[1;32m    312\u001b[0m \u001b[0;34m\u001b[0m\u001b[0m\n\u001b[1;32m    313\u001b[0m         \u001b[0;32mreturn\u001b[0m \u001b[0mwrapper\u001b[0m\u001b[0;34m\u001b[0m\u001b[0;34m\u001b[0m\u001b[0m\n",
      "\u001b[0;32m~/miniforge3/envs/tensorflow38/lib/python3.8/site-packages/pandas/io/parsers/readers.py\u001b[0m in \u001b[0;36mread_csv\u001b[0;34m(filepath_or_buffer, sep, delimiter, header, names, index_col, usecols, squeeze, prefix, mangle_dupe_cols, dtype, engine, converters, true_values, false_values, skipinitialspace, skiprows, skipfooter, nrows, na_values, keep_default_na, na_filter, verbose, skip_blank_lines, parse_dates, infer_datetime_format, keep_date_col, date_parser, dayfirst, cache_dates, iterator, chunksize, compression, thousands, decimal, lineterminator, quotechar, quoting, doublequote, escapechar, comment, encoding, encoding_errors, dialect, error_bad_lines, warn_bad_lines, on_bad_lines, delim_whitespace, low_memory, memory_map, float_precision, storage_options)\u001b[0m\n\u001b[1;32m    584\u001b[0m     \u001b[0mkwds\u001b[0m\u001b[0;34m.\u001b[0m\u001b[0mupdate\u001b[0m\u001b[0;34m(\u001b[0m\u001b[0mkwds_defaults\u001b[0m\u001b[0;34m)\u001b[0m\u001b[0;34m\u001b[0m\u001b[0;34m\u001b[0m\u001b[0m\n\u001b[1;32m    585\u001b[0m \u001b[0;34m\u001b[0m\u001b[0m\n\u001b[0;32m--> 586\u001b[0;31m     \u001b[0;32mreturn\u001b[0m \u001b[0m_read\u001b[0m\u001b[0;34m(\u001b[0m\u001b[0mfilepath_or_buffer\u001b[0m\u001b[0;34m,\u001b[0m \u001b[0mkwds\u001b[0m\u001b[0;34m)\u001b[0m\u001b[0;34m\u001b[0m\u001b[0;34m\u001b[0m\u001b[0m\n\u001b[0m\u001b[1;32m    587\u001b[0m \u001b[0;34m\u001b[0m\u001b[0m\n\u001b[1;32m    588\u001b[0m \u001b[0;34m\u001b[0m\u001b[0m\n",
      "\u001b[0;32m~/miniforge3/envs/tensorflow38/lib/python3.8/site-packages/pandas/io/parsers/readers.py\u001b[0m in \u001b[0;36m_read\u001b[0;34m(filepath_or_buffer, kwds)\u001b[0m\n\u001b[1;32m    480\u001b[0m \u001b[0;34m\u001b[0m\u001b[0m\n\u001b[1;32m    481\u001b[0m     \u001b[0;31m# Create the parser.\u001b[0m\u001b[0;34m\u001b[0m\u001b[0;34m\u001b[0m\u001b[0;34m\u001b[0m\u001b[0m\n\u001b[0;32m--> 482\u001b[0;31m     \u001b[0mparser\u001b[0m \u001b[0;34m=\u001b[0m \u001b[0mTextFileReader\u001b[0m\u001b[0;34m(\u001b[0m\u001b[0mfilepath_or_buffer\u001b[0m\u001b[0;34m,\u001b[0m \u001b[0;34m**\u001b[0m\u001b[0mkwds\u001b[0m\u001b[0;34m)\u001b[0m\u001b[0;34m\u001b[0m\u001b[0;34m\u001b[0m\u001b[0m\n\u001b[0m\u001b[1;32m    483\u001b[0m \u001b[0;34m\u001b[0m\u001b[0m\n\u001b[1;32m    484\u001b[0m     \u001b[0;32mif\u001b[0m \u001b[0mchunksize\u001b[0m \u001b[0;32mor\u001b[0m \u001b[0miterator\u001b[0m\u001b[0;34m:\u001b[0m\u001b[0;34m\u001b[0m\u001b[0;34m\u001b[0m\u001b[0m\n",
      "\u001b[0;32m~/miniforge3/envs/tensorflow38/lib/python3.8/site-packages/pandas/io/parsers/readers.py\u001b[0m in \u001b[0;36m__init__\u001b[0;34m(self, f, engine, **kwds)\u001b[0m\n\u001b[1;32m    809\u001b[0m             \u001b[0mself\u001b[0m\u001b[0;34m.\u001b[0m\u001b[0moptions\u001b[0m\u001b[0;34m[\u001b[0m\u001b[0;34m\"has_index_names\"\u001b[0m\u001b[0;34m]\u001b[0m \u001b[0;34m=\u001b[0m \u001b[0mkwds\u001b[0m\u001b[0;34m[\u001b[0m\u001b[0;34m\"has_index_names\"\u001b[0m\u001b[0;34m]\u001b[0m\u001b[0;34m\u001b[0m\u001b[0;34m\u001b[0m\u001b[0m\n\u001b[1;32m    810\u001b[0m \u001b[0;34m\u001b[0m\u001b[0m\n\u001b[0;32m--> 811\u001b[0;31m         \u001b[0mself\u001b[0m\u001b[0;34m.\u001b[0m\u001b[0m_engine\u001b[0m \u001b[0;34m=\u001b[0m \u001b[0mself\u001b[0m\u001b[0;34m.\u001b[0m\u001b[0m_make_engine\u001b[0m\u001b[0;34m(\u001b[0m\u001b[0mself\u001b[0m\u001b[0;34m.\u001b[0m\u001b[0mengine\u001b[0m\u001b[0;34m)\u001b[0m\u001b[0;34m\u001b[0m\u001b[0;34m\u001b[0m\u001b[0m\n\u001b[0m\u001b[1;32m    812\u001b[0m \u001b[0;34m\u001b[0m\u001b[0m\n\u001b[1;32m    813\u001b[0m     \u001b[0;32mdef\u001b[0m \u001b[0mclose\u001b[0m\u001b[0;34m(\u001b[0m\u001b[0mself\u001b[0m\u001b[0;34m)\u001b[0m\u001b[0;34m:\u001b[0m\u001b[0;34m\u001b[0m\u001b[0;34m\u001b[0m\u001b[0m\n",
      "\u001b[0;32m~/miniforge3/envs/tensorflow38/lib/python3.8/site-packages/pandas/io/parsers/readers.py\u001b[0m in \u001b[0;36m_make_engine\u001b[0;34m(self, engine)\u001b[0m\n\u001b[1;32m   1038\u001b[0m             )\n\u001b[1;32m   1039\u001b[0m         \u001b[0;31m# error: Too many arguments for \"ParserBase\"\u001b[0m\u001b[0;34m\u001b[0m\u001b[0;34m\u001b[0m\u001b[0;34m\u001b[0m\u001b[0m\n\u001b[0;32m-> 1040\u001b[0;31m         \u001b[0;32mreturn\u001b[0m \u001b[0mmapping\u001b[0m\u001b[0;34m[\u001b[0m\u001b[0mengine\u001b[0m\u001b[0;34m]\u001b[0m\u001b[0;34m(\u001b[0m\u001b[0mself\u001b[0m\u001b[0;34m.\u001b[0m\u001b[0mf\u001b[0m\u001b[0;34m,\u001b[0m \u001b[0;34m**\u001b[0m\u001b[0mself\u001b[0m\u001b[0;34m.\u001b[0m\u001b[0moptions\u001b[0m\u001b[0;34m)\u001b[0m  \u001b[0;31m# type: ignore[call-arg]\u001b[0m\u001b[0;34m\u001b[0m\u001b[0;34m\u001b[0m\u001b[0m\n\u001b[0m\u001b[1;32m   1041\u001b[0m \u001b[0;34m\u001b[0m\u001b[0m\n\u001b[1;32m   1042\u001b[0m     \u001b[0;32mdef\u001b[0m \u001b[0m_failover_to_python\u001b[0m\u001b[0;34m(\u001b[0m\u001b[0mself\u001b[0m\u001b[0;34m)\u001b[0m\u001b[0;34m:\u001b[0m\u001b[0;34m\u001b[0m\u001b[0;34m\u001b[0m\u001b[0m\n",
      "\u001b[0;32m~/miniforge3/envs/tensorflow38/lib/python3.8/site-packages/pandas/io/parsers/c_parser_wrapper.py\u001b[0m in \u001b[0;36m__init__\u001b[0;34m(self, src, **kwds)\u001b[0m\n\u001b[1;32m     49\u001b[0m \u001b[0;34m\u001b[0m\u001b[0m\n\u001b[1;32m     50\u001b[0m         \u001b[0;31m# open handles\u001b[0m\u001b[0;34m\u001b[0m\u001b[0;34m\u001b[0m\u001b[0;34m\u001b[0m\u001b[0m\n\u001b[0;32m---> 51\u001b[0;31m         \u001b[0mself\u001b[0m\u001b[0;34m.\u001b[0m\u001b[0m_open_handles\u001b[0m\u001b[0;34m(\u001b[0m\u001b[0msrc\u001b[0m\u001b[0;34m,\u001b[0m \u001b[0mkwds\u001b[0m\u001b[0;34m)\u001b[0m\u001b[0;34m\u001b[0m\u001b[0;34m\u001b[0m\u001b[0m\n\u001b[0m\u001b[1;32m     52\u001b[0m         \u001b[0;32massert\u001b[0m \u001b[0mself\u001b[0m\u001b[0;34m.\u001b[0m\u001b[0mhandles\u001b[0m \u001b[0;32mis\u001b[0m \u001b[0;32mnot\u001b[0m \u001b[0;32mNone\u001b[0m\u001b[0;34m\u001b[0m\u001b[0;34m\u001b[0m\u001b[0m\n\u001b[1;32m     53\u001b[0m \u001b[0;34m\u001b[0m\u001b[0m\n",
      "\u001b[0;32m~/miniforge3/envs/tensorflow38/lib/python3.8/site-packages/pandas/io/parsers/base_parser.py\u001b[0m in \u001b[0;36m_open_handles\u001b[0;34m(self, src, kwds)\u001b[0m\n\u001b[1;32m    220\u001b[0m         \u001b[0mLet\u001b[0m \u001b[0mthe\u001b[0m \u001b[0mreaders\u001b[0m \u001b[0mopen\u001b[0m \u001b[0mIOHandles\u001b[0m \u001b[0mafter\u001b[0m \u001b[0mthey\u001b[0m \u001b[0mare\u001b[0m \u001b[0mdone\u001b[0m \u001b[0;32mwith\u001b[0m \u001b[0mtheir\u001b[0m \u001b[0mpotential\u001b[0m \u001b[0mraises\u001b[0m\u001b[0;34m.\u001b[0m\u001b[0;34m\u001b[0m\u001b[0;34m\u001b[0m\u001b[0m\n\u001b[1;32m    221\u001b[0m         \"\"\"\n\u001b[0;32m--> 222\u001b[0;31m         self.handles = get_handle(\n\u001b[0m\u001b[1;32m    223\u001b[0m             \u001b[0msrc\u001b[0m\u001b[0;34m,\u001b[0m\u001b[0;34m\u001b[0m\u001b[0;34m\u001b[0m\u001b[0m\n\u001b[1;32m    224\u001b[0m             \u001b[0;34m\"r\"\u001b[0m\u001b[0;34m,\u001b[0m\u001b[0;34m\u001b[0m\u001b[0;34m\u001b[0m\u001b[0m\n",
      "\u001b[0;32m~/miniforge3/envs/tensorflow38/lib/python3.8/site-packages/pandas/io/common.py\u001b[0m in \u001b[0;36mget_handle\u001b[0;34m(path_or_buf, mode, encoding, compression, memory_map, is_text, errors, storage_options)\u001b[0m\n\u001b[1;32m    700\u001b[0m         \u001b[0;32mif\u001b[0m \u001b[0mioargs\u001b[0m\u001b[0;34m.\u001b[0m\u001b[0mencoding\u001b[0m \u001b[0;32mand\u001b[0m \u001b[0;34m\"b\"\u001b[0m \u001b[0;32mnot\u001b[0m \u001b[0;32min\u001b[0m \u001b[0mioargs\u001b[0m\u001b[0;34m.\u001b[0m\u001b[0mmode\u001b[0m\u001b[0;34m:\u001b[0m\u001b[0;34m\u001b[0m\u001b[0;34m\u001b[0m\u001b[0m\n\u001b[1;32m    701\u001b[0m             \u001b[0;31m# Encoding\u001b[0m\u001b[0;34m\u001b[0m\u001b[0;34m\u001b[0m\u001b[0;34m\u001b[0m\u001b[0m\n\u001b[0;32m--> 702\u001b[0;31m             handle = open(\n\u001b[0m\u001b[1;32m    703\u001b[0m                 \u001b[0mhandle\u001b[0m\u001b[0;34m,\u001b[0m\u001b[0;34m\u001b[0m\u001b[0;34m\u001b[0m\u001b[0m\n\u001b[1;32m    704\u001b[0m                 \u001b[0mioargs\u001b[0m\u001b[0;34m.\u001b[0m\u001b[0mmode\u001b[0m\u001b[0;34m,\u001b[0m\u001b[0;34m\u001b[0m\u001b[0;34m\u001b[0m\u001b[0m\n",
      "\u001b[0;31mFileNotFoundError\u001b[0m: [Errno 2] No such file or directory: 'incidents.csv'"
     ]
    }
   ],
   "metadata": {
    "ExecuteTime": {
     "end_time": "2018-09-15T00:10:22.111001Z",
     "start_time": "2018-09-15T00:10:19.280864Z"
    }
   }
  },
  {
   "cell_type": "code",
   "execution_count": null,
   "source": [
    "# Count number of observations for each day of week\n",
    "train_df['DayOfWeek'].value_counts()\n"
   ],
   "outputs": [
    {
     "output_type": "execute_result",
     "data": {
      "text/plain": [
       "Friday       6620\n",
       "Saturday     6290\n",
       "Monday       6231\n",
       "Thursday     6205\n",
       "Wednesday    6101\n",
       "Tuesday      6035\n",
       "Sunday       6022\n",
       "Name: DayOfWeek, dtype: int64"
      ]
     },
     "metadata": {},
     "execution_count": 202
    }
   ],
   "metadata": {
    "ExecuteTime": {
     "end_time": "2018-09-15T00:10:22.435882Z",
     "start_time": "2018-09-15T00:10:22.113556Z"
    }
   }
  },
  {
   "cell_type": "markdown",
   "source": [
    "# Data Exploration & Analysis Extension\n",
    "\n",
    "- Complete data exploration & visualizations are located in jupyter notebook: [kaggle-sf-crime-data-exploration.ipynb](kaggle-sf-crime-data-exploration.ipynb)\n",
    "- This dataset suffers from **imbalanced classes** (**TREA** has 6 occurrences while **LARCENY/THEFT** has 1,749,000 occurrences)\n",
    "    - There are a couple ways to deal with imbalanced classes, such as:\n",
    "        - Changing performance metric (Do not use accuracy, use a confusion matrix, precision, recall, F1 score, ROC curves)\n",
    "        - Resample dataset (Oversample under-represented classes, and undersample over-represented classes)\n",
    "        - Try different ML algorithms that can handle imbalanced classes\n",
    "            - Decision Trees (Random Forests/XGBoost) often perform well on imbalanced classes (due to splitting rules)"
   ],
   "metadata": {}
  },
  {
   "cell_type": "code",
   "execution_count": null,
   "source": [
    "train_df.head(8)"
   ],
   "outputs": [
    {
     "output_type": "execute_result",
     "data": {
      "text/html": [
       "<div>\n",
       "<style scoped>\n",
       "    .dataframe tbody tr th:only-of-type {\n",
       "        vertical-align: middle;\n",
       "    }\n",
       "\n",
       "    .dataframe tbody tr th {\n",
       "        vertical-align: top;\n",
       "    }\n",
       "\n",
       "    .dataframe thead th {\n",
       "        text-align: right;\n",
       "    }\n",
       "</style>\n",
       "<table border=\"1\" class=\"dataframe\">\n",
       "  <thead>\n",
       "    <tr style=\"text-align: right;\">\n",
       "      <th></th>\n",
       "      <th>Dates</th>\n",
       "      <th>Address</th>\n",
       "      <th>Lat</th>\n",
       "      <th>Long</th>\n",
       "      <th>Neighborhood</th>\n",
       "      <th>Precinct</th>\n",
       "      <th>Offense</th>\n",
       "      <th>Description</th>\n",
       "      <th>UCRCode</th>\n",
       "      <th>Year</th>\n",
       "      <th>Month</th>\n",
       "      <th>DayOfWeek_Num</th>\n",
       "      <th>DayOfWeek</th>\n",
       "      <th>Hour</th>\n",
       "      <th>Category</th>\n",
       "      <th>X</th>\n",
       "      <th>Y</th>\n",
       "    </tr>\n",
       "  </thead>\n",
       "  <tbody>\n",
       "    <tr>\n",
       "      <th>11380</th>\n",
       "      <td>2020-06-20 14:02:00</td>\n",
       "      <td>0001XX GRANT ST W</td>\n",
       "      <td>44.969863</td>\n",
       "      <td>-93.280080</td>\n",
       "      <td>LORING PARK</td>\n",
       "      <td>DOWNTOWN</td>\n",
       "      <td>THEFT</td>\n",
       "      <td>OTHER THEFT</td>\n",
       "      <td>7</td>\n",
       "      <td>2020</td>\n",
       "      <td>6</td>\n",
       "      <td>5</td>\n",
       "      <td>Saturday</td>\n",
       "      <td>14</td>\n",
       "      <td>LARCENY</td>\n",
       "      <td>-93.280080</td>\n",
       "      <td>44.969863</td>\n",
       "    </tr>\n",
       "    <tr>\n",
       "      <th>8731</th>\n",
       "      <td>2018-11-12 14:08:00</td>\n",
       "      <td>0018XX CHICAGO AVE</td>\n",
       "      <td>44.964567</td>\n",
       "      <td>-93.262554</td>\n",
       "      <td>VENTURA VILLAGE</td>\n",
       "      <td>SOUTHEAST</td>\n",
       "      <td>TBLDG</td>\n",
       "      <td>THEFT FROM BUILDING</td>\n",
       "      <td>7</td>\n",
       "      <td>2018</td>\n",
       "      <td>11</td>\n",
       "      <td>0</td>\n",
       "      <td>Monday</td>\n",
       "      <td>14</td>\n",
       "      <td>LARCENY</td>\n",
       "      <td>-93.262554</td>\n",
       "      <td>44.964567</td>\n",
       "    </tr>\n",
       "    <tr>\n",
       "      <th>3283</th>\n",
       "      <td>2018-07-18 11:45:00</td>\n",
       "      <td>0014XX NICOLLET AVE</td>\n",
       "      <td>44.968424</td>\n",
       "      <td>-93.277817</td>\n",
       "      <td>LORING PARK</td>\n",
       "      <td>DOWNTOWN</td>\n",
       "      <td>PETIT</td>\n",
       "      <td>OBS - PETTY THEFT</td>\n",
       "      <td>7</td>\n",
       "      <td>2018</td>\n",
       "      <td>7</td>\n",
       "      <td>2</td>\n",
       "      <td>Wednesday</td>\n",
       "      <td>11</td>\n",
       "      <td>LARCENY</td>\n",
       "      <td>-93.277817</td>\n",
       "      <td>44.968424</td>\n",
       "    </tr>\n",
       "    <tr>\n",
       "      <th>16375</th>\n",
       "      <td>2020-07-26 06:00:00</td>\n",
       "      <td>0009XX 28TH AVE NE</td>\n",
       "      <td>45.018586</td>\n",
       "      <td>-93.246420</td>\n",
       "      <td>AUDUBON PARK</td>\n",
       "      <td>NORTHEAST</td>\n",
       "      <td>TFMV</td>\n",
       "      <td>THEFT-MOTR VEH PARTS</td>\n",
       "      <td>7</td>\n",
       "      <td>2020</td>\n",
       "      <td>7</td>\n",
       "      <td>6</td>\n",
       "      <td>Sunday</td>\n",
       "      <td>6</td>\n",
       "      <td>LARCENY</td>\n",
       "      <td>-93.246420</td>\n",
       "      <td>45.018586</td>\n",
       "    </tr>\n",
       "    <tr>\n",
       "      <th>19965</th>\n",
       "      <td>2020-09-19 23:00:00</td>\n",
       "      <td>0026XX LYNDALE AVE S</td>\n",
       "      <td>44.954638</td>\n",
       "      <td>-93.288048</td>\n",
       "      <td>LOWRY HILL EAST</td>\n",
       "      <td>SOUTHWEST</td>\n",
       "      <td>BIKETF</td>\n",
       "      <td>BIKE THEFT</td>\n",
       "      <td>7</td>\n",
       "      <td>2020</td>\n",
       "      <td>9</td>\n",
       "      <td>5</td>\n",
       "      <td>Saturday</td>\n",
       "      <td>23</td>\n",
       "      <td>LARCENY</td>\n",
       "      <td>-93.288048</td>\n",
       "      <td>44.954638</td>\n",
       "    </tr>\n",
       "    <tr>\n",
       "      <th>14634</th>\n",
       "      <td>2020-06-04 11:15:00</td>\n",
       "      <td>0028XX STEVENS AVE</td>\n",
       "      <td>44.950150</td>\n",
       "      <td>-93.275367</td>\n",
       "      <td>WHITTIER</td>\n",
       "      <td>SOUTHWEST</td>\n",
       "      <td>BURGB</td>\n",
       "      <td>BURGLARY OF BUSINESS</td>\n",
       "      <td>6</td>\n",
       "      <td>2020</td>\n",
       "      <td>6</td>\n",
       "      <td>3</td>\n",
       "      <td>Thursday</td>\n",
       "      <td>11</td>\n",
       "      <td>BURGLARY</td>\n",
       "      <td>-93.275367</td>\n",
       "      <td>44.950150</td>\n",
       "    </tr>\n",
       "    <tr>\n",
       "      <th>7862</th>\n",
       "      <td>2019-05-09 22:00:00</td>\n",
       "      <td>0027XX IRVING AVE S</td>\n",
       "      <td>44.953341</td>\n",
       "      <td>-93.300904</td>\n",
       "      <td>EAST ISLES</td>\n",
       "      <td>SOUTHWEST</td>\n",
       "      <td>GTA</td>\n",
       "      <td>AUTOMOBILE THEFT</td>\n",
       "      <td>8</td>\n",
       "      <td>2019</td>\n",
       "      <td>5</td>\n",
       "      <td>3</td>\n",
       "      <td>Thursday</td>\n",
       "      <td>22</td>\n",
       "      <td>AUTO THEFT</td>\n",
       "      <td>-93.300904</td>\n",
       "      <td>44.953341</td>\n",
       "    </tr>\n",
       "    <tr>\n",
       "      <th>1809</th>\n",
       "      <td>2018-06-30 12:00:00</td>\n",
       "      <td>0054XX 34TH AVE S</td>\n",
       "      <td>44.904920</td>\n",
       "      <td>-93.222883</td>\n",
       "      <td>WENONAH</td>\n",
       "      <td>SOUTHEAST</td>\n",
       "      <td>BURGD</td>\n",
       "      <td>BURGLARY OF DWELLING</td>\n",
       "      <td>6</td>\n",
       "      <td>2018</td>\n",
       "      <td>6</td>\n",
       "      <td>5</td>\n",
       "      <td>Saturday</td>\n",
       "      <td>12</td>\n",
       "      <td>BURGLARY</td>\n",
       "      <td>-93.222883</td>\n",
       "      <td>44.904920</td>\n",
       "    </tr>\n",
       "  </tbody>\n",
       "</table>\n",
       "</div>"
      ],
      "text/plain": [
       "                     Dates               Address        Lat       Long  \\\n",
       "11380  2020-06-20 14:02:00     0001XX GRANT ST W  44.969863 -93.280080   \n",
       "8731   2018-11-12 14:08:00   0018XX CHICAGO AVE   44.964567 -93.262554   \n",
       "3283   2018-07-18 11:45:00  0014XX NICOLLET AVE   44.968424 -93.277817   \n",
       "16375  2020-07-26 06:00:00    0009XX 28TH AVE NE  45.018586 -93.246420   \n",
       "19965  2020-09-19 23:00:00  0026XX LYNDALE AVE S  44.954638 -93.288048   \n",
       "14634  2020-06-04 11:15:00   0028XX STEVENS AVE   44.950150 -93.275367   \n",
       "7862   2019-05-09 22:00:00   0027XX IRVING AVE S  44.953341 -93.300904   \n",
       "1809   2018-06-30 12:00:00     0054XX 34TH AVE S  44.904920 -93.222883   \n",
       "\n",
       "          Neighborhood   Precinct Offense                     Description  \\\n",
       "11380      LORING PARK   DOWNTOWN   THEFT  OTHER THEFT                      \n",
       "8731   VENTURA VILLAGE  SOUTHEAST   TBLDG  THEFT FROM BUILDING              \n",
       "3283       LORING PARK   DOWNTOWN   PETIT  OBS - PETTY THEFT                \n",
       "16375     AUDUBON PARK  NORTHEAST    TFMV  THEFT-MOTR VEH PARTS             \n",
       "19965  LOWRY HILL EAST  SOUTHWEST  BIKETF  BIKE THEFT                       \n",
       "14634         WHITTIER  SOUTHWEST   BURGB  BURGLARY OF BUSINESS             \n",
       "7862        EAST ISLES  SOUTHWEST     GTA  AUTOMOBILE THEFT                 \n",
       "1809           WENONAH  SOUTHEAST   BURGD  BURGLARY OF DWELLING             \n",
       "\n",
       "       UCRCode  Year  Month  DayOfWeek_Num  DayOfWeek  Hour    Category  \\\n",
       "11380        7  2020      6              5   Saturday    14     LARCENY   \n",
       "8731         7  2018     11              0     Monday    14     LARCENY   \n",
       "3283         7  2018      7              2  Wednesday    11     LARCENY   \n",
       "16375        7  2020      7              6     Sunday     6     LARCENY   \n",
       "19965        7  2020      9              5   Saturday    23     LARCENY   \n",
       "14634        6  2020      6              3   Thursday    11    BURGLARY   \n",
       "7862         8  2019      5              3   Thursday    22  AUTO THEFT   \n",
       "1809         6  2018      6              5   Saturday    12    BURGLARY   \n",
       "\n",
       "               X          Y  \n",
       "11380 -93.280080  44.969863  \n",
       "8731  -93.262554  44.964567  \n",
       "3283  -93.277817  44.968424  \n",
       "16375 -93.246420  45.018586  \n",
       "19965 -93.288048  44.954638  \n",
       "14634 -93.275367  44.950150  \n",
       "7862  -93.300904  44.953341  \n",
       "1809  -93.222883  44.904920  "
      ]
     },
     "metadata": {},
     "execution_count": 203
    }
   ],
   "metadata": {
    "ExecuteTime": {
     "end_time": "2018-09-15T00:10:22.460838Z",
     "start_time": "2018-09-15T00:10:22.438200Z"
    }
   }
  },
  {
   "cell_type": "code",
   "execution_count": null,
   "source": [
    "# len(train_df[train_df['Holiday'] == True])\n",
    "train_df.columns.values"
   ],
   "outputs": [
    {
     "output_type": "execute_result",
     "data": {
      "text/plain": [
       "array(['Dates', 'Address', 'Lat', 'Long', 'Neighborhood', 'Precinct',\n",
       "       'Offense', 'Description', 'UCRCode', 'Year', 'Month',\n",
       "       'DayOfWeek_Num', 'DayOfWeek', 'Hour', 'Category', 'X', 'Y'],\n",
       "      dtype=object)"
      ]
     },
     "metadata": {},
     "execution_count": 204
    }
   ],
   "metadata": {
    "ExecuteTime": {
     "end_time": "2018-09-15T00:10:22.468060Z",
     "start_time": "2018-09-15T00:10:22.462799Z"
    }
   }
  },
  {
   "cell_type": "code",
   "execution_count": null,
   "source": [
    "# set show nulls to True\n",
    "train_df.info(verbose=True, null_counts=True)"
   ],
   "outputs": [
    {
     "output_type": "stream",
     "name": "stdout",
     "text": [
      "<class 'pandas.core.frame.DataFrame'>\n",
      "Int64Index: 43504 entries, 11380 to 2916\n",
      "Data columns (total 17 columns):\n",
      " #   Column         Non-Null Count  Dtype  \n",
      "---  ------         --------------  -----  \n",
      " 0   Dates          43504 non-null  object \n",
      " 1   Address        43504 non-null  object \n",
      " 2   Lat            43504 non-null  float64\n",
      " 3   Long           43504 non-null  float64\n",
      " 4   Neighborhood   43504 non-null  object \n",
      " 5   Precinct       43504 non-null  object \n",
      " 6   Offense        43504 non-null  object \n",
      " 7   Description    43504 non-null  object \n",
      " 8   UCRCode        43504 non-null  int64  \n",
      " 9   Year           43504 non-null  int64  \n",
      " 10  Month          43504 non-null  int64  \n",
      " 11  DayOfWeek_Num  43504 non-null  int64  \n",
      " 12  DayOfWeek      43504 non-null  object \n",
      " 13  Hour           43504 non-null  int64  \n",
      " 14  Category       43504 non-null  object \n",
      " 15  X              43504 non-null  float64\n",
      " 16  Y              43504 non-null  float64\n",
      "dtypes: float64(4), int64(5), object(8)\n",
      "memory usage: 6.0+ MB\n"
     ]
    }
   ],
   "metadata": {
    "ExecuteTime": {
     "end_time": "2018-09-15T00:10:22.772448Z",
     "start_time": "2018-09-15T00:10:22.469783Z"
    }
   }
  },
  {
   "cell_type": "markdown",
   "source": [
    "------------\n",
    "### Things we learned thus far:\n",
    "\n",
    "- 878,049 instances in training set (or recorded crime instances in SF)\n",
    "- 9 columns (8 potential features + 1 label (Category))\n",
    "- Data types:\n",
    "    - 2 columns with float values\n",
    "    - 7 objects\n",
    "- There are no null (NaN) values (Yay!)"
   ],
   "metadata": {}
  },
  {
   "cell_type": "code",
   "execution_count": null,
   "source": [
    "## Count number of observations for each crime \n",
    "train_df['Category'].value_counts()"
   ],
   "outputs": [
    {
     "output_type": "execute_result",
     "data": {
      "text/plain": [
       "LARCENY       23537\n",
       "BURGLARY       7621\n",
       "AUTO THEFT     5827\n",
       "ASSAULT        3560\n",
       "ROBBERY        1987\n",
       "RAPE            715\n",
       "ARSON           171\n",
       "MURDER           86\n",
       "Name: Category, dtype: int64"
      ]
     },
     "metadata": {},
     "execution_count": 206
    }
   ],
   "metadata": {}
  },
  {
   "cell_type": "code",
   "execution_count": null,
   "source": [
    "# Count number of observations of crime for each PD District\n",
    "train_df['Precinct'].value_counts()"
   ],
   "outputs": [
    {
     "output_type": "execute_result",
     "data": {
      "text/plain": [
       "SOUTHEAST    12138\n",
       "SOUTHWEST     9599\n",
       "DOWNTOWN      7708\n",
       "NORTH         7539\n",
       "NORTHEAST     6520\n",
       "Name: Precinct, dtype: int64"
      ]
     },
     "metadata": {},
     "execution_count": 207
    }
   ],
   "metadata": {
    "ExecuteTime": {
     "end_time": "2018-09-15T00:10:22.891578Z",
     "start_time": "2018-09-15T00:10:22.791301Z"
    }
   }
  },
  {
   "cell_type": "code",
   "execution_count": null,
   "source": [
    "#len(train_df[train_df['Holiday'] == True])\n",
    "train_df['Precinct'].value_counts()"
   ],
   "outputs": [
    {
     "output_type": "execute_result",
     "data": {
      "text/plain": [
       "SOUTHEAST    12138\n",
       "SOUTHWEST     9599\n",
       "DOWNTOWN      7708\n",
       "NORTH         7539\n",
       "NORTHEAST     6520\n",
       "Name: Precinct, dtype: int64"
      ]
     },
     "metadata": {},
     "execution_count": 208
    }
   ],
   "metadata": {
    "ExecuteTime": {
     "end_time": "2018-09-15T00:10:22.992868Z",
     "start_time": "2018-09-15T00:10:22.893918Z"
    }
   }
  },
  {
   "cell_type": "code",
   "execution_count": null,
   "source": [
    "# len(train_df[train_df['Holiday'] == True])\n",
    "# train_df['DayOfWeek'].value_counts()"
   ],
   "outputs": [],
   "metadata": {
    "ExecuteTime": {
     "end_time": "2018-09-15T00:10:23.086159Z",
     "start_time": "2018-09-15T00:10:22.995288Z"
    }
   }
  },
  {
   "cell_type": "code",
   "execution_count": null,
   "source": [
    "# ## Count number of observations for Resolution feature\n",
    "# train_df['Resolution'].value_counts()"
   ],
   "outputs": [],
   "metadata": {
    "ExecuteTime": {
     "end_time": "2018-09-15T00:10:23.187282Z",
     "start_time": "2018-09-15T00:10:23.088498Z"
    }
   }
  },
  {
   "cell_type": "code",
   "execution_count": null,
   "source": [
    "train_df[['X','Y']].describe()"
   ],
   "outputs": [
    {
     "output_type": "execute_result",
     "data": {
      "text/html": [
       "<div>\n",
       "<style scoped>\n",
       "    .dataframe tbody tr th:only-of-type {\n",
       "        vertical-align: middle;\n",
       "    }\n",
       "\n",
       "    .dataframe tbody tr th {\n",
       "        vertical-align: top;\n",
       "    }\n",
       "\n",
       "    .dataframe thead th {\n",
       "        text-align: right;\n",
       "    }\n",
       "</style>\n",
       "<table border=\"1\" class=\"dataframe\">\n",
       "  <thead>\n",
       "    <tr style=\"text-align: right;\">\n",
       "      <th></th>\n",
       "      <th>X</th>\n",
       "      <th>Y</th>\n",
       "    </tr>\n",
       "  </thead>\n",
       "  <tbody>\n",
       "    <tr>\n",
       "      <th>count</th>\n",
       "      <td>43504.000000</td>\n",
       "      <td>43504.000000</td>\n",
       "    </tr>\n",
       "    <tr>\n",
       "      <th>mean</th>\n",
       "      <td>-93.263689</td>\n",
       "      <td>44.965419</td>\n",
       "    </tr>\n",
       "    <tr>\n",
       "      <th>std</th>\n",
       "      <td>0.632978</td>\n",
       "      <td>0.306617</td>\n",
       "    </tr>\n",
       "    <tr>\n",
       "      <th>min</th>\n",
       "      <td>-93.329109</td>\n",
       "      <td>0.000000</td>\n",
       "    </tr>\n",
       "    <tr>\n",
       "      <th>25%</th>\n",
       "      <td>-93.288874</td>\n",
       "      <td>44.948347</td>\n",
       "    </tr>\n",
       "    <tr>\n",
       "      <th>50%</th>\n",
       "      <td>-93.271699</td>\n",
       "      <td>44.965746</td>\n",
       "    </tr>\n",
       "    <tr>\n",
       "      <th>75%</th>\n",
       "      <td>-93.247352</td>\n",
       "      <td>44.987328</td>\n",
       "    </tr>\n",
       "    <tr>\n",
       "      <th>max</th>\n",
       "      <td>0.000000</td>\n",
       "      <td>45.051227</td>\n",
       "    </tr>\n",
       "  </tbody>\n",
       "</table>\n",
       "</div>"
      ],
      "text/plain": [
       "                  X             Y\n",
       "count  43504.000000  43504.000000\n",
       "mean     -93.263689     44.965419\n",
       "std        0.632978      0.306617\n",
       "min      -93.329109      0.000000\n",
       "25%      -93.288874     44.948347\n",
       "50%      -93.271699     44.965746\n",
       "75%      -93.247352     44.987328\n",
       "max        0.000000     45.051227"
      ]
     },
     "metadata": {},
     "execution_count": 211
    }
   ],
   "metadata": {
    "ExecuteTime": {
     "end_time": "2018-09-15T00:10:23.339069Z",
     "start_time": "2018-09-15T00:10:23.189621Z"
    }
   }
  },
  {
   "cell_type": "markdown",
   "source": [
    "**There seems to be an invalid coordinates (max) 90 (latitude) or -120.5 (longitude) does not seem to be a valid coordinate in San Francisco. We must fix these values for this feature.**"
   ],
   "metadata": {}
  },
  {
   "cell_type": "markdown",
   "source": [
    "# Data Preprocessing\n",
    "\n",
    "- Data cleaning\n",
    "    - imputation or removal of outlier values\n",
    "- Feature Engineering (Feature Creation)\n",
    "- Feature Encoding\n",
    "    - **Integer encode** or **label encode** ordinal categorical features that maintain order (Year, Business Quarter, Block/Street Number)\n",
    "    - Usually: \n",
    "        - **One hot encode** nominal categorical features (DayOfWeek, Precinct, StreetType, Category)\n",
    "            - mainly for logistic regression\n",
    "        - However, Random Forests & Boosting algorithms can handle nominal categorical features directly, so we just **integer encode** these features."
   ],
   "metadata": {}
  },
  {
   "cell_type": "code",
   "execution_count": null,
   "source": [
    "train_df['UCRCode'] = train_df['UCRCode'].astype(int)\n",
    "#test_df['BusinessHour'] = test_df['Dates'].map(map_business_hours).astype('uint8')"
   ],
   "outputs": [],
   "metadata": {}
  },
  {
   "cell_type": "markdown",
   "source": [
    "## Data Cleaning\n",
    "\n",
    "- Data removal\n",
    "- Data imputation"
   ],
   "metadata": {}
  },
  {
   "cell_type": "code",
   "execution_count": null,
   "source": [
    "train_df[train_df['Y'] == train_df['Y'].max()]"
   ],
   "outputs": [
    {
     "output_type": "execute_result",
     "data": {
      "text/html": [
       "<div>\n",
       "<style scoped>\n",
       "    .dataframe tbody tr th:only-of-type {\n",
       "        vertical-align: middle;\n",
       "    }\n",
       "\n",
       "    .dataframe tbody tr th {\n",
       "        vertical-align: top;\n",
       "    }\n",
       "\n",
       "    .dataframe thead th {\n",
       "        text-align: right;\n",
       "    }\n",
       "</style>\n",
       "<table border=\"1\" class=\"dataframe\">\n",
       "  <thead>\n",
       "    <tr style=\"text-align: right;\">\n",
       "      <th></th>\n",
       "      <th>Dates</th>\n",
       "      <th>Address</th>\n",
       "      <th>Lat</th>\n",
       "      <th>Long</th>\n",
       "      <th>Neighborhood</th>\n",
       "      <th>Precinct</th>\n",
       "      <th>Offense</th>\n",
       "      <th>Description</th>\n",
       "      <th>UCRCode</th>\n",
       "      <th>Year</th>\n",
       "      <th>Month</th>\n",
       "      <th>DayOfWeek_Num</th>\n",
       "      <th>DayOfWeek</th>\n",
       "      <th>Hour</th>\n",
       "      <th>Category</th>\n",
       "      <th>X</th>\n",
       "      <th>Y</th>\n",
       "    </tr>\n",
       "  </thead>\n",
       "  <tbody>\n",
       "    <tr>\n",
       "      <th>7253</th>\n",
       "      <td>2018-10-29 23:00:00</td>\n",
       "      <td>0023XX 53RD AVE N</td>\n",
       "      <td>45.051227</td>\n",
       "      <td>-93.311238</td>\n",
       "      <td>SHINGLE CREEK</td>\n",
       "      <td>NORTH</td>\n",
       "      <td>TFMV</td>\n",
       "      <td>THEFT FROM MOTR VEHC</td>\n",
       "      <td>7</td>\n",
       "      <td>2018</td>\n",
       "      <td>10</td>\n",
       "      <td>0</td>\n",
       "      <td>Monday</td>\n",
       "      <td>23</td>\n",
       "      <td>LARCENY</td>\n",
       "      <td>-93.311238</td>\n",
       "      <td>45.051227</td>\n",
       "    </tr>\n",
       "  </tbody>\n",
       "</table>\n",
       "</div>"
      ],
      "text/plain": [
       "                    Dates            Address        Lat       Long  \\\n",
       "7253  2018-10-29 23:00:00  0023XX 53RD AVE N  45.051227 -93.311238   \n",
       "\n",
       "       Neighborhood Precinct Offense                     Description  UCRCode  \\\n",
       "7253  SHINGLE CREEK    NORTH    TFMV  THEFT FROM MOTR VEHC                  7   \n",
       "\n",
       "      Year  Month  DayOfWeek_Num DayOfWeek  Hour Category          X  \\\n",
       "7253  2018     10              0    Monday    23  LARCENY -93.311238   \n",
       "\n",
       "              Y  \n",
       "7253  45.051227  "
      ]
     },
     "metadata": {},
     "execution_count": 213
    }
   ],
   "metadata": {
    "ExecuteTime": {
     "end_time": "2018-09-15T00:10:23.382595Z",
     "start_time": "2018-09-15T00:10:23.341391Z"
    }
   }
  },
  {
   "cell_type": "markdown",
   "source": [
    "I notice that there are 108 rows with incorrect coordinates, and they seem to be the exact same two coordinates (90, -120.5). There are many ways to handle this. We need to do data imputation, which can be done several ways. For now, I will randomly sample from a normal distribution with the range of a standard deviation from the mean. However, I could use a linear regression model to predict the latitude and longitude values (based on other variables such as PD district?) and use that to impute the bad / inconsistent data points.\n",
    "\n",
    "Another method is to completely remove this data. Since I already have a lot of data, and I do not want this incorrect data to affect my results, I could remove them. However, I will stick with data imputation."
   ],
   "metadata": {}
  },
  {
   "cell_type": "code",
   "execution_count": null,
   "source": [
    "len(train_df)\n",
    "# train_df['X'].replace(to_replace= train_df['X'].max() ,value=np.nan, inplace=True)\n",
    "# test_df['Y'].replace(to_replace= test_df['Y'].max() ,value=np.nan, inplace=True)\n",
    "# test_df['X'].replace(to_replace= test_df['X'].max() ,value=np.nan, inplace=True)\n",
    "train_df.dropna(inplace=True)\n",
    "train_df.dropna(inplace=True)"
   ],
   "outputs": [],
   "metadata": {
    "ExecuteTime": {
     "end_time": "2018-09-15T00:10:23.415432Z",
     "start_time": "2018-09-15T00:10:23.385191Z"
    }
   }
  },
  {
   "cell_type": "code",
   "execution_count": null,
   "source": [
    "train_df.isnull().sum()"
   ],
   "outputs": [
    {
     "output_type": "execute_result",
     "data": {
      "text/plain": [
       "Dates            0\n",
       "Address          0\n",
       "Lat              0\n",
       "Long             0\n",
       "Neighborhood     0\n",
       "Precinct         0\n",
       "Offense          0\n",
       "Description      0\n",
       "UCRCode          0\n",
       "Year             0\n",
       "Month            0\n",
       "DayOfWeek_Num    0\n",
       "DayOfWeek        0\n",
       "Hour             0\n",
       "Category         0\n",
       "X                0\n",
       "Y                0\n",
       "dtype: int64"
      ]
     },
     "metadata": {},
     "execution_count": 215
    }
   ],
   "metadata": {
    "ExecuteTime": {
     "end_time": "2018-09-15T00:10:23.917984Z",
     "start_time": "2018-09-15T00:10:23.417166Z"
    }
   }
  },
  {
   "cell_type": "code",
   "execution_count": null,
   "source": [
    "test_df.isnull().sum()"
   ],
   "outputs": [
    {
     "output_type": "execute_result",
     "data": {
      "text/plain": [
       "Dates            0\n",
       "Address          0\n",
       "Lat              0\n",
       "Long             0\n",
       "Neighborhood     0\n",
       "Precinct         0\n",
       "Offense          0\n",
       "Description      0\n",
       "UCRCode          0\n",
       "Year             0\n",
       "Month            0\n",
       "DayOfWeek_Num    0\n",
       "DayOfWeek        0\n",
       "Hour             0\n",
       "Category         0\n",
       "X                0\n",
       "Y                0\n",
       "dtype: int64"
      ]
     },
     "metadata": {},
     "execution_count": 216
    }
   ],
   "metadata": {
    "ExecuteTime": {
     "end_time": "2018-09-15T00:10:24.145140Z",
     "start_time": "2018-09-15T00:10:23.920445Z"
    }
   }
  },
  {
   "cell_type": "code",
   "execution_count": null,
   "source": [
    "train_df.dropna(inplace=True)\n",
    "test_df.dropna(inplace=False)"
   ],
   "outputs": [
    {
     "output_type": "execute_result",
     "data": {
      "text/html": [
       "<div>\n",
       "<style scoped>\n",
       "    .dataframe tbody tr th:only-of-type {\n",
       "        vertical-align: middle;\n",
       "    }\n",
       "\n",
       "    .dataframe tbody tr th {\n",
       "        vertical-align: top;\n",
       "    }\n",
       "\n",
       "    .dataframe thead th {\n",
       "        text-align: right;\n",
       "    }\n",
       "</style>\n",
       "<table border=\"1\" class=\"dataframe\">\n",
       "  <thead>\n",
       "    <tr style=\"text-align: right;\">\n",
       "      <th></th>\n",
       "      <th>Dates</th>\n",
       "      <th>Address</th>\n",
       "      <th>Lat</th>\n",
       "      <th>Long</th>\n",
       "      <th>Neighborhood</th>\n",
       "      <th>Precinct</th>\n",
       "      <th>Offense</th>\n",
       "      <th>Description</th>\n",
       "      <th>UCRCode</th>\n",
       "      <th>Year</th>\n",
       "      <th>Month</th>\n",
       "      <th>DayOfWeek_Num</th>\n",
       "      <th>DayOfWeek</th>\n",
       "      <th>Hour</th>\n",
       "      <th>Category</th>\n",
       "      <th>X</th>\n",
       "      <th>Y</th>\n",
       "    </tr>\n",
       "  </thead>\n",
       "  <tbody>\n",
       "    <tr>\n",
       "      <th>22106</th>\n",
       "      <td>2019-01-02 16:00:00</td>\n",
       "      <td>0009XX 4TH ST N</td>\n",
       "      <td>44.987210</td>\n",
       "      <td>-93.280944</td>\n",
       "      <td>NORTH LOOP</td>\n",
       "      <td>DOWNTOWN</td>\n",
       "      <td>CSCR</td>\n",
       "      <td>CSC - RAPE</td>\n",
       "      <td>3</td>\n",
       "      <td>2019</td>\n",
       "      <td>1</td>\n",
       "      <td>2</td>\n",
       "      <td>Wednesday</td>\n",
       "      <td>16</td>\n",
       "      <td>RAPE</td>\n",
       "      <td>-93.280944</td>\n",
       "      <td>44.987210</td>\n",
       "    </tr>\n",
       "    <tr>\n",
       "      <th>3396</th>\n",
       "      <td>2018-07-31 00:00:00</td>\n",
       "      <td>0011XX HENNEPIN AVE</td>\n",
       "      <td>44.975034</td>\n",
       "      <td>-93.279723</td>\n",
       "      <td>DOWNTOWN WEST</td>\n",
       "      <td>DOWNTOWN</td>\n",
       "      <td>ROBPAG</td>\n",
       "      <td>ROBBERY PER AGG</td>\n",
       "      <td>4</td>\n",
       "      <td>2018</td>\n",
       "      <td>7</td>\n",
       "      <td>1</td>\n",
       "      <td>Tuesday</td>\n",
       "      <td>0</td>\n",
       "      <td>ROBBERY</td>\n",
       "      <td>-93.279723</td>\n",
       "      <td>44.975034</td>\n",
       "    </tr>\n",
       "    <tr>\n",
       "      <th>16558</th>\n",
       "      <td>2019-05-28 19:15:00</td>\n",
       "      <td>0013XX 4TH ST SE</td>\n",
       "      <td>44.980767</td>\n",
       "      <td>-93.236473</td>\n",
       "      <td>MARCY HOLMES</td>\n",
       "      <td>NORTHEAST</td>\n",
       "      <td>THEFT</td>\n",
       "      <td>OTHER THEFT</td>\n",
       "      <td>7</td>\n",
       "      <td>2019</td>\n",
       "      <td>5</td>\n",
       "      <td>1</td>\n",
       "      <td>Tuesday</td>\n",
       "      <td>19</td>\n",
       "      <td>LARCENY</td>\n",
       "      <td>-93.236473</td>\n",
       "      <td>44.980767</td>\n",
       "    </tr>\n",
       "    <tr>\n",
       "      <th>14724</th>\n",
       "      <td>2020-07-03 21:00:00</td>\n",
       "      <td>0008XX 5TH AVE N</td>\n",
       "      <td>44.982787</td>\n",
       "      <td>-93.290185</td>\n",
       "      <td>SUMNER - GLENWOOD</td>\n",
       "      <td>NORTH</td>\n",
       "      <td>TFMV</td>\n",
       "      <td>THEFT FROM MOTR VEHC</td>\n",
       "      <td>7</td>\n",
       "      <td>2020</td>\n",
       "      <td>7</td>\n",
       "      <td>4</td>\n",
       "      <td>Friday</td>\n",
       "      <td>21</td>\n",
       "      <td>LARCENY</td>\n",
       "      <td>-93.290185</td>\n",
       "      <td>44.982787</td>\n",
       "    </tr>\n",
       "    <tr>\n",
       "      <th>21138</th>\n",
       "      <td>2019-02-27 06:50:00</td>\n",
       "      <td>0029XX 46TH AVE S</td>\n",
       "      <td>44.950453</td>\n",
       "      <td>-93.207583</td>\n",
       "      <td>COOPER</td>\n",
       "      <td>SOUTHEAST</td>\n",
       "      <td>BURGD</td>\n",
       "      <td>BURGLARY OF DWELLING</td>\n",
       "      <td>6</td>\n",
       "      <td>2019</td>\n",
       "      <td>2</td>\n",
       "      <td>2</td>\n",
       "      <td>Wednesday</td>\n",
       "      <td>6</td>\n",
       "      <td>BURGLARY</td>\n",
       "      <td>-93.207583</td>\n",
       "      <td>44.950453</td>\n",
       "    </tr>\n",
       "    <tr>\n",
       "      <th>...</th>\n",
       "      <td>...</td>\n",
       "      <td>...</td>\n",
       "      <td>...</td>\n",
       "      <td>...</td>\n",
       "      <td>...</td>\n",
       "      <td>...</td>\n",
       "      <td>...</td>\n",
       "      <td>...</td>\n",
       "      <td>...</td>\n",
       "      <td>...</td>\n",
       "      <td>...</td>\n",
       "      <td>...</td>\n",
       "      <td>...</td>\n",
       "      <td>...</td>\n",
       "      <td>...</td>\n",
       "      <td>...</td>\n",
       "      <td>...</td>\n",
       "    </tr>\n",
       "    <tr>\n",
       "      <th>5009</th>\n",
       "      <td>2018-05-13 21:30:00</td>\n",
       "      <td>0006XX 16 ST E</td>\n",
       "      <td>44.967168</td>\n",
       "      <td>-93.266383</td>\n",
       "      <td>ELLIOT PARK</td>\n",
       "      <td>DOWNTOWN</td>\n",
       "      <td>TFMV</td>\n",
       "      <td>Theft From Motr Vehc</td>\n",
       "      <td>7</td>\n",
       "      <td>2018</td>\n",
       "      <td>5</td>\n",
       "      <td>6</td>\n",
       "      <td>Sunday</td>\n",
       "      <td>21</td>\n",
       "      <td>LARCENY</td>\n",
       "      <td>-93.266383</td>\n",
       "      <td>44.967168</td>\n",
       "    </tr>\n",
       "    <tr>\n",
       "      <th>5469</th>\n",
       "      <td>2018-09-30 19:49:00</td>\n",
       "      <td>0029XX PORTLAND AVE</td>\n",
       "      <td>44.949214</td>\n",
       "      <td>-93.267751</td>\n",
       "      <td>PHILLIPS WEST</td>\n",
       "      <td>SOUTHEAST</td>\n",
       "      <td>ASLT1</td>\n",
       "      <td>ASLT-GREAT BODILY HM</td>\n",
       "      <td>5</td>\n",
       "      <td>2018</td>\n",
       "      <td>9</td>\n",
       "      <td>6</td>\n",
       "      <td>Sunday</td>\n",
       "      <td>19</td>\n",
       "      <td>ASSAULT</td>\n",
       "      <td>-93.267751</td>\n",
       "      <td>44.949214</td>\n",
       "    </tr>\n",
       "    <tr>\n",
       "      <th>1922</th>\n",
       "      <td>2018-03-11 23:58:59</td>\n",
       "      <td>0007XX Penn AV N</td>\n",
       "      <td>44.985310</td>\n",
       "      <td>-93.308292</td>\n",
       "      <td>NEAR - NORTH</td>\n",
       "      <td>NORTH</td>\n",
       "      <td>GTA</td>\n",
       "      <td>Motor Vehicle Theft</td>\n",
       "      <td>8</td>\n",
       "      <td>2018</td>\n",
       "      <td>3</td>\n",
       "      <td>6</td>\n",
       "      <td>Sunday</td>\n",
       "      <td>23</td>\n",
       "      <td>AUTO THEFT</td>\n",
       "      <td>-93.308292</td>\n",
       "      <td>44.985310</td>\n",
       "    </tr>\n",
       "    <tr>\n",
       "      <th>12388</th>\n",
       "      <td>2020-10-16 03:55:00</td>\n",
       "      <td>0033XX HIAWATHA AVE</td>\n",
       "      <td>44.941249</td>\n",
       "      <td>-93.233428</td>\n",
       "      <td>LONGFELLOW</td>\n",
       "      <td>SOUTHEAST</td>\n",
       "      <td>GTA</td>\n",
       "      <td>AUTOMOBILE THEFT</td>\n",
       "      <td>8</td>\n",
       "      <td>2020</td>\n",
       "      <td>10</td>\n",
       "      <td>4</td>\n",
       "      <td>Friday</td>\n",
       "      <td>3</td>\n",
       "      <td>AUTO THEFT</td>\n",
       "      <td>-93.233428</td>\n",
       "      <td>44.941249</td>\n",
       "    </tr>\n",
       "    <tr>\n",
       "      <th>11765</th>\n",
       "      <td>2020-10-01 01:45:00</td>\n",
       "      <td>0044XX UPTON AVE S</td>\n",
       "      <td>44.922448</td>\n",
       "      <td>-93.315085</td>\n",
       "      <td>LINDEN HILLS</td>\n",
       "      <td>SOUTHWEST</td>\n",
       "      <td>BURGB</td>\n",
       "      <td>BURGLARY OF BUSINESS</td>\n",
       "      <td>6</td>\n",
       "      <td>2020</td>\n",
       "      <td>10</td>\n",
       "      <td>3</td>\n",
       "      <td>Thursday</td>\n",
       "      <td>1</td>\n",
       "      <td>BURGLARY</td>\n",
       "      <td>-93.315085</td>\n",
       "      <td>44.922448</td>\n",
       "    </tr>\n",
       "  </tbody>\n",
       "</table>\n",
       "<p>14502 rows × 17 columns</p>\n",
       "</div>"
      ],
      "text/plain": [
       "                     Dates               Address        Lat       Long  \\\n",
       "22106  2019-01-02 16:00:00       0009XX 4TH ST N  44.987210 -93.280944   \n",
       "3396   2018-07-31 00:00:00  0011XX HENNEPIN AVE   44.975034 -93.279723   \n",
       "16558  2019-05-28 19:15:00      0013XX 4TH ST SE  44.980767 -93.236473   \n",
       "14724  2020-07-03 21:00:00      0008XX 5TH AVE N  44.982787 -93.290185   \n",
       "21138  2019-02-27 06:50:00     0029XX 46TH AVE S  44.950453 -93.207583   \n",
       "...                    ...                   ...        ...        ...   \n",
       "5009   2018-05-13 21:30:00        0006XX 16 ST E  44.967168 -93.266383   \n",
       "5469   2018-09-30 19:49:00  0029XX PORTLAND AVE   44.949214 -93.267751   \n",
       "1922   2018-03-11 23:58:59      0007XX Penn AV N  44.985310 -93.308292   \n",
       "12388  2020-10-16 03:55:00  0033XX HIAWATHA AVE   44.941249 -93.233428   \n",
       "11765  2020-10-01 01:45:00    0044XX UPTON AVE S  44.922448 -93.315085   \n",
       "\n",
       "            Neighborhood   Precinct Offense                     Description  \\\n",
       "22106         NORTH LOOP   DOWNTOWN    CSCR  CSC - RAPE                       \n",
       "3396       DOWNTOWN WEST   DOWNTOWN  ROBPAG  ROBBERY PER AGG                  \n",
       "16558       MARCY HOLMES  NORTHEAST   THEFT  OTHER THEFT                      \n",
       "14724  SUMNER - GLENWOOD      NORTH    TFMV  THEFT FROM MOTR VEHC             \n",
       "21138             COOPER  SOUTHEAST   BURGD  BURGLARY OF DWELLING             \n",
       "...                  ...        ...     ...                             ...   \n",
       "5009         ELLIOT PARK   DOWNTOWN    TFMV            Theft From Motr Vehc   \n",
       "5469       PHILLIPS WEST  SOUTHEAST   ASLT1  ASLT-GREAT BODILY HM             \n",
       "1922        NEAR - NORTH      NORTH     GTA             Motor Vehicle Theft   \n",
       "12388         LONGFELLOW  SOUTHEAST     GTA  AUTOMOBILE THEFT                 \n",
       "11765       LINDEN HILLS  SOUTHWEST   BURGB  BURGLARY OF BUSINESS             \n",
       "\n",
       "       UCRCode  Year  Month  DayOfWeek_Num  DayOfWeek  Hour    Category  \\\n",
       "22106        3  2019      1              2  Wednesday    16        RAPE   \n",
       "3396         4  2018      7              1    Tuesday     0     ROBBERY   \n",
       "16558        7  2019      5              1    Tuesday    19     LARCENY   \n",
       "14724        7  2020      7              4     Friday    21     LARCENY   \n",
       "21138        6  2019      2              2  Wednesday     6    BURGLARY   \n",
       "...        ...   ...    ...            ...        ...   ...         ...   \n",
       "5009         7  2018      5              6     Sunday    21     LARCENY   \n",
       "5469         5  2018      9              6     Sunday    19     ASSAULT   \n",
       "1922         8  2018      3              6     Sunday    23  AUTO THEFT   \n",
       "12388        8  2020     10              4     Friday     3  AUTO THEFT   \n",
       "11765        6  2020     10              3   Thursday     1    BURGLARY   \n",
       "\n",
       "               X          Y  \n",
       "22106 -93.280944  44.987210  \n",
       "3396  -93.279723  44.975034  \n",
       "16558 -93.236473  44.980767  \n",
       "14724 -93.290185  44.982787  \n",
       "21138 -93.207583  44.950453  \n",
       "...          ...        ...  \n",
       "5009  -93.266383  44.967168  \n",
       "5469  -93.267751  44.949214  \n",
       "1922  -93.308292  44.985310  \n",
       "12388 -93.233428  44.941249  \n",
       "11765 -93.315085  44.922448  \n",
       "\n",
       "[14502 rows x 17 columns]"
      ]
     },
     "metadata": {},
     "execution_count": 217
    }
   ],
   "metadata": {}
  },
  {
   "cell_type": "code",
   "execution_count": null,
   "source": [
    "# data = [train_df, test_df]\n",
    "\n",
    "# for dataset in data:\n",
    "#     mean_X = dataset[\"X\"].mean()\n",
    "#     std_X = dataset[\"X\"].std()\n",
    "#     mean_Y = dataset[\"Y\"].mean()\n",
    "#     std_Y = dataset[\"Y\"].std()\n",
    "#     max_X = mean_X + std_X\n",
    "#     min_X = mean_X - std_X\n",
    "#     max_Y = mean_Y + std_Y\n",
    "#     min_Y = mean_Y - std_Y\n",
    "\n",
    "#     # Both X and Y will have the same null so just use Y\n",
    "#     is_null = dataset['Y'].isnull().sum()\n",
    "#     # randomly sample float numbers within a range from a uniform distribution\n",
    "# #     random_X = (max_X - min_X) * np.random.random_sample(size = is_null) + min_X\n",
    "# #     random_Y = (max_Y - min_Y) * np.random.random_sample(size = is_null) + min_Y\n",
    "#     # randomly sample float numbers within a range from a normal distribution\n",
    "#     random_X = (max_X - min_X) * np.random.randn(is_null) + min_X\n",
    "#     random_Y = (max_Y - min_Y) * np.random.randn(is_null) + min_Y\n",
    "\n",
    "#     X_slice = dataset['X'].copy()\n",
    "#     Y_slice = dataset['Y'].copy()\n",
    "#     X_slice[np.isnan(X_slice)] = random_X\n",
    "#     Y_slice[np.isnan(Y_slice)] = random_Y\n",
    "#     dataset['X'] = X_slice\n",
    "#     dataset['Y'] = Y_slice\n"
   ],
   "outputs": [],
   "metadata": {
    "ExecuteTime": {
     "end_time": "2018-09-15T00:10:24.366520Z",
     "start_time": "2018-09-15T00:10:24.147409Z"
    }
   }
  },
  {
   "cell_type": "code",
   "execution_count": null,
   "source": [
    "train_df[['X', 'Y']].describe()"
   ],
   "outputs": [
    {
     "output_type": "execute_result",
     "data": {
      "text/html": [
       "<div>\n",
       "<style scoped>\n",
       "    .dataframe tbody tr th:only-of-type {\n",
       "        vertical-align: middle;\n",
       "    }\n",
       "\n",
       "    .dataframe tbody tr th {\n",
       "        vertical-align: top;\n",
       "    }\n",
       "\n",
       "    .dataframe thead th {\n",
       "        text-align: right;\n",
       "    }\n",
       "</style>\n",
       "<table border=\"1\" class=\"dataframe\">\n",
       "  <thead>\n",
       "    <tr style=\"text-align: right;\">\n",
       "      <th></th>\n",
       "      <th>X</th>\n",
       "      <th>Y</th>\n",
       "    </tr>\n",
       "  </thead>\n",
       "  <tbody>\n",
       "    <tr>\n",
       "      <th>count</th>\n",
       "      <td>43504.000000</td>\n",
       "      <td>43504.000000</td>\n",
       "    </tr>\n",
       "    <tr>\n",
       "      <th>mean</th>\n",
       "      <td>-93.263689</td>\n",
       "      <td>44.965419</td>\n",
       "    </tr>\n",
       "    <tr>\n",
       "      <th>std</th>\n",
       "      <td>0.632978</td>\n",
       "      <td>0.306617</td>\n",
       "    </tr>\n",
       "    <tr>\n",
       "      <th>min</th>\n",
       "      <td>-93.329109</td>\n",
       "      <td>0.000000</td>\n",
       "    </tr>\n",
       "    <tr>\n",
       "      <th>25%</th>\n",
       "      <td>-93.288874</td>\n",
       "      <td>44.948347</td>\n",
       "    </tr>\n",
       "    <tr>\n",
       "      <th>50%</th>\n",
       "      <td>-93.271699</td>\n",
       "      <td>44.965746</td>\n",
       "    </tr>\n",
       "    <tr>\n",
       "      <th>75%</th>\n",
       "      <td>-93.247352</td>\n",
       "      <td>44.987328</td>\n",
       "    </tr>\n",
       "    <tr>\n",
       "      <th>max</th>\n",
       "      <td>0.000000</td>\n",
       "      <td>45.051227</td>\n",
       "    </tr>\n",
       "  </tbody>\n",
       "</table>\n",
       "</div>"
      ],
      "text/plain": [
       "                  X             Y\n",
       "count  43504.000000  43504.000000\n",
       "mean     -93.263689     44.965419\n",
       "std        0.632978      0.306617\n",
       "min      -93.329109      0.000000\n",
       "25%      -93.288874     44.948347\n",
       "50%      -93.271699     44.965746\n",
       "75%      -93.247352     44.987328\n",
       "max        0.000000     45.051227"
      ]
     },
     "metadata": {},
     "execution_count": 219
    }
   ],
   "metadata": {
    "ExecuteTime": {
     "end_time": "2018-09-15T00:10:24.551483Z",
     "start_time": "2018-09-15T00:10:24.368883Z"
    }
   }
  },
  {
   "cell_type": "code",
   "execution_count": null,
   "source": [
    "len(train_df)"
   ],
   "outputs": [
    {
     "output_type": "execute_result",
     "data": {
      "text/plain": [
       "43504"
      ]
     },
     "metadata": {},
     "execution_count": 220
    }
   ],
   "metadata": {
    "ExecuteTime": {
     "end_time": "2018-09-15T00:10:24.558034Z",
     "start_time": "2018-09-15T00:10:24.553530Z"
    }
   }
  },
  {
   "cell_type": "code",
   "execution_count": null,
   "source": [
    "test_df[['X', 'Y']].describe()"
   ],
   "outputs": [
    {
     "output_type": "execute_result",
     "data": {
      "text/html": [
       "<div>\n",
       "<style scoped>\n",
       "    .dataframe tbody tr th:only-of-type {\n",
       "        vertical-align: middle;\n",
       "    }\n",
       "\n",
       "    .dataframe tbody tr th {\n",
       "        vertical-align: top;\n",
       "    }\n",
       "\n",
       "    .dataframe thead th {\n",
       "        text-align: right;\n",
       "    }\n",
       "</style>\n",
       "<table border=\"1\" class=\"dataframe\">\n",
       "  <thead>\n",
       "    <tr style=\"text-align: right;\">\n",
       "      <th></th>\n",
       "      <th>X</th>\n",
       "      <th>Y</th>\n",
       "    </tr>\n",
       "  </thead>\n",
       "  <tbody>\n",
       "    <tr>\n",
       "      <th>count</th>\n",
       "      <td>14502.000000</td>\n",
       "      <td>14502.000000</td>\n",
       "    </tr>\n",
       "    <tr>\n",
       "      <th>mean</th>\n",
       "      <td>-93.267373</td>\n",
       "      <td>44.967446</td>\n",
       "    </tr>\n",
       "    <tr>\n",
       "      <th>std</th>\n",
       "      <td>0.027491</td>\n",
       "      <td>0.032305</td>\n",
       "    </tr>\n",
       "    <tr>\n",
       "      <th>min</th>\n",
       "      <td>-93.329109</td>\n",
       "      <td>44.890627</td>\n",
       "    </tr>\n",
       "    <tr>\n",
       "      <th>25%</th>\n",
       "      <td>-93.288308</td>\n",
       "      <td>44.948347</td>\n",
       "    </tr>\n",
       "    <tr>\n",
       "      <th>50%</th>\n",
       "      <td>-93.270298</td>\n",
       "      <td>44.965938</td>\n",
       "    </tr>\n",
       "    <tr>\n",
       "      <th>75%</th>\n",
       "      <td>-93.247305</td>\n",
       "      <td>44.987210</td>\n",
       "    </tr>\n",
       "    <tr>\n",
       "      <th>max</th>\n",
       "      <td>-93.199150</td>\n",
       "      <td>45.051227</td>\n",
       "    </tr>\n",
       "  </tbody>\n",
       "</table>\n",
       "</div>"
      ],
      "text/plain": [
       "                  X             Y\n",
       "count  14502.000000  14502.000000\n",
       "mean     -93.267373     44.967446\n",
       "std        0.027491      0.032305\n",
       "min      -93.329109     44.890627\n",
       "25%      -93.288308     44.948347\n",
       "50%      -93.270298     44.965938\n",
       "75%      -93.247305     44.987210\n",
       "max      -93.199150     45.051227"
      ]
     },
     "metadata": {},
     "execution_count": 221
    }
   ],
   "metadata": {
    "ExecuteTime": {
     "end_time": "2018-09-15T00:10:24.757891Z",
     "start_time": "2018-09-15T00:10:24.560297Z"
    }
   }
  },
  {
   "cell_type": "code",
   "execution_count": null,
   "source": [
    "len(test_df)"
   ],
   "outputs": [
    {
     "output_type": "execute_result",
     "data": {
      "text/plain": [
       "14502"
      ]
     },
     "metadata": {},
     "execution_count": 222
    }
   ],
   "metadata": {
    "ExecuteTime": {
     "end_time": "2018-09-15T00:10:24.765879Z",
     "start_time": "2018-09-15T00:10:24.760906Z"
    }
   }
  },
  {
   "cell_type": "markdown",
   "source": [
    "# Feature Engineering\n",
    "\n",
    "- Let's create some new features from the data that exists in the current feature space\n",
    "- There are a couple categories of features:\n",
    "    - Temporal features\n",
    "    - Spatial features"
   ],
   "metadata": {}
  },
  {
   "cell_type": "markdown",
   "source": [
    "## Temporal Features\n",
    "We want to have a column for Time, so we must parse through the 'Dates' feature to create the 'Time' feature\n"
   ],
   "metadata": {}
  },
  {
   "cell_type": "code",
   "execution_count": null,
   "source": [
    "# Transform the Date into a python datetime object.\n",
    "train_df[\"Dates\"] = pd.to_datetime(train_df[\"Dates\"], format=\"%Y-%m-%d %H:%M:%S\")\n",
    "test_df[\"Dates\"] = pd.to_datetime(test_df[\"Dates\"], format=\"%Y-%m-%d %H:%M:%S\")"
   ],
   "outputs": [],
   "metadata": {
    "ExecuteTime": {
     "end_time": "2018-09-15T00:10:25.274601Z",
     "start_time": "2018-09-15T00:10:24.768516Z"
    }
   }
  },
  {
   "cell_type": "code",
   "execution_count": null,
   "source": [
    "# Minute\n",
    "train_df[\"Minute\"] = train_df[\"Dates\"].map(lambda x: x.minute)\n",
    "test_df[\"Minute\"] = test_df[\"Dates\"].map(lambda x: x.minute)"
   ],
   "outputs": [],
   "metadata": {
    "ExecuteTime": {
     "end_time": "2018-09-15T00:10:31.564182Z",
     "start_time": "2018-09-15T00:10:25.277052Z"
    }
   }
  },
  {
   "cell_type": "code",
   "execution_count": null,
   "source": [
    "# Hour\n",
    "train_df[\"Hour\"] = train_df[\"Dates\"].map(lambda x: x.hour)\n",
    "test_df[\"Hour\"] = test_df[\"Dates\"].map(lambda x: x.hour)"
   ],
   "outputs": [],
   "metadata": {
    "ExecuteTime": {
     "end_time": "2018-09-15T00:10:37.693960Z",
     "start_time": "2018-09-15T00:10:31.566084Z"
    }
   }
  },
  {
   "cell_type": "code",
   "execution_count": null,
   "source": [
    "# Day\n",
    "train_df[\"Day\"] = train_df[\"Dates\"].map(lambda x: x.day)\n",
    "test_df[\"Day\"] = test_df[\"Dates\"].map(lambda x: x.day)"
   ],
   "outputs": [],
   "metadata": {
    "ExecuteTime": {
     "end_time": "2018-09-15T00:10:43.874460Z",
     "start_time": "2018-09-15T00:10:37.696280Z"
    }
   }
  },
  {
   "cell_type": "code",
   "execution_count": null,
   "source": [
    "# Month\n",
    "train_df[\"Month\"] = train_df[\"Dates\"].map(lambda x: x.month)\n",
    "test_df[\"Month\"] = test_df[\"Dates\"].map(lambda x: x.month)"
   ],
   "outputs": [],
   "metadata": {
    "ExecuteTime": {
     "end_time": "2018-09-15T00:10:49.946466Z",
     "start_time": "2018-09-15T00:10:43.876358Z"
    }
   }
  },
  {
   "cell_type": "code",
   "execution_count": null,
   "source": [
    "# Year\n",
    "train_df[\"Year\"] = train_df[\"Dates\"].map(lambda x: x.year)\n",
    "test_df[\"Year\"] = test_df[\"Dates\"].map(lambda x: x.year)"
   ],
   "outputs": [],
   "metadata": {
    "ExecuteTime": {
     "end_time": "2018-09-15T00:10:55.794134Z",
     "start_time": "2018-09-15T00:10:49.948660Z"
    }
   }
  },
  {
   "cell_type": "code",
   "execution_count": null,
   "source": [
    "# Hour Zone 0 - Pass midnight, 1 - morning, 2 - afternoon, 3 - dinner / sun set, 4 - night\n",
    "def get_hour_zone(hour):\n",
    "    if hour >= 2 and hour < 8: \n",
    "        return 0\n",
    "    elif hour >= 8 and hour < 12: \n",
    "        return 1\n",
    "    elif hour >= 12 and hour < 18: \n",
    "        return 2\n",
    "    elif hour >= 18 and hour < 22: \n",
    "        return 3\n",
    "    elif hour < 2 or hour >= 22: \n",
    "        return 4\n",
    "    \n",
    "train_df[\"Hour_Zone\"] = train_df[\"Hour\"].map(get_hour_zone)\n",
    "test_df[\"Hour_Zone\"] = test_df[\"Hour\"].map(get_hour_zone)"
   ],
   "outputs": [],
   "metadata": {
    "ExecuteTime": {
     "end_time": "2018-09-15T00:10:56.787121Z",
     "start_time": "2018-09-15T00:10:55.796072Z"
    }
   }
  },
  {
   "cell_type": "code",
   "execution_count": null,
   "source": [
    "# Add Week of Year\n",
    "train_df[\"WeekOfYear\"] = train_df[\"Dates\"].map(lambda x: int(x.weekofyear / 2) - 1)\n",
    "test_df[\"WeekOfYear\"] = test_df[\"Dates\"].map(lambda x: int(x.weekofyear / 2))\n",
    "\n",
    "print(sorted(train_df['WeekOfYear'].unique()))\n",
    "print(sorted(test_df['WeekOfYear'].unique()))"
   ],
   "outputs": [
    {
     "output_type": "stream",
     "name": "stdout",
     "text": [
      "[-1, 0, 1, 2, 3, 4, 5, 6, 7, 8, 9, 10, 11, 12, 13, 14, 15, 16, 17, 18, 19, 20, 21, 22, 23, 24, 25]\n",
      "[0, 1, 2, 3, 4, 5, 6, 7, 8, 9, 10, 11, 12, 13, 14, 15, 16, 17, 18, 19, 20, 21, 22, 23, 24, 25, 26]\n"
     ]
    }
   ],
   "metadata": {
    "ExecuteTime": {
     "end_time": "2018-09-15T00:11:03.922991Z",
     "start_time": "2018-09-15T00:10:56.789255Z"
    }
   }
  },
  {
   "cell_type": "code",
   "execution_count": null,
   "source": [
    "train_df.head()"
   ],
   "outputs": [
    {
     "output_type": "execute_result",
     "data": {
      "text/html": [
       "<div>\n",
       "<style scoped>\n",
       "    .dataframe tbody tr th:only-of-type {\n",
       "        vertical-align: middle;\n",
       "    }\n",
       "\n",
       "    .dataframe tbody tr th {\n",
       "        vertical-align: top;\n",
       "    }\n",
       "\n",
       "    .dataframe thead th {\n",
       "        text-align: right;\n",
       "    }\n",
       "</style>\n",
       "<table border=\"1\" class=\"dataframe\">\n",
       "  <thead>\n",
       "    <tr style=\"text-align: right;\">\n",
       "      <th></th>\n",
       "      <th>Dates</th>\n",
       "      <th>Address</th>\n",
       "      <th>Lat</th>\n",
       "      <th>Long</th>\n",
       "      <th>Neighborhood</th>\n",
       "      <th>Precinct</th>\n",
       "      <th>Offense</th>\n",
       "      <th>Description</th>\n",
       "      <th>UCRCode</th>\n",
       "      <th>Year</th>\n",
       "      <th>...</th>\n",
       "      <th>DayOfWeek_Num</th>\n",
       "      <th>DayOfWeek</th>\n",
       "      <th>Hour</th>\n",
       "      <th>Category</th>\n",
       "      <th>X</th>\n",
       "      <th>Y</th>\n",
       "      <th>Minute</th>\n",
       "      <th>Day</th>\n",
       "      <th>Hour_Zone</th>\n",
       "      <th>WeekOfYear</th>\n",
       "    </tr>\n",
       "  </thead>\n",
       "  <tbody>\n",
       "    <tr>\n",
       "      <th>11380</th>\n",
       "      <td>2020-06-20 14:02:00</td>\n",
       "      <td>0001XX GRANT ST W</td>\n",
       "      <td>44.969863</td>\n",
       "      <td>-93.280080</td>\n",
       "      <td>LORING PARK</td>\n",
       "      <td>DOWNTOWN</td>\n",
       "      <td>THEFT</td>\n",
       "      <td>OTHER THEFT</td>\n",
       "      <td>7</td>\n",
       "      <td>2020</td>\n",
       "      <td>...</td>\n",
       "      <td>5</td>\n",
       "      <td>Saturday</td>\n",
       "      <td>14</td>\n",
       "      <td>LARCENY</td>\n",
       "      <td>-93.280080</td>\n",
       "      <td>44.969863</td>\n",
       "      <td>2</td>\n",
       "      <td>20</td>\n",
       "      <td>2</td>\n",
       "      <td>11</td>\n",
       "    </tr>\n",
       "    <tr>\n",
       "      <th>8731</th>\n",
       "      <td>2018-11-12 14:08:00</td>\n",
       "      <td>0018XX CHICAGO AVE</td>\n",
       "      <td>44.964567</td>\n",
       "      <td>-93.262554</td>\n",
       "      <td>VENTURA VILLAGE</td>\n",
       "      <td>SOUTHEAST</td>\n",
       "      <td>TBLDG</td>\n",
       "      <td>THEFT FROM BUILDING</td>\n",
       "      <td>7</td>\n",
       "      <td>2018</td>\n",
       "      <td>...</td>\n",
       "      <td>0</td>\n",
       "      <td>Monday</td>\n",
       "      <td>14</td>\n",
       "      <td>LARCENY</td>\n",
       "      <td>-93.262554</td>\n",
       "      <td>44.964567</td>\n",
       "      <td>8</td>\n",
       "      <td>12</td>\n",
       "      <td>2</td>\n",
       "      <td>22</td>\n",
       "    </tr>\n",
       "    <tr>\n",
       "      <th>3283</th>\n",
       "      <td>2018-07-18 11:45:00</td>\n",
       "      <td>0014XX NICOLLET AVE</td>\n",
       "      <td>44.968424</td>\n",
       "      <td>-93.277817</td>\n",
       "      <td>LORING PARK</td>\n",
       "      <td>DOWNTOWN</td>\n",
       "      <td>PETIT</td>\n",
       "      <td>OBS - PETTY THEFT</td>\n",
       "      <td>7</td>\n",
       "      <td>2018</td>\n",
       "      <td>...</td>\n",
       "      <td>2</td>\n",
       "      <td>Wednesday</td>\n",
       "      <td>11</td>\n",
       "      <td>LARCENY</td>\n",
       "      <td>-93.277817</td>\n",
       "      <td>44.968424</td>\n",
       "      <td>45</td>\n",
       "      <td>18</td>\n",
       "      <td>1</td>\n",
       "      <td>13</td>\n",
       "    </tr>\n",
       "    <tr>\n",
       "      <th>16375</th>\n",
       "      <td>2020-07-26 06:00:00</td>\n",
       "      <td>0009XX 28TH AVE NE</td>\n",
       "      <td>45.018586</td>\n",
       "      <td>-93.246420</td>\n",
       "      <td>AUDUBON PARK</td>\n",
       "      <td>NORTHEAST</td>\n",
       "      <td>TFMV</td>\n",
       "      <td>THEFT-MOTR VEH PARTS</td>\n",
       "      <td>7</td>\n",
       "      <td>2020</td>\n",
       "      <td>...</td>\n",
       "      <td>6</td>\n",
       "      <td>Sunday</td>\n",
       "      <td>6</td>\n",
       "      <td>LARCENY</td>\n",
       "      <td>-93.246420</td>\n",
       "      <td>45.018586</td>\n",
       "      <td>0</td>\n",
       "      <td>26</td>\n",
       "      <td>0</td>\n",
       "      <td>14</td>\n",
       "    </tr>\n",
       "    <tr>\n",
       "      <th>19965</th>\n",
       "      <td>2020-09-19 23:00:00</td>\n",
       "      <td>0026XX LYNDALE AVE S</td>\n",
       "      <td>44.954638</td>\n",
       "      <td>-93.288048</td>\n",
       "      <td>LOWRY HILL EAST</td>\n",
       "      <td>SOUTHWEST</td>\n",
       "      <td>BIKETF</td>\n",
       "      <td>BIKE THEFT</td>\n",
       "      <td>7</td>\n",
       "      <td>2020</td>\n",
       "      <td>...</td>\n",
       "      <td>5</td>\n",
       "      <td>Saturday</td>\n",
       "      <td>23</td>\n",
       "      <td>LARCENY</td>\n",
       "      <td>-93.288048</td>\n",
       "      <td>44.954638</td>\n",
       "      <td>0</td>\n",
       "      <td>19</td>\n",
       "      <td>4</td>\n",
       "      <td>18</td>\n",
       "    </tr>\n",
       "  </tbody>\n",
       "</table>\n",
       "<p>5 rows × 21 columns</p>\n",
       "</div>"
      ],
      "text/plain": [
       "                    Dates               Address        Lat       Long  \\\n",
       "11380 2020-06-20 14:02:00     0001XX GRANT ST W  44.969863 -93.280080   \n",
       "8731  2018-11-12 14:08:00   0018XX CHICAGO AVE   44.964567 -93.262554   \n",
       "3283  2018-07-18 11:45:00  0014XX NICOLLET AVE   44.968424 -93.277817   \n",
       "16375 2020-07-26 06:00:00    0009XX 28TH AVE NE  45.018586 -93.246420   \n",
       "19965 2020-09-19 23:00:00  0026XX LYNDALE AVE S  44.954638 -93.288048   \n",
       "\n",
       "          Neighborhood   Precinct Offense                     Description  \\\n",
       "11380      LORING PARK   DOWNTOWN   THEFT  OTHER THEFT                      \n",
       "8731   VENTURA VILLAGE  SOUTHEAST   TBLDG  THEFT FROM BUILDING              \n",
       "3283       LORING PARK   DOWNTOWN   PETIT  OBS - PETTY THEFT                \n",
       "16375     AUDUBON PARK  NORTHEAST    TFMV  THEFT-MOTR VEH PARTS             \n",
       "19965  LOWRY HILL EAST  SOUTHWEST  BIKETF  BIKE THEFT                       \n",
       "\n",
       "       UCRCode  Year  ...  DayOfWeek_Num  DayOfWeek Hour  Category          X  \\\n",
       "11380        7  2020  ...              5   Saturday   14   LARCENY -93.280080   \n",
       "8731         7  2018  ...              0     Monday   14   LARCENY -93.262554   \n",
       "3283         7  2018  ...              2  Wednesday   11   LARCENY -93.277817   \n",
       "16375        7  2020  ...              6     Sunday    6   LARCENY -93.246420   \n",
       "19965        7  2020  ...              5   Saturday   23   LARCENY -93.288048   \n",
       "\n",
       "               Y  Minute  Day  Hour_Zone  WeekOfYear  \n",
       "11380  44.969863       2   20          2          11  \n",
       "8731   44.964567       8   12          2          22  \n",
       "3283   44.968424      45   18          1          13  \n",
       "16375  45.018586       0   26          0          14  \n",
       "19965  44.954638       0   19          4          18  \n",
       "\n",
       "[5 rows x 21 columns]"
      ]
     },
     "metadata": {},
     "execution_count": 231
    }
   ],
   "metadata": {
    "ExecuteTime": {
     "end_time": "2018-09-15T00:11:03.944540Z",
     "start_time": "2018-09-15T00:11:03.925176Z"
    }
   }
  },
  {
   "cell_type": "markdown",
   "source": [
    "### Holiday Feature\n",
    "\n",
    "- Certain crimes may be more apparent on holidays"
   ],
   "metadata": {}
  },
  {
   "cell_type": "code",
   "execution_count": null,
   "source": [
    "from pandas.tseries.holiday import USFederalHolidayCalendar as calendar\n",
    "\n",
    "# Training set\n",
    "cal = calendar()\n",
    "holidays = cal.holidays(start=train_df['Dates'].min(), end=train_df['Dates'].max())\n",
    "train_df['Holiday'] = train_df['Dates'].dt.date.astype('datetime64').isin(holidays)"
   ],
   "outputs": [],
   "metadata": {
    "ExecuteTime": {
     "end_time": "2018-09-15T00:11:04.369855Z",
     "start_time": "2018-09-15T00:11:03.946433Z"
    }
   }
  },
  {
   "cell_type": "code",
   "execution_count": null,
   "source": [
    "# Test set\n",
    "cal = calendar()\n",
    "holidays = cal.holidays(start=test_df['Dates'].min(), end=test_df['Dates'].max())\n",
    "test_df['Holiday'] = test_df['Dates'].dt.date.astype('datetime64').isin(holidays)"
   ],
   "outputs": [],
   "metadata": {
    "ExecuteTime": {
     "end_time": "2018-09-15T00:11:04.784067Z",
     "start_time": "2018-09-15T00:11:04.372197Z"
    }
   }
  },
  {
   "cell_type": "code",
   "execution_count": null,
   "source": [
    "# train_df.head(10)\n"
   ],
   "outputs": [],
   "metadata": {
    "ExecuteTime": {
     "end_time": "2018-09-15T00:11:04.885777Z",
     "start_time": "2018-09-15T00:11:04.786072Z"
    }
   }
  },
  {
   "cell_type": "code",
   "execution_count": null,
   "source": [
    "# train_df.head(10)\n"
   ],
   "outputs": [],
   "metadata": {
    "ExecuteTime": {
     "end_time": "2018-09-15T00:11:04.993193Z",
     "start_time": "2018-09-15T00:11:04.888127Z"
    }
   }
  },
  {
   "cell_type": "markdown",
   "source": [
    "### Business Hours Feature\n",
    "\n",
    "- There should be an effect of business hours on the type of crime committed\n",
    "- Let's create a binary feature where:\n",
    "    - 1 is typical business hours [8:00AM - 6:00PM]\n",
    "    - 0 is not business hours [6:01PM - 7:59 AM]"
   ],
   "metadata": {}
  },
  {
   "cell_type": "code",
   "execution_count": null,
   "source": [
    "from datetime import datetime, time\n",
    "\n",
    "def time_in_range(start, end, x):\n",
    "    \"\"\"Return true if x is in the inclusive range [start, end]\"\"\"\n",
    "    if start <= end:\n",
    "        return start <= x <= end\n",
    "    else:\n",
    "        return start <= x or x <= end\n",
    "\n",
    "def map_business_hours(date):\n",
    "    \n",
    "    # Convert military time to AM & PM\n",
    "    time_parsed = date.time()\n",
    "    business_start = time(8, 0, 0)\n",
    "    business_end = time(18, 0, 0)\n",
    "    \n",
    "    if time_in_range(business_start, business_end, time_parsed):\n",
    "        return 1\n",
    "    else:\n",
    "        return 0\n",
    "    \n",
    "train_df['BusinessHour'] = train_df['Dates'].map(map_business_hours).astype('uint8')\n",
    "test_df['BusinessHour'] = test_df['Dates'].map(map_business_hours).astype('uint8')"
   ],
   "outputs": [],
   "metadata": {
    "ExecuteTime": {
     "end_time": "2018-09-15T00:11:12.059178Z",
     "start_time": "2018-09-15T00:11:04.995075Z"
    }
   }
  },
  {
   "cell_type": "code",
   "execution_count": null,
   "source": [
    "train_df['BusinessHour'].value_counts()"
   ],
   "outputs": [
    {
     "output_type": "execute_result",
     "data": {
      "text/plain": [
       "0    24056\n",
       "1    19448\n",
       "Name: BusinessHour, dtype: int64"
      ]
     },
     "metadata": {},
     "execution_count": 237
    }
   ],
   "metadata": {
    "ExecuteTime": {
     "end_time": "2018-09-15T00:11:12.078593Z",
     "start_time": "2018-09-15T00:11:12.061166Z"
    }
   }
  },
  {
   "cell_type": "code",
   "execution_count": null,
   "source": [
    "# train_df.head(10)"
   ],
   "outputs": [],
   "metadata": {
    "ExecuteTime": {
     "end_time": "2018-09-15T00:11:12.102491Z",
     "start_time": "2018-09-15T00:11:12.082130Z"
    }
   }
  },
  {
   "cell_type": "markdown",
   "source": [
    "### Business Quarter (Removed)\n",
    "\n",
    "- Business Quarter might have an effect on what types of crimes are commited\n",
    "- Q1 = 1 (Jan. - March) Q2 = 2 (April - June), Q3 = 3 (July - Sept.), Q4 = 4 (Oct. - Dec.)"
   ],
   "metadata": {}
  },
  {
   "cell_type": "code",
   "execution_count": null,
   "source": [
    "# train_df.head(10)\n",
    "    \n",
    "#     if month in [1, 2, 3]:\n",
    "# #         print(time_parsed)\n",
    "#         return 1\n",
    "#     elif month in [4, 5, 6]:\n",
    "#         return 2\n",
    "#     elif month in [7, 8, 9]:\n",
    "#         return 3\n",
    "#     elif month in [10, 11, 12]:\n",
    "#         return 4\n",
    "    \n",
    "# train_df['Quarter'] = train_df['Month'].map(map_business_quarter)\n",
    "# test_df['Quarter'] = test_df['Month'].map(map_business_quarter)"
   ],
   "outputs": [],
   "metadata": {
    "ExecuteTime": {
     "end_time": "2018-09-15T00:11:12.108233Z",
     "start_time": "2018-09-15T00:11:12.104172Z"
    }
   }
  },
  {
   "cell_type": "code",
   "execution_count": null,
   "source": [
    "# train_df.head(10)"
   ],
   "outputs": [],
   "metadata": {
    "ExecuteTime": {
     "end_time": "2018-09-15T00:11:12.113726Z",
     "start_time": "2018-09-15T00:11:12.110576Z"
    }
   }
  },
  {
   "cell_type": "code",
   "execution_count": null,
   "source": [
    "train_df.head(8)"
   ],
   "outputs": [
    {
     "output_type": "execute_result",
     "data": {
      "text/html": [
       "<div>\n",
       "<style scoped>\n",
       "    .dataframe tbody tr th:only-of-type {\n",
       "        vertical-align: middle;\n",
       "    }\n",
       "\n",
       "    .dataframe tbody tr th {\n",
       "        vertical-align: top;\n",
       "    }\n",
       "\n",
       "    .dataframe thead th {\n",
       "        text-align: right;\n",
       "    }\n",
       "</style>\n",
       "<table border=\"1\" class=\"dataframe\">\n",
       "  <thead>\n",
       "    <tr style=\"text-align: right;\">\n",
       "      <th></th>\n",
       "      <th>Dates</th>\n",
       "      <th>Address</th>\n",
       "      <th>Lat</th>\n",
       "      <th>Long</th>\n",
       "      <th>Neighborhood</th>\n",
       "      <th>Precinct</th>\n",
       "      <th>Offense</th>\n",
       "      <th>Description</th>\n",
       "      <th>UCRCode</th>\n",
       "      <th>Year</th>\n",
       "      <th>...</th>\n",
       "      <th>Hour</th>\n",
       "      <th>Category</th>\n",
       "      <th>X</th>\n",
       "      <th>Y</th>\n",
       "      <th>Minute</th>\n",
       "      <th>Day</th>\n",
       "      <th>Hour_Zone</th>\n",
       "      <th>WeekOfYear</th>\n",
       "      <th>Holiday</th>\n",
       "      <th>BusinessHour</th>\n",
       "    </tr>\n",
       "  </thead>\n",
       "  <tbody>\n",
       "    <tr>\n",
       "      <th>11380</th>\n",
       "      <td>2020-06-20 14:02:00</td>\n",
       "      <td>0001XX GRANT ST W</td>\n",
       "      <td>44.969863</td>\n",
       "      <td>-93.280080</td>\n",
       "      <td>LORING PARK</td>\n",
       "      <td>DOWNTOWN</td>\n",
       "      <td>THEFT</td>\n",
       "      <td>OTHER THEFT</td>\n",
       "      <td>7</td>\n",
       "      <td>2020</td>\n",
       "      <td>...</td>\n",
       "      <td>14</td>\n",
       "      <td>LARCENY</td>\n",
       "      <td>-93.280080</td>\n",
       "      <td>44.969863</td>\n",
       "      <td>2</td>\n",
       "      <td>20</td>\n",
       "      <td>2</td>\n",
       "      <td>11</td>\n",
       "      <td>False</td>\n",
       "      <td>1</td>\n",
       "    </tr>\n",
       "    <tr>\n",
       "      <th>8731</th>\n",
       "      <td>2018-11-12 14:08:00</td>\n",
       "      <td>0018XX CHICAGO AVE</td>\n",
       "      <td>44.964567</td>\n",
       "      <td>-93.262554</td>\n",
       "      <td>VENTURA VILLAGE</td>\n",
       "      <td>SOUTHEAST</td>\n",
       "      <td>TBLDG</td>\n",
       "      <td>THEFT FROM BUILDING</td>\n",
       "      <td>7</td>\n",
       "      <td>2018</td>\n",
       "      <td>...</td>\n",
       "      <td>14</td>\n",
       "      <td>LARCENY</td>\n",
       "      <td>-93.262554</td>\n",
       "      <td>44.964567</td>\n",
       "      <td>8</td>\n",
       "      <td>12</td>\n",
       "      <td>2</td>\n",
       "      <td>22</td>\n",
       "      <td>True</td>\n",
       "      <td>1</td>\n",
       "    </tr>\n",
       "    <tr>\n",
       "      <th>3283</th>\n",
       "      <td>2018-07-18 11:45:00</td>\n",
       "      <td>0014XX NICOLLET AVE</td>\n",
       "      <td>44.968424</td>\n",
       "      <td>-93.277817</td>\n",
       "      <td>LORING PARK</td>\n",
       "      <td>DOWNTOWN</td>\n",
       "      <td>PETIT</td>\n",
       "      <td>OBS - PETTY THEFT</td>\n",
       "      <td>7</td>\n",
       "      <td>2018</td>\n",
       "      <td>...</td>\n",
       "      <td>11</td>\n",
       "      <td>LARCENY</td>\n",
       "      <td>-93.277817</td>\n",
       "      <td>44.968424</td>\n",
       "      <td>45</td>\n",
       "      <td>18</td>\n",
       "      <td>1</td>\n",
       "      <td>13</td>\n",
       "      <td>False</td>\n",
       "      <td>1</td>\n",
       "    </tr>\n",
       "    <tr>\n",
       "      <th>16375</th>\n",
       "      <td>2020-07-26 06:00:00</td>\n",
       "      <td>0009XX 28TH AVE NE</td>\n",
       "      <td>45.018586</td>\n",
       "      <td>-93.246420</td>\n",
       "      <td>AUDUBON PARK</td>\n",
       "      <td>NORTHEAST</td>\n",
       "      <td>TFMV</td>\n",
       "      <td>THEFT-MOTR VEH PARTS</td>\n",
       "      <td>7</td>\n",
       "      <td>2020</td>\n",
       "      <td>...</td>\n",
       "      <td>6</td>\n",
       "      <td>LARCENY</td>\n",
       "      <td>-93.246420</td>\n",
       "      <td>45.018586</td>\n",
       "      <td>0</td>\n",
       "      <td>26</td>\n",
       "      <td>0</td>\n",
       "      <td>14</td>\n",
       "      <td>False</td>\n",
       "      <td>0</td>\n",
       "    </tr>\n",
       "    <tr>\n",
       "      <th>19965</th>\n",
       "      <td>2020-09-19 23:00:00</td>\n",
       "      <td>0026XX LYNDALE AVE S</td>\n",
       "      <td>44.954638</td>\n",
       "      <td>-93.288048</td>\n",
       "      <td>LOWRY HILL EAST</td>\n",
       "      <td>SOUTHWEST</td>\n",
       "      <td>BIKETF</td>\n",
       "      <td>BIKE THEFT</td>\n",
       "      <td>7</td>\n",
       "      <td>2020</td>\n",
       "      <td>...</td>\n",
       "      <td>23</td>\n",
       "      <td>LARCENY</td>\n",
       "      <td>-93.288048</td>\n",
       "      <td>44.954638</td>\n",
       "      <td>0</td>\n",
       "      <td>19</td>\n",
       "      <td>4</td>\n",
       "      <td>18</td>\n",
       "      <td>False</td>\n",
       "      <td>0</td>\n",
       "    </tr>\n",
       "    <tr>\n",
       "      <th>14634</th>\n",
       "      <td>2020-06-04 11:15:00</td>\n",
       "      <td>0028XX STEVENS AVE</td>\n",
       "      <td>44.950150</td>\n",
       "      <td>-93.275367</td>\n",
       "      <td>WHITTIER</td>\n",
       "      <td>SOUTHWEST</td>\n",
       "      <td>BURGB</td>\n",
       "      <td>BURGLARY OF BUSINESS</td>\n",
       "      <td>6</td>\n",
       "      <td>2020</td>\n",
       "      <td>...</td>\n",
       "      <td>11</td>\n",
       "      <td>BURGLARY</td>\n",
       "      <td>-93.275367</td>\n",
       "      <td>44.950150</td>\n",
       "      <td>15</td>\n",
       "      <td>4</td>\n",
       "      <td>1</td>\n",
       "      <td>10</td>\n",
       "      <td>False</td>\n",
       "      <td>1</td>\n",
       "    </tr>\n",
       "    <tr>\n",
       "      <th>7862</th>\n",
       "      <td>2019-05-09 22:00:00</td>\n",
       "      <td>0027XX IRVING AVE S</td>\n",
       "      <td>44.953341</td>\n",
       "      <td>-93.300904</td>\n",
       "      <td>EAST ISLES</td>\n",
       "      <td>SOUTHWEST</td>\n",
       "      <td>GTA</td>\n",
       "      <td>AUTOMOBILE THEFT</td>\n",
       "      <td>8</td>\n",
       "      <td>2019</td>\n",
       "      <td>...</td>\n",
       "      <td>22</td>\n",
       "      <td>AUTO THEFT</td>\n",
       "      <td>-93.300904</td>\n",
       "      <td>44.953341</td>\n",
       "      <td>0</td>\n",
       "      <td>9</td>\n",
       "      <td>4</td>\n",
       "      <td>8</td>\n",
       "      <td>False</td>\n",
       "      <td>0</td>\n",
       "    </tr>\n",
       "    <tr>\n",
       "      <th>1809</th>\n",
       "      <td>2018-06-30 12:00:00</td>\n",
       "      <td>0054XX 34TH AVE S</td>\n",
       "      <td>44.904920</td>\n",
       "      <td>-93.222883</td>\n",
       "      <td>WENONAH</td>\n",
       "      <td>SOUTHEAST</td>\n",
       "      <td>BURGD</td>\n",
       "      <td>BURGLARY OF DWELLING</td>\n",
       "      <td>6</td>\n",
       "      <td>2018</td>\n",
       "      <td>...</td>\n",
       "      <td>12</td>\n",
       "      <td>BURGLARY</td>\n",
       "      <td>-93.222883</td>\n",
       "      <td>44.904920</td>\n",
       "      <td>0</td>\n",
       "      <td>30</td>\n",
       "      <td>2</td>\n",
       "      <td>12</td>\n",
       "      <td>False</td>\n",
       "      <td>1</td>\n",
       "    </tr>\n",
       "  </tbody>\n",
       "</table>\n",
       "<p>8 rows × 23 columns</p>\n",
       "</div>"
      ],
      "text/plain": [
       "                    Dates               Address        Lat       Long  \\\n",
       "11380 2020-06-20 14:02:00     0001XX GRANT ST W  44.969863 -93.280080   \n",
       "8731  2018-11-12 14:08:00   0018XX CHICAGO AVE   44.964567 -93.262554   \n",
       "3283  2018-07-18 11:45:00  0014XX NICOLLET AVE   44.968424 -93.277817   \n",
       "16375 2020-07-26 06:00:00    0009XX 28TH AVE NE  45.018586 -93.246420   \n",
       "19965 2020-09-19 23:00:00  0026XX LYNDALE AVE S  44.954638 -93.288048   \n",
       "14634 2020-06-04 11:15:00   0028XX STEVENS AVE   44.950150 -93.275367   \n",
       "7862  2019-05-09 22:00:00   0027XX IRVING AVE S  44.953341 -93.300904   \n",
       "1809  2018-06-30 12:00:00     0054XX 34TH AVE S  44.904920 -93.222883   \n",
       "\n",
       "          Neighborhood   Precinct Offense                     Description  \\\n",
       "11380      LORING PARK   DOWNTOWN   THEFT  OTHER THEFT                      \n",
       "8731   VENTURA VILLAGE  SOUTHEAST   TBLDG  THEFT FROM BUILDING              \n",
       "3283       LORING PARK   DOWNTOWN   PETIT  OBS - PETTY THEFT                \n",
       "16375     AUDUBON PARK  NORTHEAST    TFMV  THEFT-MOTR VEH PARTS             \n",
       "19965  LOWRY HILL EAST  SOUTHWEST  BIKETF  BIKE THEFT                       \n",
       "14634         WHITTIER  SOUTHWEST   BURGB  BURGLARY OF BUSINESS             \n",
       "7862        EAST ISLES  SOUTHWEST     GTA  AUTOMOBILE THEFT                 \n",
       "1809           WENONAH  SOUTHEAST   BURGD  BURGLARY OF DWELLING             \n",
       "\n",
       "       UCRCode  Year  ...  Hour    Category          X          Y Minute  Day  \\\n",
       "11380        7  2020  ...    14     LARCENY -93.280080  44.969863      2   20   \n",
       "8731         7  2018  ...    14     LARCENY -93.262554  44.964567      8   12   \n",
       "3283         7  2018  ...    11     LARCENY -93.277817  44.968424     45   18   \n",
       "16375        7  2020  ...     6     LARCENY -93.246420  45.018586      0   26   \n",
       "19965        7  2020  ...    23     LARCENY -93.288048  44.954638      0   19   \n",
       "14634        6  2020  ...    11    BURGLARY -93.275367  44.950150     15    4   \n",
       "7862         8  2019  ...    22  AUTO THEFT -93.300904  44.953341      0    9   \n",
       "1809         6  2018  ...    12    BURGLARY -93.222883  44.904920      0   30   \n",
       "\n",
       "       Hour_Zone  WeekOfYear  Holiday  BusinessHour  \n",
       "11380          2          11    False             1  \n",
       "8731           2          22     True             1  \n",
       "3283           1          13    False             1  \n",
       "16375          0          14    False             0  \n",
       "19965          4          18    False             0  \n",
       "14634          1          10    False             1  \n",
       "7862           4           8    False             0  \n",
       "1809           2          12    False             1  \n",
       "\n",
       "[8 rows x 23 columns]"
      ]
     },
     "metadata": {},
     "execution_count": 241
    }
   ],
   "metadata": {
    "ExecuteTime": {
     "end_time": "2018-09-15T00:11:12.119440Z",
     "start_time": "2018-09-15T00:11:12.116998Z"
    }
   }
  },
  {
   "cell_type": "markdown",
   "source": [
    "### Season\n",
    "\n",
    "The season feature may affect what type of crimes are commited. \n",
    "- 1 = Winter, 2 = Spring, 3 = Summer, 4 = Fall"
   ],
   "metadata": {}
  },
  {
   "cell_type": "code",
   "execution_count": null,
   "source": [
    "train_df['Season']=(train_df['Month']%12 + 3)//3\n",
    "test_df['Season']=(test_df['Month']%12 + 3)//3"
   ],
   "outputs": [],
   "metadata": {
    "ExecuteTime": {
     "end_time": "2018-09-15T00:11:12.174037Z",
     "start_time": "2018-09-15T00:11:12.121921Z"
    }
   }
  },
  {
   "cell_type": "code",
   "execution_count": null,
   "source": [
    "train_df.head()"
   ],
   "outputs": [
    {
     "output_type": "execute_result",
     "data": {
      "text/html": [
       "<div>\n",
       "<style scoped>\n",
       "    .dataframe tbody tr th:only-of-type {\n",
       "        vertical-align: middle;\n",
       "    }\n",
       "\n",
       "    .dataframe tbody tr th {\n",
       "        vertical-align: top;\n",
       "    }\n",
       "\n",
       "    .dataframe thead th {\n",
       "        text-align: right;\n",
       "    }\n",
       "</style>\n",
       "<table border=\"1\" class=\"dataframe\">\n",
       "  <thead>\n",
       "    <tr style=\"text-align: right;\">\n",
       "      <th></th>\n",
       "      <th>Dates</th>\n",
       "      <th>Address</th>\n",
       "      <th>Lat</th>\n",
       "      <th>Long</th>\n",
       "      <th>Neighborhood</th>\n",
       "      <th>Precinct</th>\n",
       "      <th>Offense</th>\n",
       "      <th>Description</th>\n",
       "      <th>UCRCode</th>\n",
       "      <th>Year</th>\n",
       "      <th>...</th>\n",
       "      <th>Category</th>\n",
       "      <th>X</th>\n",
       "      <th>Y</th>\n",
       "      <th>Minute</th>\n",
       "      <th>Day</th>\n",
       "      <th>Hour_Zone</th>\n",
       "      <th>WeekOfYear</th>\n",
       "      <th>Holiday</th>\n",
       "      <th>BusinessHour</th>\n",
       "      <th>Season</th>\n",
       "    </tr>\n",
       "  </thead>\n",
       "  <tbody>\n",
       "    <tr>\n",
       "      <th>11380</th>\n",
       "      <td>2020-06-20 14:02:00</td>\n",
       "      <td>0001XX GRANT ST W</td>\n",
       "      <td>44.969863</td>\n",
       "      <td>-93.280080</td>\n",
       "      <td>LORING PARK</td>\n",
       "      <td>DOWNTOWN</td>\n",
       "      <td>THEFT</td>\n",
       "      <td>OTHER THEFT</td>\n",
       "      <td>7</td>\n",
       "      <td>2020</td>\n",
       "      <td>...</td>\n",
       "      <td>LARCENY</td>\n",
       "      <td>-93.280080</td>\n",
       "      <td>44.969863</td>\n",
       "      <td>2</td>\n",
       "      <td>20</td>\n",
       "      <td>2</td>\n",
       "      <td>11</td>\n",
       "      <td>False</td>\n",
       "      <td>1</td>\n",
       "      <td>3</td>\n",
       "    </tr>\n",
       "    <tr>\n",
       "      <th>8731</th>\n",
       "      <td>2018-11-12 14:08:00</td>\n",
       "      <td>0018XX CHICAGO AVE</td>\n",
       "      <td>44.964567</td>\n",
       "      <td>-93.262554</td>\n",
       "      <td>VENTURA VILLAGE</td>\n",
       "      <td>SOUTHEAST</td>\n",
       "      <td>TBLDG</td>\n",
       "      <td>THEFT FROM BUILDING</td>\n",
       "      <td>7</td>\n",
       "      <td>2018</td>\n",
       "      <td>...</td>\n",
       "      <td>LARCENY</td>\n",
       "      <td>-93.262554</td>\n",
       "      <td>44.964567</td>\n",
       "      <td>8</td>\n",
       "      <td>12</td>\n",
       "      <td>2</td>\n",
       "      <td>22</td>\n",
       "      <td>True</td>\n",
       "      <td>1</td>\n",
       "      <td>4</td>\n",
       "    </tr>\n",
       "    <tr>\n",
       "      <th>3283</th>\n",
       "      <td>2018-07-18 11:45:00</td>\n",
       "      <td>0014XX NICOLLET AVE</td>\n",
       "      <td>44.968424</td>\n",
       "      <td>-93.277817</td>\n",
       "      <td>LORING PARK</td>\n",
       "      <td>DOWNTOWN</td>\n",
       "      <td>PETIT</td>\n",
       "      <td>OBS - PETTY THEFT</td>\n",
       "      <td>7</td>\n",
       "      <td>2018</td>\n",
       "      <td>...</td>\n",
       "      <td>LARCENY</td>\n",
       "      <td>-93.277817</td>\n",
       "      <td>44.968424</td>\n",
       "      <td>45</td>\n",
       "      <td>18</td>\n",
       "      <td>1</td>\n",
       "      <td>13</td>\n",
       "      <td>False</td>\n",
       "      <td>1</td>\n",
       "      <td>3</td>\n",
       "    </tr>\n",
       "    <tr>\n",
       "      <th>16375</th>\n",
       "      <td>2020-07-26 06:00:00</td>\n",
       "      <td>0009XX 28TH AVE NE</td>\n",
       "      <td>45.018586</td>\n",
       "      <td>-93.246420</td>\n",
       "      <td>AUDUBON PARK</td>\n",
       "      <td>NORTHEAST</td>\n",
       "      <td>TFMV</td>\n",
       "      <td>THEFT-MOTR VEH PARTS</td>\n",
       "      <td>7</td>\n",
       "      <td>2020</td>\n",
       "      <td>...</td>\n",
       "      <td>LARCENY</td>\n",
       "      <td>-93.246420</td>\n",
       "      <td>45.018586</td>\n",
       "      <td>0</td>\n",
       "      <td>26</td>\n",
       "      <td>0</td>\n",
       "      <td>14</td>\n",
       "      <td>False</td>\n",
       "      <td>0</td>\n",
       "      <td>3</td>\n",
       "    </tr>\n",
       "    <tr>\n",
       "      <th>19965</th>\n",
       "      <td>2020-09-19 23:00:00</td>\n",
       "      <td>0026XX LYNDALE AVE S</td>\n",
       "      <td>44.954638</td>\n",
       "      <td>-93.288048</td>\n",
       "      <td>LOWRY HILL EAST</td>\n",
       "      <td>SOUTHWEST</td>\n",
       "      <td>BIKETF</td>\n",
       "      <td>BIKE THEFT</td>\n",
       "      <td>7</td>\n",
       "      <td>2020</td>\n",
       "      <td>...</td>\n",
       "      <td>LARCENY</td>\n",
       "      <td>-93.288048</td>\n",
       "      <td>44.954638</td>\n",
       "      <td>0</td>\n",
       "      <td>19</td>\n",
       "      <td>4</td>\n",
       "      <td>18</td>\n",
       "      <td>False</td>\n",
       "      <td>0</td>\n",
       "      <td>4</td>\n",
       "    </tr>\n",
       "  </tbody>\n",
       "</table>\n",
       "<p>5 rows × 24 columns</p>\n",
       "</div>"
      ],
      "text/plain": [
       "                    Dates               Address        Lat       Long  \\\n",
       "11380 2020-06-20 14:02:00     0001XX GRANT ST W  44.969863 -93.280080   \n",
       "8731  2018-11-12 14:08:00   0018XX CHICAGO AVE   44.964567 -93.262554   \n",
       "3283  2018-07-18 11:45:00  0014XX NICOLLET AVE   44.968424 -93.277817   \n",
       "16375 2020-07-26 06:00:00    0009XX 28TH AVE NE  45.018586 -93.246420   \n",
       "19965 2020-09-19 23:00:00  0026XX LYNDALE AVE S  44.954638 -93.288048   \n",
       "\n",
       "          Neighborhood   Precinct Offense                     Description  \\\n",
       "11380      LORING PARK   DOWNTOWN   THEFT  OTHER THEFT                      \n",
       "8731   VENTURA VILLAGE  SOUTHEAST   TBLDG  THEFT FROM BUILDING              \n",
       "3283       LORING PARK   DOWNTOWN   PETIT  OBS - PETTY THEFT                \n",
       "16375     AUDUBON PARK  NORTHEAST    TFMV  THEFT-MOTR VEH PARTS             \n",
       "19965  LOWRY HILL EAST  SOUTHWEST  BIKETF  BIKE THEFT                       \n",
       "\n",
       "       UCRCode  Year  ...  Category          X          Y  Minute Day  \\\n",
       "11380        7  2020  ...   LARCENY -93.280080  44.969863       2  20   \n",
       "8731         7  2018  ...   LARCENY -93.262554  44.964567       8  12   \n",
       "3283         7  2018  ...   LARCENY -93.277817  44.968424      45  18   \n",
       "16375        7  2020  ...   LARCENY -93.246420  45.018586       0  26   \n",
       "19965        7  2020  ...   LARCENY -93.288048  44.954638       0  19   \n",
       "\n",
       "       Hour_Zone  WeekOfYear  Holiday  BusinessHour  Season  \n",
       "11380          2          11    False             1       3  \n",
       "8731           2          22     True             1       4  \n",
       "3283           1          13    False             1       3  \n",
       "16375          0          14    False             0       3  \n",
       "19965          4          18    False             0       4  \n",
       "\n",
       "[5 rows x 24 columns]"
      ]
     },
     "metadata": {},
     "execution_count": 243
    }
   ],
   "metadata": {
    "ExecuteTime": {
     "end_time": "2018-09-15T00:11:12.193165Z",
     "start_time": "2018-09-15T00:11:12.175930Z"
    }
   }
  },
  {
   "cell_type": "markdown",
   "source": [
    "### Weekend\n",
    "\n",
    "- Weekends may have effect on what types of crimes are commmited\n",
    "- Weekday = 0, Weekend =1"
   ],
   "metadata": {}
  },
  {
   "cell_type": "code",
   "execution_count": null,
   "source": [
    "# Weekend Feature\n",
    "\n",
    "# Weekday = 0, Weekend = 1\n",
    "days = {'Monday':0 ,'Tuesday':0 ,'Wednesday':0 ,'Thursday':0 ,'Friday':0, 'Saturday':1 ,'Sunday':1}\n",
    "\n",
    "train_df['Weekend'] = train_df['DayOfWeek'].replace(days).astype(int)\n",
    "test_df['Weekend'] = test_df['DayOfWeek'].replace(days).astype(int)"
   ],
   "outputs": [],
   "metadata": {
    "ExecuteTime": {
     "end_time": "2018-09-15T00:11:12.984924Z",
     "start_time": "2018-09-15T00:11:12.195523Z"
    }
   }
  },
  {
   "cell_type": "markdown",
   "source": [
    "## Spatial Features"
   ],
   "metadata": {}
  },
  {
   "cell_type": "markdown",
   "source": [
    "### Street Type\n",
    "\n",
    "The street type can have an effect on what type of crime is committed, so we want to extract the street type from the 'Address' feature.\n",
    "\n",
    "We have avenues, streets, ways, boulevards, highways, courts, walks, plazas, and differet number of intersections of roads/streets (Addresses with /)."
   ],
   "metadata": {}
  },
  {
   "cell_type": "code",
   "execution_count": null,
   "source": [
    "train_df['Address'].value_counts().index"
   ],
   "outputs": [
    {
     "output_type": "execute_result",
     "data": {
      "text/plain": [
       "Index(['0025XX LAKE ST E', '0030XX HENNEPIN AVE ', '0009XX NICOLLET MALL  ',\n",
       "       '0028XX 26TH AVE S', '0004XX HENNEPIN AVE ', '00001X LAKE ST W',\n",
       "       '0015XX NEW BRIGHTON BLVD ', '0006XX NICOLLET MALL  ',\n",
       "       '0007XX BROADWAY AVE W', '0004XX 1ST AVE N',\n",
       "       ...\n",
       "       '00001X 4 ST S', '0023XX HAYES ST NE', '0002XX 19 ST E',\n",
       "       'Lake ST E / Park AV S', '0041XX 45TH AVE S', '0001XX 32ND ST W',\n",
       "       '00005X 5TH ST S', '0023XX 5TH AVE S', '0042XX ABBOTT AVE S',\n",
       "       '0027XX Arthur ST NE'],\n",
       "      dtype='object', length=9519)"
      ]
     },
     "metadata": {},
     "execution_count": 245
    }
   ],
   "metadata": {
    "ExecuteTime": {
     "end_time": "2018-09-15T00:11:13.197395Z",
     "start_time": "2018-09-15T00:11:12.986765Z"
    }
   }
  },
  {
   "cell_type": "code",
   "execution_count": null,
   "source": [
    "import re\n",
    "    \n",
    "def find_streets(address):\n",
    "    street_types = ['AV', 'ST', 'CT', 'PZ', 'LN', 'DR', 'PL', 'HY', \n",
    "                    'FY', 'WY', 'TR', 'RD', 'BL', 'WAY', 'CR', 'AL', 'I-80',  \n",
    "                    'RW', 'WK','EL CAMINO DEL MAR']\n",
    "    street_pattern = '|'.join(street_types)\n",
    "    streets = re.findall(street_pattern, address)\n",
    "    if len(streets) == 0:\n",
    "        # Debug\n",
    "#         print(address)\n",
    "        return 'OTHER'\n",
    "    elif len(streets) == 1:\n",
    "        return streets[0]\n",
    "    else:\n",
    "#         print(address)\n",
    "        return 'INT'\n",
    "\n",
    "train_df['StreetType'] = train_df['Address'].map(find_streets)\n",
    "test_df['StreetType'] = test_df['Address'].map(find_streets)\n"
   ],
   "outputs": [],
   "metadata": {
    "ExecuteTime": {
     "end_time": "2018-09-15T00:11:17.624158Z",
     "start_time": "2018-09-15T00:11:13.199248Z"
    },
    "scrolled": true
   }
  },
  {
   "cell_type": "code",
   "execution_count": null,
   "source": [
    "train_df['StreetType'].value_counts()"
   ],
   "outputs": [
    {
     "output_type": "execute_result",
     "data": {
      "text/plain": [
       "AV       24646\n",
       "ST        9598\n",
       "INT       7394\n",
       "AL         626\n",
       "BL         462\n",
       "PL         211\n",
       "OTHER      167\n",
       "WY         134\n",
       "DR         110\n",
       "RD          73\n",
       "LN          39\n",
       "CT          32\n",
       "WAY          6\n",
       "HY           6\n",
       "Name: StreetType, dtype: int64"
      ]
     },
     "metadata": {},
     "execution_count": 247
    }
   ],
   "metadata": {
    "ExecuteTime": {
     "end_time": "2018-09-15T00:11:17.759847Z",
     "start_time": "2018-09-15T00:11:17.626318Z"
    }
   }
  },
  {
   "cell_type": "code",
   "execution_count": null,
   "source": [
    "train_df.isnull().sum()\n",
    "train_df['StreetType'].isnull().sum()"
   ],
   "outputs": [
    {
     "output_type": "execute_result",
     "data": {
      "text/plain": [
       "0"
      ]
     },
     "metadata": {},
     "execution_count": 248
    }
   ],
   "metadata": {
    "ExecuteTime": {
     "end_time": "2018-09-15T00:11:17.808128Z",
     "start_time": "2018-09-15T00:11:17.762189Z"
    }
   }
  },
  {
   "cell_type": "code",
   "execution_count": null,
   "source": [
    "train_df.isnull().sum()\n"
   ],
   "outputs": [
    {
     "output_type": "execute_result",
     "data": {
      "text/plain": [
       "Dates            0\n",
       "Address          0\n",
       "Lat              0\n",
       "Long             0\n",
       "Neighborhood     0\n",
       "Precinct         0\n",
       "Offense          0\n",
       "Description      0\n",
       "UCRCode          0\n",
       "Year             0\n",
       "Month            0\n",
       "DayOfWeek_Num    0\n",
       "DayOfWeek        0\n",
       "Hour             0\n",
       "Category         0\n",
       "X                0\n",
       "Y                0\n",
       "Minute           0\n",
       "Day              0\n",
       "Hour_Zone        0\n",
       "WeekOfYear       0\n",
       "Holiday          0\n",
       "BusinessHour     0\n",
       "Season           0\n",
       "Weekend          0\n",
       "StreetType       0\n",
       "dtype: int64"
      ]
     },
     "metadata": {},
     "execution_count": 249
    }
   ],
   "metadata": {
    "ExecuteTime": {
     "end_time": "2018-09-15T00:11:17.834744Z",
     "start_time": "2018-09-15T00:11:17.810033Z"
    }
   }
  },
  {
   "cell_type": "markdown",
   "source": [
    "## Block Features (Removed)\n",
    "\n",
    "- Let's explore and create the block feature, since we saw it a lot in the address features\n",
    "- Binary feature\n",
    "    - Categorize address that contains 'Block', as having a block, and if no block exists, we will assign to 0.\n",
    "- 617231 addresses with blocks\n",
    "- 260818 addresses with no blocks"
   ],
   "metadata": {}
  },
  {
   "cell_type": "code",
   "execution_count": null,
   "source": [
    "# def find_block(address):\n",
    "test_df.dropna(inplace=False)\n",
    "#     blocks = re.search(block_pattern, address)\n",
    "#     if blocks:\n",
    "# #         print(address)\n",
    "#         return 1\n",
    "#     else:\n",
    "# #         print(address)\n",
    "#         return 0\n",
    "\n",
    "\n",
    "# train_df['Block'] = train_df['Address'].map(find_block)\n",
    "# test_df['Block'] = test_df['Address'].map(find_block)"
   ],
   "outputs": [
    {
     "output_type": "execute_result",
     "data": {
      "text/html": [
       "<div>\n",
       "<style scoped>\n",
       "    .dataframe tbody tr th:only-of-type {\n",
       "        vertical-align: middle;\n",
       "    }\n",
       "\n",
       "    .dataframe tbody tr th {\n",
       "        vertical-align: top;\n",
       "    }\n",
       "\n",
       "    .dataframe thead th {\n",
       "        text-align: right;\n",
       "    }\n",
       "</style>\n",
       "<table border=\"1\" class=\"dataframe\">\n",
       "  <thead>\n",
       "    <tr style=\"text-align: right;\">\n",
       "      <th></th>\n",
       "      <th>Dates</th>\n",
       "      <th>Address</th>\n",
       "      <th>Lat</th>\n",
       "      <th>Long</th>\n",
       "      <th>Neighborhood</th>\n",
       "      <th>Precinct</th>\n",
       "      <th>Offense</th>\n",
       "      <th>Description</th>\n",
       "      <th>UCRCode</th>\n",
       "      <th>Year</th>\n",
       "      <th>...</th>\n",
       "      <th>Y</th>\n",
       "      <th>Minute</th>\n",
       "      <th>Day</th>\n",
       "      <th>Hour_Zone</th>\n",
       "      <th>WeekOfYear</th>\n",
       "      <th>Holiday</th>\n",
       "      <th>BusinessHour</th>\n",
       "      <th>Season</th>\n",
       "      <th>Weekend</th>\n",
       "      <th>StreetType</th>\n",
       "    </tr>\n",
       "  </thead>\n",
       "  <tbody>\n",
       "    <tr>\n",
       "      <th>22106</th>\n",
       "      <td>2019-01-02 16:00:00</td>\n",
       "      <td>0009XX 4TH ST N</td>\n",
       "      <td>44.987210</td>\n",
       "      <td>-93.280944</td>\n",
       "      <td>NORTH LOOP</td>\n",
       "      <td>DOWNTOWN</td>\n",
       "      <td>CSCR</td>\n",
       "      <td>CSC - RAPE</td>\n",
       "      <td>3</td>\n",
       "      <td>2019</td>\n",
       "      <td>...</td>\n",
       "      <td>44.987210</td>\n",
       "      <td>0</td>\n",
       "      <td>2</td>\n",
       "      <td>2</td>\n",
       "      <td>0</td>\n",
       "      <td>False</td>\n",
       "      <td>1</td>\n",
       "      <td>1</td>\n",
       "      <td>0</td>\n",
       "      <td>ST</td>\n",
       "    </tr>\n",
       "    <tr>\n",
       "      <th>3396</th>\n",
       "      <td>2018-07-31 00:00:00</td>\n",
       "      <td>0011XX HENNEPIN AVE</td>\n",
       "      <td>44.975034</td>\n",
       "      <td>-93.279723</td>\n",
       "      <td>DOWNTOWN WEST</td>\n",
       "      <td>DOWNTOWN</td>\n",
       "      <td>ROBPAG</td>\n",
       "      <td>ROBBERY PER AGG</td>\n",
       "      <td>4</td>\n",
       "      <td>2018</td>\n",
       "      <td>...</td>\n",
       "      <td>44.975034</td>\n",
       "      <td>0</td>\n",
       "      <td>31</td>\n",
       "      <td>4</td>\n",
       "      <td>15</td>\n",
       "      <td>False</td>\n",
       "      <td>0</td>\n",
       "      <td>3</td>\n",
       "      <td>0</td>\n",
       "      <td>AV</td>\n",
       "    </tr>\n",
       "    <tr>\n",
       "      <th>16558</th>\n",
       "      <td>2019-05-28 19:15:00</td>\n",
       "      <td>0013XX 4TH ST SE</td>\n",
       "      <td>44.980767</td>\n",
       "      <td>-93.236473</td>\n",
       "      <td>MARCY HOLMES</td>\n",
       "      <td>NORTHEAST</td>\n",
       "      <td>THEFT</td>\n",
       "      <td>OTHER THEFT</td>\n",
       "      <td>7</td>\n",
       "      <td>2019</td>\n",
       "      <td>...</td>\n",
       "      <td>44.980767</td>\n",
       "      <td>15</td>\n",
       "      <td>28</td>\n",
       "      <td>3</td>\n",
       "      <td>11</td>\n",
       "      <td>False</td>\n",
       "      <td>0</td>\n",
       "      <td>2</td>\n",
       "      <td>0</td>\n",
       "      <td>ST</td>\n",
       "    </tr>\n",
       "    <tr>\n",
       "      <th>14724</th>\n",
       "      <td>2020-07-03 21:00:00</td>\n",
       "      <td>0008XX 5TH AVE N</td>\n",
       "      <td>44.982787</td>\n",
       "      <td>-93.290185</td>\n",
       "      <td>SUMNER - GLENWOOD</td>\n",
       "      <td>NORTH</td>\n",
       "      <td>TFMV</td>\n",
       "      <td>THEFT FROM MOTR VEHC</td>\n",
       "      <td>7</td>\n",
       "      <td>2020</td>\n",
       "      <td>...</td>\n",
       "      <td>44.982787</td>\n",
       "      <td>0</td>\n",
       "      <td>3</td>\n",
       "      <td>3</td>\n",
       "      <td>13</td>\n",
       "      <td>True</td>\n",
       "      <td>0</td>\n",
       "      <td>3</td>\n",
       "      <td>0</td>\n",
       "      <td>AV</td>\n",
       "    </tr>\n",
       "    <tr>\n",
       "      <th>21138</th>\n",
       "      <td>2019-02-27 06:50:00</td>\n",
       "      <td>0029XX 46TH AVE S</td>\n",
       "      <td>44.950453</td>\n",
       "      <td>-93.207583</td>\n",
       "      <td>COOPER</td>\n",
       "      <td>SOUTHEAST</td>\n",
       "      <td>BURGD</td>\n",
       "      <td>BURGLARY OF DWELLING</td>\n",
       "      <td>6</td>\n",
       "      <td>2019</td>\n",
       "      <td>...</td>\n",
       "      <td>44.950453</td>\n",
       "      <td>50</td>\n",
       "      <td>27</td>\n",
       "      <td>0</td>\n",
       "      <td>4</td>\n",
       "      <td>False</td>\n",
       "      <td>0</td>\n",
       "      <td>1</td>\n",
       "      <td>0</td>\n",
       "      <td>AV</td>\n",
       "    </tr>\n",
       "    <tr>\n",
       "      <th>...</th>\n",
       "      <td>...</td>\n",
       "      <td>...</td>\n",
       "      <td>...</td>\n",
       "      <td>...</td>\n",
       "      <td>...</td>\n",
       "      <td>...</td>\n",
       "      <td>...</td>\n",
       "      <td>...</td>\n",
       "      <td>...</td>\n",
       "      <td>...</td>\n",
       "      <td>...</td>\n",
       "      <td>...</td>\n",
       "      <td>...</td>\n",
       "      <td>...</td>\n",
       "      <td>...</td>\n",
       "      <td>...</td>\n",
       "      <td>...</td>\n",
       "      <td>...</td>\n",
       "      <td>...</td>\n",
       "      <td>...</td>\n",
       "      <td>...</td>\n",
       "    </tr>\n",
       "    <tr>\n",
       "      <th>5009</th>\n",
       "      <td>2018-05-13 21:30:00</td>\n",
       "      <td>0006XX 16 ST E</td>\n",
       "      <td>44.967168</td>\n",
       "      <td>-93.266383</td>\n",
       "      <td>ELLIOT PARK</td>\n",
       "      <td>DOWNTOWN</td>\n",
       "      <td>TFMV</td>\n",
       "      <td>Theft From Motr Vehc</td>\n",
       "      <td>7</td>\n",
       "      <td>2018</td>\n",
       "      <td>...</td>\n",
       "      <td>44.967168</td>\n",
       "      <td>30</td>\n",
       "      <td>13</td>\n",
       "      <td>3</td>\n",
       "      <td>9</td>\n",
       "      <td>False</td>\n",
       "      <td>0</td>\n",
       "      <td>2</td>\n",
       "      <td>1</td>\n",
       "      <td>ST</td>\n",
       "    </tr>\n",
       "    <tr>\n",
       "      <th>5469</th>\n",
       "      <td>2018-09-30 19:49:00</td>\n",
       "      <td>0029XX PORTLAND AVE</td>\n",
       "      <td>44.949214</td>\n",
       "      <td>-93.267751</td>\n",
       "      <td>PHILLIPS WEST</td>\n",
       "      <td>SOUTHEAST</td>\n",
       "      <td>ASLT1</td>\n",
       "      <td>ASLT-GREAT BODILY HM</td>\n",
       "      <td>5</td>\n",
       "      <td>2018</td>\n",
       "      <td>...</td>\n",
       "      <td>44.949214</td>\n",
       "      <td>49</td>\n",
       "      <td>30</td>\n",
       "      <td>3</td>\n",
       "      <td>19</td>\n",
       "      <td>False</td>\n",
       "      <td>0</td>\n",
       "      <td>4</td>\n",
       "      <td>1</td>\n",
       "      <td>AV</td>\n",
       "    </tr>\n",
       "    <tr>\n",
       "      <th>1922</th>\n",
       "      <td>2018-03-11 23:58:59</td>\n",
       "      <td>0007XX Penn AV N</td>\n",
       "      <td>44.985310</td>\n",
       "      <td>-93.308292</td>\n",
       "      <td>NEAR - NORTH</td>\n",
       "      <td>NORTH</td>\n",
       "      <td>GTA</td>\n",
       "      <td>Motor Vehicle Theft</td>\n",
       "      <td>8</td>\n",
       "      <td>2018</td>\n",
       "      <td>...</td>\n",
       "      <td>44.985310</td>\n",
       "      <td>58</td>\n",
       "      <td>11</td>\n",
       "      <td>4</td>\n",
       "      <td>5</td>\n",
       "      <td>False</td>\n",
       "      <td>0</td>\n",
       "      <td>2</td>\n",
       "      <td>1</td>\n",
       "      <td>AV</td>\n",
       "    </tr>\n",
       "    <tr>\n",
       "      <th>12388</th>\n",
       "      <td>2020-10-16 03:55:00</td>\n",
       "      <td>0033XX HIAWATHA AVE</td>\n",
       "      <td>44.941249</td>\n",
       "      <td>-93.233428</td>\n",
       "      <td>LONGFELLOW</td>\n",
       "      <td>SOUTHEAST</td>\n",
       "      <td>GTA</td>\n",
       "      <td>AUTOMOBILE THEFT</td>\n",
       "      <td>8</td>\n",
       "      <td>2020</td>\n",
       "      <td>...</td>\n",
       "      <td>44.941249</td>\n",
       "      <td>55</td>\n",
       "      <td>16</td>\n",
       "      <td>0</td>\n",
       "      <td>21</td>\n",
       "      <td>False</td>\n",
       "      <td>0</td>\n",
       "      <td>4</td>\n",
       "      <td>0</td>\n",
       "      <td>AV</td>\n",
       "    </tr>\n",
       "    <tr>\n",
       "      <th>11765</th>\n",
       "      <td>2020-10-01 01:45:00</td>\n",
       "      <td>0044XX UPTON AVE S</td>\n",
       "      <td>44.922448</td>\n",
       "      <td>-93.315085</td>\n",
       "      <td>LINDEN HILLS</td>\n",
       "      <td>SOUTHWEST</td>\n",
       "      <td>BURGB</td>\n",
       "      <td>BURGLARY OF BUSINESS</td>\n",
       "      <td>6</td>\n",
       "      <td>2020</td>\n",
       "      <td>...</td>\n",
       "      <td>44.922448</td>\n",
       "      <td>45</td>\n",
       "      <td>1</td>\n",
       "      <td>4</td>\n",
       "      <td>20</td>\n",
       "      <td>False</td>\n",
       "      <td>0</td>\n",
       "      <td>4</td>\n",
       "      <td>0</td>\n",
       "      <td>AV</td>\n",
       "    </tr>\n",
       "  </tbody>\n",
       "</table>\n",
       "<p>14502 rows × 26 columns</p>\n",
       "</div>"
      ],
      "text/plain": [
       "                    Dates               Address        Lat       Long  \\\n",
       "22106 2019-01-02 16:00:00       0009XX 4TH ST N  44.987210 -93.280944   \n",
       "3396  2018-07-31 00:00:00  0011XX HENNEPIN AVE   44.975034 -93.279723   \n",
       "16558 2019-05-28 19:15:00      0013XX 4TH ST SE  44.980767 -93.236473   \n",
       "14724 2020-07-03 21:00:00      0008XX 5TH AVE N  44.982787 -93.290185   \n",
       "21138 2019-02-27 06:50:00     0029XX 46TH AVE S  44.950453 -93.207583   \n",
       "...                   ...                   ...        ...        ...   \n",
       "5009  2018-05-13 21:30:00        0006XX 16 ST E  44.967168 -93.266383   \n",
       "5469  2018-09-30 19:49:00  0029XX PORTLAND AVE   44.949214 -93.267751   \n",
       "1922  2018-03-11 23:58:59      0007XX Penn AV N  44.985310 -93.308292   \n",
       "12388 2020-10-16 03:55:00  0033XX HIAWATHA AVE   44.941249 -93.233428   \n",
       "11765 2020-10-01 01:45:00    0044XX UPTON AVE S  44.922448 -93.315085   \n",
       "\n",
       "            Neighborhood   Precinct Offense                     Description  \\\n",
       "22106         NORTH LOOP   DOWNTOWN    CSCR  CSC - RAPE                       \n",
       "3396       DOWNTOWN WEST   DOWNTOWN  ROBPAG  ROBBERY PER AGG                  \n",
       "16558       MARCY HOLMES  NORTHEAST   THEFT  OTHER THEFT                      \n",
       "14724  SUMNER - GLENWOOD      NORTH    TFMV  THEFT FROM MOTR VEHC             \n",
       "21138             COOPER  SOUTHEAST   BURGD  BURGLARY OF DWELLING             \n",
       "...                  ...        ...     ...                             ...   \n",
       "5009         ELLIOT PARK   DOWNTOWN    TFMV            Theft From Motr Vehc   \n",
       "5469       PHILLIPS WEST  SOUTHEAST   ASLT1  ASLT-GREAT BODILY HM             \n",
       "1922        NEAR - NORTH      NORTH     GTA             Motor Vehicle Theft   \n",
       "12388         LONGFELLOW  SOUTHEAST     GTA  AUTOMOBILE THEFT                 \n",
       "11765       LINDEN HILLS  SOUTHWEST   BURGB  BURGLARY OF BUSINESS             \n",
       "\n",
       "       UCRCode  Year  ...          Y  Minute Day  Hour_Zone WeekOfYear  \\\n",
       "22106        3  2019  ...  44.987210       0   2          2          0   \n",
       "3396         4  2018  ...  44.975034       0  31          4         15   \n",
       "16558        7  2019  ...  44.980767      15  28          3         11   \n",
       "14724        7  2020  ...  44.982787       0   3          3         13   \n",
       "21138        6  2019  ...  44.950453      50  27          0          4   \n",
       "...        ...   ...  ...        ...     ...  ..        ...        ...   \n",
       "5009         7  2018  ...  44.967168      30  13          3          9   \n",
       "5469         5  2018  ...  44.949214      49  30          3         19   \n",
       "1922         8  2018  ...  44.985310      58  11          4          5   \n",
       "12388        8  2020  ...  44.941249      55  16          0         21   \n",
       "11765        6  2020  ...  44.922448      45   1          4         20   \n",
       "\n",
       "       Holiday  BusinessHour  Season  Weekend  StreetType  \n",
       "22106    False             1       1        0          ST  \n",
       "3396     False             0       3        0          AV  \n",
       "16558    False             0       2        0          ST  \n",
       "14724     True             0       3        0          AV  \n",
       "21138    False             0       1        0          AV  \n",
       "...        ...           ...     ...      ...         ...  \n",
       "5009     False             0       2        1          ST  \n",
       "5469     False             0       4        1          AV  \n",
       "1922     False             0       2        1          AV  \n",
       "12388    False             0       4        0          AV  \n",
       "11765    False             0       4        0          AV  \n",
       "\n",
       "[14502 rows x 26 columns]"
      ]
     },
     "metadata": {},
     "execution_count": 250
    }
   ],
   "metadata": {
    "ExecuteTime": {
     "end_time": "2018-09-15T00:11:17.840253Z",
     "start_time": "2018-09-15T00:11:17.836605Z"
    }
   }
  },
  {
   "cell_type": "code",
   "execution_count": null,
   "source": [
    "# train_df['Block'].value_counts()"
   ],
   "outputs": [],
   "metadata": {
    "ExecuteTime": {
     "end_time": "2018-09-15T00:11:17.844279Z",
     "start_time": "2018-09-15T00:11:17.842121Z"
    }
   }
  },
  {
   "cell_type": "markdown",
   "source": [
    "## Block Number Feature\n",
    "\n",
    "- Let's explore the block number from address\n",
    "- Block number has ordinal data type (order matters), and has spatial significance\n",
    "- It seems all the block numbers are in intervals of 100\n",
    "- How to categorize\n",
    "    - Addresses that do not have a block number will be categorized as 0\n",
    "    - Addresses with block number will be divided by 100, and added by 1 for mapping (0 is saved for addresses with no block number)\n",
    "- 85 unique block numbers (including 1 where there is no block number)"
   ],
   "metadata": {}
  },
  {
   "cell_type": "code",
   "execution_count": null,
   "source": [
    "def find_block_number(address):\n",
    "    block_num_pattern = '[0-9]+\\s[Block]'\n",
    "    block_num = re.search(block_num_pattern, address)\n",
    "    if block_num:\n",
    "#         print(address)\n",
    "        num_pattern = '[0-9]+'\n",
    "        block_no_pos = re.search(num_pattern, address)\n",
    "        # Get integer of found regular expression\n",
    "        block_no = int(block_no_pos.group())\n",
    "        # Convert block number by dividing by 100 and adding 1 (0 = addresses with no block)\n",
    "        block_map = (block_no // 100) + 1\n",
    "#         print(block_map)\n",
    "        return block_map\n",
    "    else:\n",
    "#         print(address)\n",
    "        # \n",
    "        return 0\n",
    "\n",
    "\n",
    "train_df['BlockNo'] = train_df['Address'].map(find_block_number)\n",
    "test_df['BlockNo'] = test_df['Address'].map(find_block_number)"
   ],
   "outputs": [],
   "metadata": {
    "ExecuteTime": {
     "end_time": "2018-09-15T00:11:21.837626Z",
     "start_time": "2018-09-15T00:11:17.846149Z"
    }
   }
  },
  {
   "cell_type": "code",
   "execution_count": null,
   "source": [
    "train_df['BlockNo'].value_counts()"
   ],
   "outputs": [
    {
     "output_type": "execute_result",
     "data": {
      "text/plain": [
       "0    43504\n",
       "Name: BlockNo, dtype: int64"
      ]
     },
     "metadata": {},
     "execution_count": 253
    }
   ],
   "metadata": {
    "ExecuteTime": {
     "end_time": "2018-09-15T00:11:21.875408Z",
     "start_time": "2018-09-15T00:11:21.839834Z"
    },
    "scrolled": true
   }
  },
  {
   "cell_type": "markdown",
   "source": [
    "## X, Y Coordinates\n",
    "\n",
    "- Normalize and scale the X and Y coordinates\n",
    "- I use **K-Means clustering** to create a new feature for the longitude and latitude by grouping clusters of points based on Euclidean distances.\n",
    "- X = longitude, Y = latitude\n",
    "- I also extract more spatial features from the X, Y coordinates by transforming them from the cartesian space to the polar space ([Reference](https://www.kaggle.com/c/sf-crime/discussion/18853))\n",
    "    1. three variants of rotated Cartesian coordinates (rotated by 30, 45, 60 degree each) \n",
    "    2. Polar coordinates (i.e. the 'r' and the angle 'theta')\n",
    "    3. The approach makes some intuitive sense i.e. that having such features should help in extracting some more spatial information (than relying on the current x-y alone)"
   ],
   "metadata": {}
  },
  {
   "cell_type": "code",
   "execution_count": null,
   "source": [
    "# Normalize X and Y\n",
    "print('There are %d unique longitude values, %d unique latitude values' % (train_df['X'].nunique(), \n",
    "                                                                           train_df['Y'].nunique()))\n",
    "\n",
    "xy_scaler = StandardScaler().fit(train_df[['X', 'Y']])\n",
    "train_df[['X', 'Y']] = xy_scaler.transform(train_df[['X', 'Y']])\n",
    "test_df[['X', 'Y']] = xy_scaler.transform(test_df[['X', 'Y']])"
   ],
   "outputs": [
    {
     "output_type": "stream",
     "name": "stdout",
     "text": [
      "There are 7058 unique longitude values, 7022 unique latitude values\n"
     ]
    }
   ],
   "metadata": {
    "ExecuteTime": {
     "end_time": "2018-09-15T00:11:22.862516Z",
     "start_time": "2018-09-15T00:11:21.879241Z"
    }
   }
  },
  {
   "cell_type": "code",
   "execution_count": null,
   "source": [
    "# X-Y plane rotation and space transformation to extract more spatial information\n",
    "# 2-dimensional rotation based on below functions:\n",
    "# rotated x = xcos - ysin\n",
    "# rotated y = xsin + ycos\n",
    "# Conver from cartesian space -> polar space\n",
    "\n",
    "cos_30 = math.cos(math.radians(30))\n",
    "sin_30 = math.sin(math.radians(30))\n",
    "cos_45 = math.cos(math.radians(45))\n",
    "sin_45 = math.sin(math.radians(45))\n",
    "cos_60 = math.cos(math.radians(60))\n",
    "sin_60 = math.sin(math.radians(60))\n",
    "\n",
    "\n",
    "train_df[\"Rot30_X\"] = train_df['X'] * cos_30 - train_df['Y'] * sin_30 \n",
    "train_df[\"Rot30_Y\"] = train_df['X'] * sin_30 + train_df['Y'] * cos_30\n",
    "train_df[\"Rot45_X\"] = train_df['X'] * cos_45 - train_df['Y'] * sin_45  \n",
    "train_df[\"Rot45_Y\"] = train_df['X'] * sin_45 + train_df['Y'] * cos_45\n",
    "train_df[\"Rot60_X\"] = train_df['X'] * cos_60 - train_df['Y'] * sin_60  \n",
    "train_df[\"Rot60_Y\"] = train_df['X'] * sin_60 + train_df['Y'] * cos_60\n",
    "train_df[\"Radius\"] = np.sqrt(train_df['X'] ** 2 + train_df['Y'] ** 2)\n",
    "train_df[\"Angle\"] = np.arctan2(train_df['X'], train_df['Y'])\n",
    "\n",
    "test_df[\"Rot30_X\"] = test_df['X'] * cos_30 - test_df['Y'] * sin_30  \n",
    "test_df[\"Rot30_Y\"] = test_df['X'] * sin_30 + test_df['Y'] * cos_30\n",
    "test_df[\"Rot45_X\"] = test_df['X'] * cos_45 - test_df['Y'] * sin_45  \n",
    "test_df[\"Rot45_Y\"] = test_df['X'] * sin_45 + test_df['Y'] * cos_45\n",
    "test_df[\"Rot60_X\"] = test_df['X'] * cos_60 - test_df['Y'] * sin_60  \n",
    "test_df[\"Rot60_Y\"] = test_df['X'] * sin_60 + test_df['Y'] * cos_60\n",
    "test_df[\"Radius\"] = np.sqrt(test_df['X'] ** 2 + test_df['Y'] ** 2)\n",
    "test_df[\"Angle\"] = np.arctan2(test_df['X'], test_df['Y'])"
   ],
   "outputs": [],
   "metadata": {
    "ExecuteTime": {
     "end_time": "2018-09-15T00:11:23.200903Z",
     "start_time": "2018-09-15T00:11:22.864443Z"
    }
   }
  },
  {
   "cell_type": "code",
   "execution_count": null,
   "source": [
    "# View the description of the numerical features again to ensure everything is right\n",
    "train_df.describe()"
   ],
   "outputs": [
    {
     "output_type": "execute_result",
     "data": {
      "text/html": [
       "<div>\n",
       "<style scoped>\n",
       "    .dataframe tbody tr th:only-of-type {\n",
       "        vertical-align: middle;\n",
       "    }\n",
       "\n",
       "    .dataframe tbody tr th {\n",
       "        vertical-align: top;\n",
       "    }\n",
       "\n",
       "    .dataframe thead th {\n",
       "        text-align: right;\n",
       "    }\n",
       "</style>\n",
       "<table border=\"1\" class=\"dataframe\">\n",
       "  <thead>\n",
       "    <tr style=\"text-align: right;\">\n",
       "      <th></th>\n",
       "      <th>Lat</th>\n",
       "      <th>Long</th>\n",
       "      <th>UCRCode</th>\n",
       "      <th>Year</th>\n",
       "      <th>Month</th>\n",
       "      <th>DayOfWeek_Num</th>\n",
       "      <th>Hour</th>\n",
       "      <th>X</th>\n",
       "      <th>Y</th>\n",
       "      <th>Minute</th>\n",
       "      <th>...</th>\n",
       "      <th>Weekend</th>\n",
       "      <th>BlockNo</th>\n",
       "      <th>Rot30_X</th>\n",
       "      <th>Rot30_Y</th>\n",
       "      <th>Rot45_X</th>\n",
       "      <th>Rot45_Y</th>\n",
       "      <th>Rot60_X</th>\n",
       "      <th>Rot60_Y</th>\n",
       "      <th>Radius</th>\n",
       "      <th>Angle</th>\n",
       "    </tr>\n",
       "  </thead>\n",
       "  <tbody>\n",
       "    <tr>\n",
       "      <th>count</th>\n",
       "      <td>43504.000000</td>\n",
       "      <td>43504.000000</td>\n",
       "      <td>43504.000000</td>\n",
       "      <td>43504.000000</td>\n",
       "      <td>43504.000000</td>\n",
       "      <td>43504.000000</td>\n",
       "      <td>43504.000000</td>\n",
       "      <td>4.350400e+04</td>\n",
       "      <td>4.350400e+04</td>\n",
       "      <td>43504.000000</td>\n",
       "      <td>...</td>\n",
       "      <td>43504.000000</td>\n",
       "      <td>43504.0</td>\n",
       "      <td>4.350400e+04</td>\n",
       "      <td>4.350400e+04</td>\n",
       "      <td>4.350400e+04</td>\n",
       "      <td>4.350400e+04</td>\n",
       "      <td>4.350400e+04</td>\n",
       "      <td>4.350400e+04</td>\n",
       "      <td>43504.000000</td>\n",
       "      <td>43504.000000</td>\n",
       "    </tr>\n",
       "    <tr>\n",
       "      <th>mean</th>\n",
       "      <td>44.965419</td>\n",
       "      <td>-93.263689</td>\n",
       "      <td>6.592267</td>\n",
       "      <td>2019.059971</td>\n",
       "      <td>6.697361</td>\n",
       "      <td>3.009241</td>\n",
       "      <td>12.920881</td>\n",
       "      <td>-1.802171e-14</td>\n",
       "      <td>7.950569e-15</td>\n",
       "      <td>17.540985</td>\n",
       "      <td>...</td>\n",
       "      <td>0.283008</td>\n",
       "      <td>0.0</td>\n",
       "      <td>-1.958500e-14</td>\n",
       "      <td>-2.125226e-15</td>\n",
       "      <td>-1.836813e-14</td>\n",
       "      <td>-7.121816e-15</td>\n",
       "      <td>-1.589893e-14</td>\n",
       "      <td>-1.163305e-14</td>\n",
       "      <td>0.106756</td>\n",
       "      <td>-0.090400</td>\n",
       "    </tr>\n",
       "    <tr>\n",
       "      <th>std</th>\n",
       "      <td>0.306617</td>\n",
       "      <td>0.632978</td>\n",
       "      <td>1.118393</td>\n",
       "      <td>0.804850</td>\n",
       "      <td>3.339592</td>\n",
       "      <td>1.990104</td>\n",
       "      <td>7.139050</td>\n",
       "      <td>1.000011e+00</td>\n",
       "      <td>1.000011e+00</td>\n",
       "      <td>18.968796</td>\n",
       "      <td>...</td>\n",
       "      <td>0.450466</td>\n",
       "      <td>0.0</td>\n",
       "      <td>1.364292e+00</td>\n",
       "      <td>3.724971e-01</td>\n",
       "      <td>1.412279e+00</td>\n",
       "      <td>7.426551e-02</td>\n",
       "      <td>1.364292e+00</td>\n",
       "      <td>3.724971e-01</td>\n",
       "      <td>1.410195</td>\n",
       "      <td>1.885773</td>\n",
       "    </tr>\n",
       "    <tr>\n",
       "      <th>min</th>\n",
       "      <td>0.000000</td>\n",
       "      <td>-93.329109</td>\n",
       "      <td>1.000000</td>\n",
       "      <td>2018.000000</td>\n",
       "      <td>1.000000</td>\n",
       "      <td>0.000000</td>\n",
       "      <td>0.000000</td>\n",
       "      <td>-1.033534e-01</td>\n",
       "      <td>-1.466520e+02</td>\n",
       "      <td>0.000000</td>\n",
       "      <td>...</td>\n",
       "      <td>0.000000</td>\n",
       "      <td>0.0</td>\n",
       "      <td>-2.147909e-01</td>\n",
       "      <td>-5.333297e+01</td>\n",
       "      <td>-2.581458e-01</td>\n",
       "      <td>-2.297988e-01</td>\n",
       "      <td>-2.839085e-01</td>\n",
       "      <td>-1.936420e-01</td>\n",
       "      <td>0.000979</td>\n",
       "      <td>-3.140637</td>\n",
       "    </tr>\n",
       "    <tr>\n",
       "      <th>25%</th>\n",
       "      <td>44.948347</td>\n",
       "      <td>-93.288874</td>\n",
       "      <td>6.000000</td>\n",
       "      <td>2018.000000</td>\n",
       "      <td>4.000000</td>\n",
       "      <td>1.000000</td>\n",
       "      <td>8.000000</td>\n",
       "      <td>-3.978854e-02</td>\n",
       "      <td>-5.567822e-02</td>\n",
       "      <td>0.000000</td>\n",
       "      <td>...</td>\n",
       "      <td>0.000000</td>\n",
       "      <td>0.0</td>\n",
       "      <td>-4.355181e-02</td>\n",
       "      <td>-6.016118e-02</td>\n",
       "      <td>-5.232896e-02</td>\n",
       "      <td>-5.117113e-02</td>\n",
       "      <td>-6.422611e-02</td>\n",
       "      <td>-3.894064e-02</td>\n",
       "      <td>0.049578</td>\n",
       "      <td>-1.781244</td>\n",
       "    </tr>\n",
       "    <tr>\n",
       "      <th>50%</th>\n",
       "      <td>44.965746</td>\n",
       "      <td>-93.271699</td>\n",
       "      <td>7.000000</td>\n",
       "      <td>2019.000000</td>\n",
       "      <td>7.000000</td>\n",
       "      <td>3.000000</td>\n",
       "      <td>14.000000</td>\n",
       "      <td>-1.265438e-02</td>\n",
       "      <td>1.068412e-03</td>\n",
       "      <td>11.000000</td>\n",
       "      <td>...</td>\n",
       "      <td>0.000000</td>\n",
       "      <td>0.0</td>\n",
       "      <td>-9.405452e-03</td>\n",
       "      <td>3.060358e-03</td>\n",
       "      <td>-5.666315e-03</td>\n",
       "      <td>2.370330e-03</td>\n",
       "      <td>-1.311247e-03</td>\n",
       "      <td>2.489141e-03</td>\n",
       "      <td>0.078950</td>\n",
       "      <td>-0.251025</td>\n",
       "    </tr>\n",
       "    <tr>\n",
       "      <th>75%</th>\n",
       "      <td>44.987328</td>\n",
       "      <td>-93.247352</td>\n",
       "      <td>7.000000</td>\n",
       "      <td>2020.000000</td>\n",
       "      <td>10.000000</td>\n",
       "      <td>5.000000</td>\n",
       "      <td>19.000000</td>\n",
       "      <td>2.581098e-02</td>\n",
       "      <td>7.145617e-02</td>\n",
       "      <td>30.000000</td>\n",
       "      <td>...</td>\n",
       "      <td>1.000000</td>\n",
       "      <td>0.0</td>\n",
       "      <td>3.717576e-02</td>\n",
       "      <td>6.437552e-02</td>\n",
       "      <td>4.433565e-02</td>\n",
       "      <td>5.200307e-02</td>\n",
       "      <td>5.309290e-02</td>\n",
       "      <td>3.139684e-02</td>\n",
       "      <td>0.136436</td>\n",
       "      <td>1.342673</td>\n",
       "    </tr>\n",
       "    <tr>\n",
       "      <th>max</th>\n",
       "      <td>45.051227</td>\n",
       "      <td>0.000000</td>\n",
       "      <td>10.000000</td>\n",
       "      <td>2020.000000</td>\n",
       "      <td>12.000000</td>\n",
       "      <td>6.000000</td>\n",
       "      <td>23.000000</td>\n",
       "      <td>1.473427e+02</td>\n",
       "      <td>2.798597e-01</td>\n",
       "      <td>59.000000</td>\n",
       "      <td>...</td>\n",
       "      <td>1.000000</td>\n",
       "      <td>0.0</td>\n",
       "      <td>2.009285e+02</td>\n",
       "      <td>2.244126e-01</td>\n",
       "      <td>2.078857e+02</td>\n",
       "      <td>4.884357e-01</td>\n",
       "      <td>2.006757e+02</td>\n",
       "      <td>5.427656e+01</td>\n",
       "      <td>207.886227</td>\n",
       "      <td>3.137892</td>\n",
       "    </tr>\n",
       "  </tbody>\n",
       "</table>\n",
       "<p>8 rows × 25 columns</p>\n",
       "</div>"
      ],
      "text/plain": [
       "                Lat          Long       UCRCode          Year         Month  \\\n",
       "count  43504.000000  43504.000000  43504.000000  43504.000000  43504.000000   \n",
       "mean      44.965419    -93.263689      6.592267   2019.059971      6.697361   \n",
       "std        0.306617      0.632978      1.118393      0.804850      3.339592   \n",
       "min        0.000000    -93.329109      1.000000   2018.000000      1.000000   \n",
       "25%       44.948347    -93.288874      6.000000   2018.000000      4.000000   \n",
       "50%       44.965746    -93.271699      7.000000   2019.000000      7.000000   \n",
       "75%       44.987328    -93.247352      7.000000   2020.000000     10.000000   \n",
       "max       45.051227      0.000000     10.000000   2020.000000     12.000000   \n",
       "\n",
       "       DayOfWeek_Num          Hour             X             Y        Minute  \\\n",
       "count   43504.000000  43504.000000  4.350400e+04  4.350400e+04  43504.000000   \n",
       "mean        3.009241     12.920881 -1.802171e-14  7.950569e-15     17.540985   \n",
       "std         1.990104      7.139050  1.000011e+00  1.000011e+00     18.968796   \n",
       "min         0.000000      0.000000 -1.033534e-01 -1.466520e+02      0.000000   \n",
       "25%         1.000000      8.000000 -3.978854e-02 -5.567822e-02      0.000000   \n",
       "50%         3.000000     14.000000 -1.265438e-02  1.068412e-03     11.000000   \n",
       "75%         5.000000     19.000000  2.581098e-02  7.145617e-02     30.000000   \n",
       "max         6.000000     23.000000  1.473427e+02  2.798597e-01     59.000000   \n",
       "\n",
       "       ...       Weekend  BlockNo       Rot30_X       Rot30_Y       Rot45_X  \\\n",
       "count  ...  43504.000000  43504.0  4.350400e+04  4.350400e+04  4.350400e+04   \n",
       "mean   ...      0.283008      0.0 -1.958500e-14 -2.125226e-15 -1.836813e-14   \n",
       "std    ...      0.450466      0.0  1.364292e+00  3.724971e-01  1.412279e+00   \n",
       "min    ...      0.000000      0.0 -2.147909e-01 -5.333297e+01 -2.581458e-01   \n",
       "25%    ...      0.000000      0.0 -4.355181e-02 -6.016118e-02 -5.232896e-02   \n",
       "50%    ...      0.000000      0.0 -9.405452e-03  3.060358e-03 -5.666315e-03   \n",
       "75%    ...      1.000000      0.0  3.717576e-02  6.437552e-02  4.433565e-02   \n",
       "max    ...      1.000000      0.0  2.009285e+02  2.244126e-01  2.078857e+02   \n",
       "\n",
       "            Rot45_Y       Rot60_X       Rot60_Y        Radius         Angle  \n",
       "count  4.350400e+04  4.350400e+04  4.350400e+04  43504.000000  43504.000000  \n",
       "mean  -7.121816e-15 -1.589893e-14 -1.163305e-14      0.106756     -0.090400  \n",
       "std    7.426551e-02  1.364292e+00  3.724971e-01      1.410195      1.885773  \n",
       "min   -2.297988e-01 -2.839085e-01 -1.936420e-01      0.000979     -3.140637  \n",
       "25%   -5.117113e-02 -6.422611e-02 -3.894064e-02      0.049578     -1.781244  \n",
       "50%    2.370330e-03 -1.311247e-03  2.489141e-03      0.078950     -0.251025  \n",
       "75%    5.200307e-02  5.309290e-02  3.139684e-02      0.136436      1.342673  \n",
       "max    4.884357e-01  2.006757e+02  5.427656e+01    207.886227      3.137892  \n",
       "\n",
       "[8 rows x 25 columns]"
      ]
     },
     "metadata": {},
     "execution_count": 256
    }
   ],
   "metadata": {
    "ExecuteTime": {
     "end_time": "2018-09-15T00:11:25.125720Z",
     "start_time": "2018-09-15T00:11:23.202875Z"
    }
   }
  },
  {
   "cell_type": "code",
   "execution_count": null,
   "source": [
    "# run KMeans separately on both the training set and test set\n",
    "data = [train_df, test_df]\n",
    "num_clusters = 40\n",
    "for dataset in data:\n",
    "    coordinates = dataset.loc[:,['Y','X']]\n",
    "    kmeans = KMeans(n_clusters=num_clusters, n_jobs=jobs, random_state=1).fit(coordinates)\n",
    "    id_labels=kmeans.labels_\n",
    "#     print(kmeans.cluster_centers_)\n",
    "    dataset['Cluster'] = id_labels"
   ],
   "outputs": [],
   "metadata": {
    "ExecuteTime": {
     "end_time": "2018-09-15T00:15:25.723811Z",
     "start_time": "2018-09-15T00:11:25.127445Z"
    },
    "pycharm": {
     "is_executing": true
    }
   }
  },
  {
   "cell_type": "code",
   "execution_count": null,
   "source": [
    "train_df.head()"
   ],
   "outputs": [
    {
     "output_type": "execute_result",
     "data": {
      "text/html": [
       "<div>\n",
       "<style scoped>\n",
       "    .dataframe tbody tr th:only-of-type {\n",
       "        vertical-align: middle;\n",
       "    }\n",
       "\n",
       "    .dataframe tbody tr th {\n",
       "        vertical-align: top;\n",
       "    }\n",
       "\n",
       "    .dataframe thead th {\n",
       "        text-align: right;\n",
       "    }\n",
       "</style>\n",
       "<table border=\"1\" class=\"dataframe\">\n",
       "  <thead>\n",
       "    <tr style=\"text-align: right;\">\n",
       "      <th></th>\n",
       "      <th>Dates</th>\n",
       "      <th>Address</th>\n",
       "      <th>Lat</th>\n",
       "      <th>Long</th>\n",
       "      <th>Neighborhood</th>\n",
       "      <th>Precinct</th>\n",
       "      <th>Offense</th>\n",
       "      <th>Description</th>\n",
       "      <th>UCRCode</th>\n",
       "      <th>Year</th>\n",
       "      <th>...</th>\n",
       "      <th>BlockNo</th>\n",
       "      <th>Rot30_X</th>\n",
       "      <th>Rot30_Y</th>\n",
       "      <th>Rot45_X</th>\n",
       "      <th>Rot45_Y</th>\n",
       "      <th>Rot60_X</th>\n",
       "      <th>Rot60_Y</th>\n",
       "      <th>Radius</th>\n",
       "      <th>Angle</th>\n",
       "      <th>Cluster</th>\n",
       "    </tr>\n",
       "  </thead>\n",
       "  <tbody>\n",
       "    <tr>\n",
       "      <th>11380</th>\n",
       "      <td>2020-06-20 14:02:00</td>\n",
       "      <td>0001XX GRANT ST W</td>\n",
       "      <td>44.969863</td>\n",
       "      <td>-93.280080</td>\n",
       "      <td>LORING PARK</td>\n",
       "      <td>DOWNTOWN</td>\n",
       "      <td>THEFT</td>\n",
       "      <td>OTHER THEFT</td>\n",
       "      <td>7</td>\n",
       "      <td>2020</td>\n",
       "      <td>...</td>\n",
       "      <td>0</td>\n",
       "      <td>-0.029674</td>\n",
       "      <td>-0.000395</td>\n",
       "      <td>-0.028560</td>\n",
       "      <td>-0.008061</td>\n",
       "      <td>-0.025501</td>\n",
       "      <td>-0.015179</td>\n",
       "      <td>0.029676</td>\n",
       "      <td>-1.060496</td>\n",
       "      <td>25</td>\n",
       "    </tr>\n",
       "    <tr>\n",
       "      <th>8731</th>\n",
       "      <td>2018-11-12 14:08:00</td>\n",
       "      <td>0018XX CHICAGO AVE</td>\n",
       "      <td>44.964567</td>\n",
       "      <td>-93.262554</td>\n",
       "      <td>VENTURA VILLAGE</td>\n",
       "      <td>SOUTHEAST</td>\n",
       "      <td>TBLDG</td>\n",
       "      <td>THEFT FROM BUILDING</td>\n",
       "      <td>7</td>\n",
       "      <td>2018</td>\n",
       "      <td>...</td>\n",
       "      <td>0</td>\n",
       "      <td>0.002942</td>\n",
       "      <td>-0.001507</td>\n",
       "      <td>0.003232</td>\n",
       "      <td>-0.000694</td>\n",
       "      <td>0.003302</td>\n",
       "      <td>0.000166</td>\n",
       "      <td>0.003306</td>\n",
       "      <td>2.567789</td>\n",
       "      <td>18</td>\n",
       "    </tr>\n",
       "    <tr>\n",
       "      <th>3283</th>\n",
       "      <td>2018-07-18 11:45:00</td>\n",
       "      <td>0014XX NICOLLET AVE</td>\n",
       "      <td>44.968424</td>\n",
       "      <td>-93.277817</td>\n",
       "      <td>LORING PARK</td>\n",
       "      <td>DOWNTOWN</td>\n",
       "      <td>PETIT</td>\n",
       "      <td>OBS - PETTY THEFT</td>\n",
       "      <td>7</td>\n",
       "      <td>2018</td>\n",
       "      <td>...</td>\n",
       "      <td>0</td>\n",
       "      <td>-0.024230</td>\n",
       "      <td>-0.002672</td>\n",
       "      <td>-0.022713</td>\n",
       "      <td>-0.008852</td>\n",
       "      <td>-0.019648</td>\n",
       "      <td>-0.014429</td>\n",
       "      <td>0.024377</td>\n",
       "      <td>-1.157034</td>\n",
       "      <td>25</td>\n",
       "    </tr>\n",
       "    <tr>\n",
       "      <th>16375</th>\n",
       "      <td>2020-07-26 06:00:00</td>\n",
       "      <td>0009XX 28TH AVE NE</td>\n",
       "      <td>45.018586</td>\n",
       "      <td>-93.246420</td>\n",
       "      <td>AUDUBON PARK</td>\n",
       "      <td>NORTHEAST</td>\n",
       "      <td>TFMV</td>\n",
       "      <td>THEFT-MOTR VEH PARTS</td>\n",
       "      <td>7</td>\n",
       "      <td>2020</td>\n",
       "      <td>...</td>\n",
       "      <td>0</td>\n",
       "      <td>-0.063072</td>\n",
       "      <td>0.163811</td>\n",
       "      <td>-0.103321</td>\n",
       "      <td>0.141904</td>\n",
       "      <td>-0.136528</td>\n",
       "      <td>0.110328</td>\n",
       "      <td>0.175534</td>\n",
       "      <td>0.156061</td>\n",
       "      <td>27</td>\n",
       "    </tr>\n",
       "    <tr>\n",
       "      <th>19965</th>\n",
       "      <td>2020-09-19 23:00:00</td>\n",
       "      <td>0026XX LYNDALE AVE S</td>\n",
       "      <td>44.954638</td>\n",
       "      <td>-93.288048</td>\n",
       "      <td>LOWRY HILL EAST</td>\n",
       "      <td>SOUTHWEST</td>\n",
       "      <td>BIKETF</td>\n",
       "      <td>BIKE THEFT</td>\n",
       "      <td>7</td>\n",
       "      <td>2020</td>\n",
       "      <td>...</td>\n",
       "      <td>0</td>\n",
       "      <td>-0.015747</td>\n",
       "      <td>-0.049691</td>\n",
       "      <td>-0.002349</td>\n",
       "      <td>-0.052073</td>\n",
       "      <td>0.011208</td>\n",
       "      <td>-0.050907</td>\n",
       "      <td>0.052126</td>\n",
       "      <td>-2.311112</td>\n",
       "      <td>4</td>\n",
       "    </tr>\n",
       "  </tbody>\n",
       "</table>\n",
       "<p>5 rows × 36 columns</p>\n",
       "</div>"
      ],
      "text/plain": [
       "                    Dates               Address        Lat       Long  \\\n",
       "11380 2020-06-20 14:02:00     0001XX GRANT ST W  44.969863 -93.280080   \n",
       "8731  2018-11-12 14:08:00   0018XX CHICAGO AVE   44.964567 -93.262554   \n",
       "3283  2018-07-18 11:45:00  0014XX NICOLLET AVE   44.968424 -93.277817   \n",
       "16375 2020-07-26 06:00:00    0009XX 28TH AVE NE  45.018586 -93.246420   \n",
       "19965 2020-09-19 23:00:00  0026XX LYNDALE AVE S  44.954638 -93.288048   \n",
       "\n",
       "          Neighborhood   Precinct Offense                     Description  \\\n",
       "11380      LORING PARK   DOWNTOWN   THEFT  OTHER THEFT                      \n",
       "8731   VENTURA VILLAGE  SOUTHEAST   TBLDG  THEFT FROM BUILDING              \n",
       "3283       LORING PARK   DOWNTOWN   PETIT  OBS - PETTY THEFT                \n",
       "16375     AUDUBON PARK  NORTHEAST    TFMV  THEFT-MOTR VEH PARTS             \n",
       "19965  LOWRY HILL EAST  SOUTHWEST  BIKETF  BIKE THEFT                       \n",
       "\n",
       "       UCRCode  Year  ...  BlockNo   Rot30_X   Rot30_Y   Rot45_X   Rot45_Y  \\\n",
       "11380        7  2020  ...        0 -0.029674 -0.000395 -0.028560 -0.008061   \n",
       "8731         7  2018  ...        0  0.002942 -0.001507  0.003232 -0.000694   \n",
       "3283         7  2018  ...        0 -0.024230 -0.002672 -0.022713 -0.008852   \n",
       "16375        7  2020  ...        0 -0.063072  0.163811 -0.103321  0.141904   \n",
       "19965        7  2020  ...        0 -0.015747 -0.049691 -0.002349 -0.052073   \n",
       "\n",
       "        Rot60_X   Rot60_Y    Radius     Angle  Cluster  \n",
       "11380 -0.025501 -0.015179  0.029676 -1.060496       25  \n",
       "8731   0.003302  0.000166  0.003306  2.567789       18  \n",
       "3283  -0.019648 -0.014429  0.024377 -1.157034       25  \n",
       "16375 -0.136528  0.110328  0.175534  0.156061       27  \n",
       "19965  0.011208 -0.050907  0.052126 -2.311112        4  \n",
       "\n",
       "[5 rows x 36 columns]"
      ]
     },
     "metadata": {},
     "execution_count": 258
    }
   ],
   "metadata": {
    "ExecuteTime": {
     "end_time": "2018-09-15T00:15:25.757165Z",
     "start_time": "2018-09-15T00:15:25.727020Z"
    },
    "pycharm": {
     "is_executing": true
    }
   }
  },
  {
   "cell_type": "markdown",
   "source": [
    "## Drop Features\n",
    "\n",
    "- We have already extracted all the necessary features from the `Address` attribute, so drop\n",
    "- We don't need `Resolution` or `Descript` features since it is not included in the training data"
   ],
   "metadata": {}
  },
  {
   "cell_type": "code",
   "execution_count": null,
   "source": [
    "# Drop Address feature from both train and test set\n",
    "train_df.drop(['Address'], axis=1, inplace=True)\n",
    "test_df.drop(['Address'], axis=1, inplace=True)"
   ],
   "outputs": [],
   "metadata": {
    "ExecuteTime": {
     "end_time": "2018-09-15T00:15:26.460052Z",
     "start_time": "2018-09-15T00:15:25.759851Z"
    },
    "pycharm": {
     "is_executing": true
    }
   }
  },
  {
   "cell_type": "code",
   "execution_count": null,
   "source": [
    "train_df.head()\n",
    "train_df.drop(['Dates'], axis=1, inplace=True)\n",
    "test_df.drop(['Dates'], axis=1, inplace=True)"
   ],
   "outputs": [],
   "metadata": {
    "ExecuteTime": {
     "end_time": "2018-09-15T00:15:26.724329Z",
     "start_time": "2018-09-15T00:15:26.462106Z"
    },
    "pycharm": {
     "is_executing": true
    }
   }
  },
  {
   "cell_type": "code",
   "execution_count": null,
   "source": [
    "# Drop columns that are no longer needed\n",
    "train_df.drop(['Lat', 'Long'], axis=1, inplace=True)\n",
    "test_df.drop(['Lat', 'Long'], axis=1, inplace=True)"
   ],
   "outputs": [],
   "metadata": {
    "ExecuteTime": {
     "end_time": "2018-09-15T00:15:26.815822Z",
     "start_time": "2018-09-15T00:15:26.726626Z"
    },
    "pycharm": {
     "is_executing": true
    }
   }
  },
  {
   "cell_type": "code",
   "execution_count": null,
   "source": [
    "# Drop Descript column since test set does not have this column\n",
    "train_df.drop(['Description'], axis=1, inplace=True)"
   ],
   "outputs": [],
   "metadata": {
    "ExecuteTime": {
     "end_time": "2018-09-15T00:15:26.912963Z",
     "start_time": "2018-09-15T00:15:26.817639Z"
    },
    "pycharm": {
     "is_executing": true
    }
   }
  },
  {
   "cell_type": "code",
   "execution_count": null,
   "source": [
    "# # Let's quickly view the data\n",
    "# dict(zip(offense.classes_, offense.transform(offense.classes_)))\n"
   ],
   "outputs": [],
   "metadata": {
    "ExecuteTime": {
     "end_time": "2018-09-15T00:15:26.936327Z",
     "start_time": "2018-09-15T00:15:26.915051Z"
    },
    "pycharm": {
     "is_executing": true
    }
   }
  },
  {
   "cell_type": "markdown",
   "source": [
    "# Feature Encoding \n",
    "\n",
    "- Convert categorical data to numeric data"
   ],
   "metadata": {}
  },
  {
   "cell_type": "markdown",
   "source": [
    "### Precincts\n",
    "\n",
    "- convert Precinct categorical feature to numeric"
   ],
   "metadata": {}
  },
  {
   "cell_type": "code",
   "execution_count": null,
   "source": [
    "precincts = {'DOWNTOWN':1, 'NORTHEAST':2, 'SOUTHEAST':3, 'NORTH':4, 'SOUTHWEST':5}\n",
    "train_df['Precinct'].replace(precincts, inplace=True)\n",
    "test_df['Precinct'].replace(precincts, inplace=True)"
   ],
   "outputs": [],
   "metadata": {
    "ExecuteTime": {
     "end_time": "2018-09-15T00:15:27.960027Z",
     "start_time": "2018-09-15T00:15:26.938164Z"
    },
    "pycharm": {
     "is_executing": true
    }
   }
  },
  {
   "cell_type": "code",
   "execution_count": null,
   "source": [
    "train_df.head()"
   ],
   "outputs": [
    {
     "output_type": "execute_result",
     "data": {
      "text/html": [
       "<div>\n",
       "<style scoped>\n",
       "    .dataframe tbody tr th:only-of-type {\n",
       "        vertical-align: middle;\n",
       "    }\n",
       "\n",
       "    .dataframe tbody tr th {\n",
       "        vertical-align: top;\n",
       "    }\n",
       "\n",
       "    .dataframe thead th {\n",
       "        text-align: right;\n",
       "    }\n",
       "</style>\n",
       "<table border=\"1\" class=\"dataframe\">\n",
       "  <thead>\n",
       "    <tr style=\"text-align: right;\">\n",
       "      <th></th>\n",
       "      <th>Neighborhood</th>\n",
       "      <th>Precinct</th>\n",
       "      <th>Offense</th>\n",
       "      <th>UCRCode</th>\n",
       "      <th>Year</th>\n",
       "      <th>Month</th>\n",
       "      <th>DayOfWeek_Num</th>\n",
       "      <th>DayOfWeek</th>\n",
       "      <th>Hour</th>\n",
       "      <th>Category</th>\n",
       "      <th>...</th>\n",
       "      <th>BlockNo</th>\n",
       "      <th>Rot30_X</th>\n",
       "      <th>Rot30_Y</th>\n",
       "      <th>Rot45_X</th>\n",
       "      <th>Rot45_Y</th>\n",
       "      <th>Rot60_X</th>\n",
       "      <th>Rot60_Y</th>\n",
       "      <th>Radius</th>\n",
       "      <th>Angle</th>\n",
       "      <th>Cluster</th>\n",
       "    </tr>\n",
       "  </thead>\n",
       "  <tbody>\n",
       "    <tr>\n",
       "      <th>11380</th>\n",
       "      <td>LORING PARK</td>\n",
       "      <td>1</td>\n",
       "      <td>THEFT</td>\n",
       "      <td>7</td>\n",
       "      <td>2020</td>\n",
       "      <td>6</td>\n",
       "      <td>5</td>\n",
       "      <td>Saturday</td>\n",
       "      <td>14</td>\n",
       "      <td>LARCENY</td>\n",
       "      <td>...</td>\n",
       "      <td>0</td>\n",
       "      <td>-0.029674</td>\n",
       "      <td>-0.000395</td>\n",
       "      <td>-0.028560</td>\n",
       "      <td>-0.008061</td>\n",
       "      <td>-0.025501</td>\n",
       "      <td>-0.015179</td>\n",
       "      <td>0.029676</td>\n",
       "      <td>-1.060496</td>\n",
       "      <td>25</td>\n",
       "    </tr>\n",
       "    <tr>\n",
       "      <th>8731</th>\n",
       "      <td>VENTURA VILLAGE</td>\n",
       "      <td>3</td>\n",
       "      <td>TBLDG</td>\n",
       "      <td>7</td>\n",
       "      <td>2018</td>\n",
       "      <td>11</td>\n",
       "      <td>0</td>\n",
       "      <td>Monday</td>\n",
       "      <td>14</td>\n",
       "      <td>LARCENY</td>\n",
       "      <td>...</td>\n",
       "      <td>0</td>\n",
       "      <td>0.002942</td>\n",
       "      <td>-0.001507</td>\n",
       "      <td>0.003232</td>\n",
       "      <td>-0.000694</td>\n",
       "      <td>0.003302</td>\n",
       "      <td>0.000166</td>\n",
       "      <td>0.003306</td>\n",
       "      <td>2.567789</td>\n",
       "      <td>18</td>\n",
       "    </tr>\n",
       "    <tr>\n",
       "      <th>3283</th>\n",
       "      <td>LORING PARK</td>\n",
       "      <td>1</td>\n",
       "      <td>PETIT</td>\n",
       "      <td>7</td>\n",
       "      <td>2018</td>\n",
       "      <td>7</td>\n",
       "      <td>2</td>\n",
       "      <td>Wednesday</td>\n",
       "      <td>11</td>\n",
       "      <td>LARCENY</td>\n",
       "      <td>...</td>\n",
       "      <td>0</td>\n",
       "      <td>-0.024230</td>\n",
       "      <td>-0.002672</td>\n",
       "      <td>-0.022713</td>\n",
       "      <td>-0.008852</td>\n",
       "      <td>-0.019648</td>\n",
       "      <td>-0.014429</td>\n",
       "      <td>0.024377</td>\n",
       "      <td>-1.157034</td>\n",
       "      <td>25</td>\n",
       "    </tr>\n",
       "    <tr>\n",
       "      <th>16375</th>\n",
       "      <td>AUDUBON PARK</td>\n",
       "      <td>2</td>\n",
       "      <td>TFMV</td>\n",
       "      <td>7</td>\n",
       "      <td>2020</td>\n",
       "      <td>7</td>\n",
       "      <td>6</td>\n",
       "      <td>Sunday</td>\n",
       "      <td>6</td>\n",
       "      <td>LARCENY</td>\n",
       "      <td>...</td>\n",
       "      <td>0</td>\n",
       "      <td>-0.063072</td>\n",
       "      <td>0.163811</td>\n",
       "      <td>-0.103321</td>\n",
       "      <td>0.141904</td>\n",
       "      <td>-0.136528</td>\n",
       "      <td>0.110328</td>\n",
       "      <td>0.175534</td>\n",
       "      <td>0.156061</td>\n",
       "      <td>27</td>\n",
       "    </tr>\n",
       "    <tr>\n",
       "      <th>19965</th>\n",
       "      <td>LOWRY HILL EAST</td>\n",
       "      <td>5</td>\n",
       "      <td>BIKETF</td>\n",
       "      <td>7</td>\n",
       "      <td>2020</td>\n",
       "      <td>9</td>\n",
       "      <td>5</td>\n",
       "      <td>Saturday</td>\n",
       "      <td>23</td>\n",
       "      <td>LARCENY</td>\n",
       "      <td>...</td>\n",
       "      <td>0</td>\n",
       "      <td>-0.015747</td>\n",
       "      <td>-0.049691</td>\n",
       "      <td>-0.002349</td>\n",
       "      <td>-0.052073</td>\n",
       "      <td>0.011208</td>\n",
       "      <td>-0.050907</td>\n",
       "      <td>0.052126</td>\n",
       "      <td>-2.311112</td>\n",
       "      <td>4</td>\n",
       "    </tr>\n",
       "  </tbody>\n",
       "</table>\n",
       "<p>5 rows × 31 columns</p>\n",
       "</div>"
      ],
      "text/plain": [
       "          Neighborhood  Precinct Offense  UCRCode  Year  Month  DayOfWeek_Num  \\\n",
       "11380      LORING PARK         1   THEFT        7  2020      6              5   \n",
       "8731   VENTURA VILLAGE         3   TBLDG        7  2018     11              0   \n",
       "3283       LORING PARK         1   PETIT        7  2018      7              2   \n",
       "16375     AUDUBON PARK         2    TFMV        7  2020      7              6   \n",
       "19965  LOWRY HILL EAST         5  BIKETF        7  2020      9              5   \n",
       "\n",
       "       DayOfWeek  Hour Category  ...  BlockNo   Rot30_X   Rot30_Y   Rot45_X  \\\n",
       "11380   Saturday    14  LARCENY  ...        0 -0.029674 -0.000395 -0.028560   \n",
       "8731      Monday    14  LARCENY  ...        0  0.002942 -0.001507  0.003232   \n",
       "3283   Wednesday    11  LARCENY  ...        0 -0.024230 -0.002672 -0.022713   \n",
       "16375     Sunday     6  LARCENY  ...        0 -0.063072  0.163811 -0.103321   \n",
       "19965   Saturday    23  LARCENY  ...        0 -0.015747 -0.049691 -0.002349   \n",
       "\n",
       "        Rot45_Y   Rot60_X   Rot60_Y    Radius     Angle  Cluster  \n",
       "11380 -0.008061 -0.025501 -0.015179  0.029676 -1.060496       25  \n",
       "8731  -0.000694  0.003302  0.000166  0.003306  2.567789       18  \n",
       "3283  -0.008852 -0.019648 -0.014429  0.024377 -1.157034       25  \n",
       "16375  0.141904 -0.136528  0.110328  0.175534  0.156061       27  \n",
       "19965 -0.052073  0.011208 -0.050907  0.052126 -2.311112        4  \n",
       "\n",
       "[5 rows x 31 columns]"
      ]
     },
     "metadata": {},
     "execution_count": 265
    }
   ],
   "metadata": {
    "ExecuteTime": {
     "end_time": "2018-09-15T00:15:27.981326Z",
     "start_time": "2018-09-15T00:15:27.961850Z"
    },
    "pycharm": {
     "is_executing": true
    }
   }
  },
  {
   "cell_type": "markdown",
   "source": [
    "### Neighborhoods\n",
    "\n",
    "- convert Neighborhoods categorical feature to numeric"
   ],
   "metadata": {}
  },
  {
   "cell_type": "code",
   "execution_count": null,
   "source": [
    "data = [train_df, test_df]\n",
    "for dataset in data:\n",
    "    neighborhood_le = LabelEncoder()\n",
    "    neighborhood_le.fit(dataset['Neighborhood'].unique())\n",
    "    #print(list(neighborhood.classes_))\n",
    "\n",
    "    dataset['Neighborhood']=neighborhood_le.transform(dataset['Neighborhood']) \n",
    "    \n",
    "train_df.head()"
   ],
   "outputs": [
    {
     "output_type": "execute_result",
     "data": {
      "text/html": [
       "<div>\n",
       "<style scoped>\n",
       "    .dataframe tbody tr th:only-of-type {\n",
       "        vertical-align: middle;\n",
       "    }\n",
       "\n",
       "    .dataframe tbody tr th {\n",
       "        vertical-align: top;\n",
       "    }\n",
       "\n",
       "    .dataframe thead th {\n",
       "        text-align: right;\n",
       "    }\n",
       "</style>\n",
       "<table border=\"1\" class=\"dataframe\">\n",
       "  <thead>\n",
       "    <tr style=\"text-align: right;\">\n",
       "      <th></th>\n",
       "      <th>Neighborhood</th>\n",
       "      <th>Precinct</th>\n",
       "      <th>Offense</th>\n",
       "      <th>UCRCode</th>\n",
       "      <th>Year</th>\n",
       "      <th>Month</th>\n",
       "      <th>DayOfWeek_Num</th>\n",
       "      <th>DayOfWeek</th>\n",
       "      <th>Hour</th>\n",
       "      <th>Category</th>\n",
       "      <th>...</th>\n",
       "      <th>BlockNo</th>\n",
       "      <th>Rot30_X</th>\n",
       "      <th>Rot30_Y</th>\n",
       "      <th>Rot45_X</th>\n",
       "      <th>Rot45_Y</th>\n",
       "      <th>Rot60_X</th>\n",
       "      <th>Rot60_Y</th>\n",
       "      <th>Radius</th>\n",
       "      <th>Angle</th>\n",
       "      <th>Cluster</th>\n",
       "    </tr>\n",
       "  </thead>\n",
       "  <tbody>\n",
       "    <tr>\n",
       "      <th>11380</th>\n",
       "      <td>45</td>\n",
       "      <td>1</td>\n",
       "      <td>THEFT</td>\n",
       "      <td>7</td>\n",
       "      <td>2020</td>\n",
       "      <td>6</td>\n",
       "      <td>5</td>\n",
       "      <td>Saturday</td>\n",
       "      <td>14</td>\n",
       "      <td>LARCENY</td>\n",
       "      <td>...</td>\n",
       "      <td>0</td>\n",
       "      <td>-0.029674</td>\n",
       "      <td>-0.000395</td>\n",
       "      <td>-0.028560</td>\n",
       "      <td>-0.008061</td>\n",
       "      <td>-0.025501</td>\n",
       "      <td>-0.015179</td>\n",
       "      <td>0.029676</td>\n",
       "      <td>-1.060496</td>\n",
       "      <td>25</td>\n",
       "    </tr>\n",
       "    <tr>\n",
       "      <th>8731</th>\n",
       "      <td>77</td>\n",
       "      <td>3</td>\n",
       "      <td>TBLDG</td>\n",
       "      <td>7</td>\n",
       "      <td>2018</td>\n",
       "      <td>11</td>\n",
       "      <td>0</td>\n",
       "      <td>Monday</td>\n",
       "      <td>14</td>\n",
       "      <td>LARCENY</td>\n",
       "      <td>...</td>\n",
       "      <td>0</td>\n",
       "      <td>0.002942</td>\n",
       "      <td>-0.001507</td>\n",
       "      <td>0.003232</td>\n",
       "      <td>-0.000694</td>\n",
       "      <td>0.003302</td>\n",
       "      <td>0.000166</td>\n",
       "      <td>0.003306</td>\n",
       "      <td>2.567789</td>\n",
       "      <td>18</td>\n",
       "    </tr>\n",
       "    <tr>\n",
       "      <th>3283</th>\n",
       "      <td>45</td>\n",
       "      <td>1</td>\n",
       "      <td>PETIT</td>\n",
       "      <td>7</td>\n",
       "      <td>2018</td>\n",
       "      <td>7</td>\n",
       "      <td>2</td>\n",
       "      <td>Wednesday</td>\n",
       "      <td>11</td>\n",
       "      <td>LARCENY</td>\n",
       "      <td>...</td>\n",
       "      <td>0</td>\n",
       "      <td>-0.024230</td>\n",
       "      <td>-0.002672</td>\n",
       "      <td>-0.022713</td>\n",
       "      <td>-0.008852</td>\n",
       "      <td>-0.019648</td>\n",
       "      <td>-0.014429</td>\n",
       "      <td>0.024377</td>\n",
       "      <td>-1.157034</td>\n",
       "      <td>25</td>\n",
       "    </tr>\n",
       "    <tr>\n",
       "      <th>16375</th>\n",
       "      <td>1</td>\n",
       "      <td>2</td>\n",
       "      <td>TFMV</td>\n",
       "      <td>7</td>\n",
       "      <td>2020</td>\n",
       "      <td>7</td>\n",
       "      <td>6</td>\n",
       "      <td>Sunday</td>\n",
       "      <td>6</td>\n",
       "      <td>LARCENY</td>\n",
       "      <td>...</td>\n",
       "      <td>0</td>\n",
       "      <td>-0.063072</td>\n",
       "      <td>0.163811</td>\n",
       "      <td>-0.103321</td>\n",
       "      <td>0.141904</td>\n",
       "      <td>-0.136528</td>\n",
       "      <td>0.110328</td>\n",
       "      <td>0.175534</td>\n",
       "      <td>0.156061</td>\n",
       "      <td>27</td>\n",
       "    </tr>\n",
       "    <tr>\n",
       "      <th>19965</th>\n",
       "      <td>47</td>\n",
       "      <td>5</td>\n",
       "      <td>BIKETF</td>\n",
       "      <td>7</td>\n",
       "      <td>2020</td>\n",
       "      <td>9</td>\n",
       "      <td>5</td>\n",
       "      <td>Saturday</td>\n",
       "      <td>23</td>\n",
       "      <td>LARCENY</td>\n",
       "      <td>...</td>\n",
       "      <td>0</td>\n",
       "      <td>-0.015747</td>\n",
       "      <td>-0.049691</td>\n",
       "      <td>-0.002349</td>\n",
       "      <td>-0.052073</td>\n",
       "      <td>0.011208</td>\n",
       "      <td>-0.050907</td>\n",
       "      <td>0.052126</td>\n",
       "      <td>-2.311112</td>\n",
       "      <td>4</td>\n",
       "    </tr>\n",
       "  </tbody>\n",
       "</table>\n",
       "<p>5 rows × 31 columns</p>\n",
       "</div>"
      ],
      "text/plain": [
       "       Neighborhood  Precinct Offense  UCRCode  Year  Month  DayOfWeek_Num  \\\n",
       "11380            45         1   THEFT        7  2020      6              5   \n",
       "8731             77         3   TBLDG        7  2018     11              0   \n",
       "3283             45         1   PETIT        7  2018      7              2   \n",
       "16375             1         2    TFMV        7  2020      7              6   \n",
       "19965            47         5  BIKETF        7  2020      9              5   \n",
       "\n",
       "       DayOfWeek  Hour Category  ...  BlockNo   Rot30_X   Rot30_Y   Rot45_X  \\\n",
       "11380   Saturday    14  LARCENY  ...        0 -0.029674 -0.000395 -0.028560   \n",
       "8731      Monday    14  LARCENY  ...        0  0.002942 -0.001507  0.003232   \n",
       "3283   Wednesday    11  LARCENY  ...        0 -0.024230 -0.002672 -0.022713   \n",
       "16375     Sunday     6  LARCENY  ...        0 -0.063072  0.163811 -0.103321   \n",
       "19965   Saturday    23  LARCENY  ...        0 -0.015747 -0.049691 -0.002349   \n",
       "\n",
       "        Rot45_Y   Rot60_X   Rot60_Y    Radius     Angle  Cluster  \n",
       "11380 -0.008061 -0.025501 -0.015179  0.029676 -1.060496       25  \n",
       "8731  -0.000694  0.003302  0.000166  0.003306  2.567789       18  \n",
       "3283  -0.008852 -0.019648 -0.014429  0.024377 -1.157034       25  \n",
       "16375  0.141904 -0.136528  0.110328  0.175534  0.156061       27  \n",
       "19965 -0.052073  0.011208 -0.050907  0.052126 -2.311112        4  \n",
       "\n",
       "[5 rows x 31 columns]"
      ]
     },
     "metadata": {},
     "execution_count": 266
    }
   ],
   "metadata": {
    "ExecuteTime": {
     "end_time": "2018-09-15T00:15:28.548217Z",
     "start_time": "2018-09-15T00:15:28.482183Z"
    },
    "pycharm": {
     "is_executing": true
    }
   }
  },
  {
   "cell_type": "code",
   "execution_count": null,
   "source": [
    "# So we know the mapping (important)\n",
    "dict(zip(neighborhood_le.classes_, neighborhood_le.transform(neighborhood_le.classes_)))"
   ],
   "outputs": [
    {
     "output_type": "execute_result",
     "data": {
      "text/plain": [
       "{'ARMATAGE': 0,\n",
       " 'AUDUBON PARK': 1,\n",
       " 'BANCROFT': 2,\n",
       " 'BELTRAMI': 3,\n",
       " 'BOTTINEAU': 4,\n",
       " 'BRYANT': 5,\n",
       " 'BRYN - MAWR': 6,\n",
       " 'CAMDEN INDUSTRIAL': 7,\n",
       " 'CARAG': 8,\n",
       " 'CEDAR - ISLES - DEAN': 9,\n",
       " 'CEDAR RIVERSIDE': 10,\n",
       " 'CENTRAL': 11,\n",
       " 'CLEVELAND': 12,\n",
       " 'COLUMBIA PARK': 13,\n",
       " 'COMO': 14,\n",
       " 'COOPER': 15,\n",
       " 'CORCORAN': 16,\n",
       " 'DIAMOND LAKE': 17,\n",
       " 'DOWNTOWN EAST': 18,\n",
       " 'DOWNTOWN WEST': 19,\n",
       " 'EAST HARRIET': 20,\n",
       " 'EAST ISLES': 21,\n",
       " 'EAST PHILLIPS': 22,\n",
       " 'ECCO': 23,\n",
       " 'ELLIOT PARK': 24,\n",
       " 'ERICSSON': 25,\n",
       " 'FIELD': 26,\n",
       " 'FOLWELL': 27,\n",
       " 'FULTON': 28,\n",
       " 'HALE': 29,\n",
       " 'HARRISON': 30,\n",
       " 'HAWTHORNE': 31,\n",
       " 'HIAWATHA': 32,\n",
       " 'HOLLAND': 33,\n",
       " 'HOWE': 34,\n",
       " 'HUMBOLDT INDUSTRIAL AREA': 35,\n",
       " 'JORDAN': 36,\n",
       " 'KEEWAYDIN': 37,\n",
       " 'KENNY': 38,\n",
       " 'KENWOOD': 39,\n",
       " 'KING FIELD': 40,\n",
       " 'LIND - BOHANON': 41,\n",
       " 'LINDEN HILLS': 42,\n",
       " 'LOGAN PARK': 43,\n",
       " 'LONGFELLOW': 44,\n",
       " 'LORING PARK': 45,\n",
       " 'LOWRY HILL': 46,\n",
       " 'LOWRY HILL EAST': 47,\n",
       " 'LYNDALE': 48,\n",
       " 'LYNNHURST': 49,\n",
       " 'MARCY HOLMES': 50,\n",
       " 'MARSHALL TERRACE': 51,\n",
       " 'MCKINLEY': 52,\n",
       " 'MID - CITY INDUSTRIAL': 53,\n",
       " 'MIDTOWN PHILLIPS': 54,\n",
       " 'MINNEHAHA': 55,\n",
       " 'MORRIS PARK': 56,\n",
       " 'NEAR - NORTH': 57,\n",
       " 'NICOLLET ISLAND - EAST BANK': 58,\n",
       " 'NORTH LOOP': 59,\n",
       " 'NORTHEAST PARK': 60,\n",
       " 'NORTHROP': 61,\n",
       " 'PAGE': 62,\n",
       " 'PHILLIPS WEST': 63,\n",
       " 'POWDERHORN PARK': 64,\n",
       " 'PROSPECT PARK - EAST RIVER ROAD': 65,\n",
       " 'REGINA': 66,\n",
       " 'SEWARD': 67,\n",
       " 'SHERIDAN': 68,\n",
       " 'SHINGLE CREEK': 69,\n",
       " 'ST. ANTHONY EAST': 70,\n",
       " 'ST. ANTHONY WEST': 71,\n",
       " 'STANDISH': 72,\n",
       " 'STEVENS SQUARE - LORING HEIGHTS': 73,\n",
       " 'SUMNER - GLENWOOD': 74,\n",
       " 'TANGLETOWN': 75,\n",
       " 'UNIVERSITY OF MINNESOTA': 76,\n",
       " 'VENTURA VILLAGE': 77,\n",
       " 'VICTORY': 78,\n",
       " 'WAITE PARK': 79,\n",
       " 'WEBBER - CAMDEN': 80,\n",
       " 'WENONAH': 81,\n",
       " 'WEST CALHOUN': 82,\n",
       " 'WEST MAKA SKA': 83,\n",
       " 'WHITTIER': 84,\n",
       " 'WILLARD - HAY': 85,\n",
       " 'WINDOM': 86,\n",
       " 'WINDOM PARK': 87}"
      ]
     },
     "metadata": {},
     "execution_count": 267
    }
   ],
   "metadata": {
    "pycharm": {
     "is_executing": true
    }
   }
  },
  {
   "cell_type": "markdown",
   "source": [
    "### Year\n",
    "\n",
    "- Year is an **ordinal** variable, so let's keep that ordering and mapping\n",
    "- convert Year categorical feature to numeric"
   ],
   "metadata": {
    "ExecuteTime": {
     "end_time": "2018-09-15T00:15:28.558184Z",
     "start_time": "2018-09-15T00:15:28.549815Z"
    }
   }
  },
  {
   "cell_type": "code",
   "execution_count": null,
   "source": [
    "data = [train_df, test_df]\n",
    "\n",
    "for dataset in data:\n",
    "    year_le = LabelEncoder()\n",
    "    year_le.fit(dataset['Year'].unique())\n",
    "    print(list(year_le.classes_))\n",
    "\n",
    "    dataset['Year']=year_le.transform(dataset['Year']) "
   ],
   "outputs": [
    {
     "output_type": "stream",
     "name": "stdout",
     "text": [
      "[2018, 2019, 2020]\n",
      "[2018, 2019, 2020]\n"
     ]
    }
   ],
   "metadata": {
    "ExecuteTime": {
     "end_time": "2018-09-15T00:15:28.565007Z",
     "start_time": "2018-09-15T00:15:28.560030Z"
    },
    "pycharm": {
     "is_executing": true
    }
   }
  },
  {
   "cell_type": "code",
   "execution_count": null,
   "source": [
    "dict(zip(year_le.classes_, year_le.transform(year_le.classes_)))"
   ],
   "outputs": [
    {
     "output_type": "execute_result",
     "data": {
      "text/plain": [
       "{2018: 0, 2019: 1, 2020: 2}"
      ]
     },
     "metadata": {},
     "execution_count": 269
    }
   ],
   "metadata": {
    "pycharm": {
     "is_executing": true
    }
   }
  },
  {
   "cell_type": "markdown",
   "source": [
    "## Offense\n",
    "Convert to numeric"
   ],
   "metadata": {}
  },
  {
   "cell_type": "code",
   "execution_count": null,
   "source": [
    "data = [train_df, test_df]\n",
    "\n",
    "for dataset in data:\n",
    "    offense_le = LabelEncoder()\n",
    "    offense_le.fit(dataset['Offense'].unique())\n",
    "    print(list(offense_le.classes_))\n",
    "\n",
    "    dataset['Offense']=offense_le.transform(dataset['Offense']) \n",
    "    # So we know the mapping (important)\n",
    "    \n",
    "dict(zip(offense_le.classes_, offense_le.transform(offense_le.classes_)))"
   ],
   "outputs": [
    {
     "output_type": "stream",
     "name": "stdout",
     "text": [
      "['ARSON', 'ASLT1', 'ASLT2', 'ASLT3', 'ASLT4', 'BIKETF', 'BURGB', 'BURGD', 'COINOP', 'COMPUT', 'CSCR', 'DASLT1', 'DASLT2', 'DASLT3', 'DASTR', 'DISARM', 'GTA', 'LOOT', 'MURDR', 'NOPAY', 'ONLTHT', 'PETIT', 'POCKET', 'ROBBIZ', 'ROBPAG', 'ROBPER', 'SCRAP', 'SHOPLF', 'TBLDG', 'TFMV', 'TFPER', 'THEFT', 'THFTSW']\n",
      "['ARSON', 'ASLT1', 'ASLT2', 'ASLT3', 'ASLT4', 'BIKETF', 'BURGB', 'BURGD', 'COINOP', 'COMPUT', 'CSCR', 'DASLT1', 'DASLT2', 'DASLT3', 'DASTR', 'GTA', 'MURDR', 'ONLTHT', 'PETIT', 'POCKET', 'ROBBIZ', 'ROBPAG', 'ROBPER', 'SCRAP', 'SHOPLF', 'TBLDG', 'TFMV', 'TFPER', 'THEFT', 'THFTSW']\n"
     ]
    },
    {
     "output_type": "execute_result",
     "data": {
      "text/plain": [
       "{'ARSON': 0,\n",
       " 'ASLT1': 1,\n",
       " 'ASLT2': 2,\n",
       " 'ASLT3': 3,\n",
       " 'ASLT4': 4,\n",
       " 'BIKETF': 5,\n",
       " 'BURGB': 6,\n",
       " 'BURGD': 7,\n",
       " 'COINOP': 8,\n",
       " 'COMPUT': 9,\n",
       " 'CSCR': 10,\n",
       " 'DASLT1': 11,\n",
       " 'DASLT2': 12,\n",
       " 'DASLT3': 13,\n",
       " 'DASTR': 14,\n",
       " 'GTA': 15,\n",
       " 'MURDR': 16,\n",
       " 'ONLTHT': 17,\n",
       " 'PETIT': 18,\n",
       " 'POCKET': 19,\n",
       " 'ROBBIZ': 20,\n",
       " 'ROBPAG': 21,\n",
       " 'ROBPER': 22,\n",
       " 'SCRAP': 23,\n",
       " 'SHOPLF': 24,\n",
       " 'TBLDG': 25,\n",
       " 'TFMV': 26,\n",
       " 'TFPER': 27,\n",
       " 'THEFT': 28,\n",
       " 'THFTSW': 29}"
      ]
     },
     "metadata": {},
     "execution_count": 270
    }
   ],
   "metadata": {
    "ExecuteTime": {
     "end_time": "2018-09-15T00:15:28.548217Z",
     "start_time": "2018-09-15T00:15:28.482183Z"
    },
    "pycharm": {
     "is_executing": true
    }
   }
  },
  {
   "cell_type": "code",
   "execution_count": null,
   "source": [
    "train_df['Year'].unique()\n"
   ],
   "outputs": [
    {
     "output_type": "execute_result",
     "data": {
      "text/plain": [
       "array([2, 0, 1])"
      ]
     },
     "metadata": {},
     "execution_count": 271
    }
   ],
   "metadata": {
    "ExecuteTime": {
     "end_time": "2018-09-15T00:15:28.558184Z",
     "start_time": "2018-09-15T00:15:28.549815Z"
    },
    "pycharm": {
     "is_executing": true
    }
   }
  },
  {
   "cell_type": "code",
   "execution_count": null,
   "source": [],
   "outputs": [],
   "metadata": {
    "ExecuteTime": {
     "end_time": "2018-09-15T00:15:28.565007Z",
     "start_time": "2018-09-15T00:15:28.560030Z"
    },
    "pycharm": {
     "is_executing": true
    }
   }
  },
  {
   "cell_type": "code",
   "execution_count": null,
   "source": [
    "train_df.head()"
   ],
   "outputs": [
    {
     "output_type": "execute_result",
     "data": {
      "text/html": [
       "<div>\n",
       "<style scoped>\n",
       "    .dataframe tbody tr th:only-of-type {\n",
       "        vertical-align: middle;\n",
       "    }\n",
       "\n",
       "    .dataframe tbody tr th {\n",
       "        vertical-align: top;\n",
       "    }\n",
       "\n",
       "    .dataframe thead th {\n",
       "        text-align: right;\n",
       "    }\n",
       "</style>\n",
       "<table border=\"1\" class=\"dataframe\">\n",
       "  <thead>\n",
       "    <tr style=\"text-align: right;\">\n",
       "      <th></th>\n",
       "      <th>Neighborhood</th>\n",
       "      <th>Precinct</th>\n",
       "      <th>Offense</th>\n",
       "      <th>UCRCode</th>\n",
       "      <th>Year</th>\n",
       "      <th>Month</th>\n",
       "      <th>DayOfWeek_Num</th>\n",
       "      <th>DayOfWeek</th>\n",
       "      <th>Hour</th>\n",
       "      <th>Category</th>\n",
       "      <th>...</th>\n",
       "      <th>BlockNo</th>\n",
       "      <th>Rot30_X</th>\n",
       "      <th>Rot30_Y</th>\n",
       "      <th>Rot45_X</th>\n",
       "      <th>Rot45_Y</th>\n",
       "      <th>Rot60_X</th>\n",
       "      <th>Rot60_Y</th>\n",
       "      <th>Radius</th>\n",
       "      <th>Angle</th>\n",
       "      <th>Cluster</th>\n",
       "    </tr>\n",
       "  </thead>\n",
       "  <tbody>\n",
       "    <tr>\n",
       "      <th>11380</th>\n",
       "      <td>45</td>\n",
       "      <td>1</td>\n",
       "      <td>31</td>\n",
       "      <td>7</td>\n",
       "      <td>2</td>\n",
       "      <td>6</td>\n",
       "      <td>5</td>\n",
       "      <td>Saturday</td>\n",
       "      <td>14</td>\n",
       "      <td>LARCENY</td>\n",
       "      <td>...</td>\n",
       "      <td>0</td>\n",
       "      <td>-0.029674</td>\n",
       "      <td>-0.000395</td>\n",
       "      <td>-0.028560</td>\n",
       "      <td>-0.008061</td>\n",
       "      <td>-0.025501</td>\n",
       "      <td>-0.015179</td>\n",
       "      <td>0.029676</td>\n",
       "      <td>-1.060496</td>\n",
       "      <td>25</td>\n",
       "    </tr>\n",
       "    <tr>\n",
       "      <th>8731</th>\n",
       "      <td>77</td>\n",
       "      <td>3</td>\n",
       "      <td>28</td>\n",
       "      <td>7</td>\n",
       "      <td>0</td>\n",
       "      <td>11</td>\n",
       "      <td>0</td>\n",
       "      <td>Monday</td>\n",
       "      <td>14</td>\n",
       "      <td>LARCENY</td>\n",
       "      <td>...</td>\n",
       "      <td>0</td>\n",
       "      <td>0.002942</td>\n",
       "      <td>-0.001507</td>\n",
       "      <td>0.003232</td>\n",
       "      <td>-0.000694</td>\n",
       "      <td>0.003302</td>\n",
       "      <td>0.000166</td>\n",
       "      <td>0.003306</td>\n",
       "      <td>2.567789</td>\n",
       "      <td>18</td>\n",
       "    </tr>\n",
       "    <tr>\n",
       "      <th>3283</th>\n",
       "      <td>45</td>\n",
       "      <td>1</td>\n",
       "      <td>21</td>\n",
       "      <td>7</td>\n",
       "      <td>0</td>\n",
       "      <td>7</td>\n",
       "      <td>2</td>\n",
       "      <td>Wednesday</td>\n",
       "      <td>11</td>\n",
       "      <td>LARCENY</td>\n",
       "      <td>...</td>\n",
       "      <td>0</td>\n",
       "      <td>-0.024230</td>\n",
       "      <td>-0.002672</td>\n",
       "      <td>-0.022713</td>\n",
       "      <td>-0.008852</td>\n",
       "      <td>-0.019648</td>\n",
       "      <td>-0.014429</td>\n",
       "      <td>0.024377</td>\n",
       "      <td>-1.157034</td>\n",
       "      <td>25</td>\n",
       "    </tr>\n",
       "    <tr>\n",
       "      <th>16375</th>\n",
       "      <td>1</td>\n",
       "      <td>2</td>\n",
       "      <td>29</td>\n",
       "      <td>7</td>\n",
       "      <td>2</td>\n",
       "      <td>7</td>\n",
       "      <td>6</td>\n",
       "      <td>Sunday</td>\n",
       "      <td>6</td>\n",
       "      <td>LARCENY</td>\n",
       "      <td>...</td>\n",
       "      <td>0</td>\n",
       "      <td>-0.063072</td>\n",
       "      <td>0.163811</td>\n",
       "      <td>-0.103321</td>\n",
       "      <td>0.141904</td>\n",
       "      <td>-0.136528</td>\n",
       "      <td>0.110328</td>\n",
       "      <td>0.175534</td>\n",
       "      <td>0.156061</td>\n",
       "      <td>27</td>\n",
       "    </tr>\n",
       "    <tr>\n",
       "      <th>19965</th>\n",
       "      <td>47</td>\n",
       "      <td>5</td>\n",
       "      <td>5</td>\n",
       "      <td>7</td>\n",
       "      <td>2</td>\n",
       "      <td>9</td>\n",
       "      <td>5</td>\n",
       "      <td>Saturday</td>\n",
       "      <td>23</td>\n",
       "      <td>LARCENY</td>\n",
       "      <td>...</td>\n",
       "      <td>0</td>\n",
       "      <td>-0.015747</td>\n",
       "      <td>-0.049691</td>\n",
       "      <td>-0.002349</td>\n",
       "      <td>-0.052073</td>\n",
       "      <td>0.011208</td>\n",
       "      <td>-0.050907</td>\n",
       "      <td>0.052126</td>\n",
       "      <td>-2.311112</td>\n",
       "      <td>4</td>\n",
       "    </tr>\n",
       "  </tbody>\n",
       "</table>\n",
       "<p>5 rows × 31 columns</p>\n",
       "</div>"
      ],
      "text/plain": [
       "       Neighborhood  Precinct  Offense  UCRCode  Year  Month  DayOfWeek_Num  \\\n",
       "11380            45         1       31        7     2      6              5   \n",
       "8731             77         3       28        7     0     11              0   \n",
       "3283             45         1       21        7     0      7              2   \n",
       "16375             1         2       29        7     2      7              6   \n",
       "19965            47         5        5        7     2      9              5   \n",
       "\n",
       "       DayOfWeek  Hour Category  ...  BlockNo   Rot30_X   Rot30_Y   Rot45_X  \\\n",
       "11380   Saturday    14  LARCENY  ...        0 -0.029674 -0.000395 -0.028560   \n",
       "8731      Monday    14  LARCENY  ...        0  0.002942 -0.001507  0.003232   \n",
       "3283   Wednesday    11  LARCENY  ...        0 -0.024230 -0.002672 -0.022713   \n",
       "16375     Sunday     6  LARCENY  ...        0 -0.063072  0.163811 -0.103321   \n",
       "19965   Saturday    23  LARCENY  ...        0 -0.015747 -0.049691 -0.002349   \n",
       "\n",
       "        Rot45_Y   Rot60_X   Rot60_Y    Radius     Angle  Cluster  \n",
       "11380 -0.008061 -0.025501 -0.015179  0.029676 -1.060496       25  \n",
       "8731  -0.000694  0.003302  0.000166  0.003306  2.567789       18  \n",
       "3283  -0.008852 -0.019648 -0.014429  0.024377 -1.157034       25  \n",
       "16375  0.141904 -0.136528  0.110328  0.175534  0.156061       27  \n",
       "19965 -0.052073  0.011208 -0.050907  0.052126 -2.311112        4  \n",
       "\n",
       "[5 rows x 31 columns]"
      ]
     },
     "metadata": {},
     "execution_count": 272
    }
   ],
   "metadata": {
    "pycharm": {
     "is_executing": true
    }
   }
  },
  {
   "cell_type": "code",
   "execution_count": null,
   "source": [
    "train_df.info()"
   ],
   "outputs": [
    {
     "output_type": "stream",
     "name": "stdout",
     "text": [
      "<class 'pandas.core.frame.DataFrame'>\n",
      "Int64Index: 43504 entries, 11380 to 2916\n",
      "Data columns (total 31 columns):\n",
      " #   Column         Non-Null Count  Dtype  \n",
      "---  ------         --------------  -----  \n",
      " 0   Neighborhood   43504 non-null  int64  \n",
      " 1   Precinct       43504 non-null  int64  \n",
      " 2   Offense        43504 non-null  int64  \n",
      " 3   UCRCode        43504 non-null  int64  \n",
      " 4   Year           43504 non-null  int64  \n",
      " 5   Month          43504 non-null  int64  \n",
      " 6   DayOfWeek_Num  43504 non-null  int64  \n",
      " 7   DayOfWeek      43504 non-null  object \n",
      " 8   Hour           43504 non-null  int64  \n",
      " 9   Category       43504 non-null  object \n",
      " 10  X              43504 non-null  float64\n",
      " 11  Y              43504 non-null  float64\n",
      " 12  Minute         43504 non-null  int64  \n",
      " 13  Day            43504 non-null  int64  \n",
      " 14  Hour_Zone      43504 non-null  int64  \n",
      " 15  WeekOfYear     43504 non-null  int64  \n",
      " 16  Holiday        43504 non-null  bool   \n",
      " 17  BusinessHour   43504 non-null  uint8  \n",
      " 18  Season         43504 non-null  int64  \n",
      " 19  Weekend        43504 non-null  int64  \n",
      " 20  StreetType     43504 non-null  object \n",
      " 21  BlockNo        43504 non-null  int64  \n",
      " 22  Rot30_X        43504 non-null  float64\n",
      " 23  Rot30_Y        43504 non-null  float64\n",
      " 24  Rot45_X        43504 non-null  float64\n",
      " 25  Rot45_Y        43504 non-null  float64\n",
      " 26  Rot60_X        43504 non-null  float64\n",
      " 27  Rot60_Y        43504 non-null  float64\n",
      " 28  Radius         43504 non-null  float64\n",
      " 29  Angle          43504 non-null  float64\n",
      " 30  Cluster        43504 non-null  int32  \n",
      "dtypes: bool(1), float64(10), int32(1), int64(15), object(3), uint8(1)\n",
      "memory usage: 9.9+ MB\n"
     ]
    }
   ],
   "metadata": {
    "ExecuteTime": {
     "end_time": "2018-09-15T00:15:28.480435Z",
     "start_time": "2018-09-15T00:15:27.983129Z"
    },
    "pycharm": {
     "is_executing": true
    }
   }
  },
  {
   "cell_type": "markdown",
   "source": [
    "### Year\n",
    "\n",
    "- Year is an **ordinal** variable, so let's keep that ordering and mapping\n",
    "- convert Year categorical feature to numeric"
   ],
   "metadata": {}
  },
  {
   "cell_type": "code",
   "execution_count": null,
   "source": [
    "data = [train_df, test_df]\n",
    "# dict(zip(dow_le.classes_, dow_le.transform(dow_le.classes_)))\n",
    "for dataset in data:\n",
    "    year_le = LabelEncoder()\n",
    "    year_le.fit(dataset['Year'].unique())\n",
    "    print(list(year_le.classes_))\n",
    "\n",
    "    dataset['Year']=year_le.transform(dataset['Year']) "
   ],
   "outputs": [
    {
     "output_type": "stream",
     "name": "stdout",
     "text": [
      "[0, 1, 2]\n",
      "[0, 1, 2]\n"
     ]
    }
   ],
   "metadata": {
    "ExecuteTime": {
     "end_time": "2018-09-15T00:15:28.548217Z",
     "start_time": "2018-09-15T00:15:28.482183Z"
    },
    "pycharm": {
     "is_executing": true
    }
   }
  },
  {
   "cell_type": "code",
   "execution_count": null,
   "source": [
    "train_df['Year'].unique()"
   ],
   "outputs": [
    {
     "output_type": "execute_result",
     "data": {
      "text/plain": [
       "array([2, 0, 1])"
      ]
     },
     "metadata": {},
     "execution_count": 275
    }
   ],
   "metadata": {
    "ExecuteTime": {
     "end_time": "2018-09-15T00:15:28.558184Z",
     "start_time": "2018-09-15T00:15:28.549815Z"
    },
    "pycharm": {
     "is_executing": true
    }
   }
  },
  {
   "cell_type": "code",
   "execution_count": null,
   "source": [
    "dict(zip(year_le.classes_, year_le.transform(year_le.classes_)))"
   ],
   "outputs": [
    {
     "output_type": "execute_result",
     "data": {
      "text/plain": [
       "{0: 0, 1: 1, 2: 2}"
      ]
     },
     "metadata": {},
     "execution_count": 276
    }
   ],
   "metadata": {
    "ExecuteTime": {
     "end_time": "2018-09-15T00:15:28.565007Z",
     "start_time": "2018-09-15T00:15:28.560030Z"
    },
    "pycharm": {
     "is_executing": true
    }
   }
  },
  {
   "cell_type": "code",
   "execution_count": null,
   "source": [
    "train_df.head()"
   ],
   "outputs": [
    {
     "output_type": "execute_result",
     "data": {
      "text/html": [
       "<div>\n",
       "<style scoped>\n",
       "    .dataframe tbody tr th:only-of-type {\n",
       "        vertical-align: middle;\n",
       "    }\n",
       "\n",
       "    .dataframe tbody tr th {\n",
       "        vertical-align: top;\n",
       "    }\n",
       "\n",
       "    .dataframe thead th {\n",
       "        text-align: right;\n",
       "    }\n",
       "</style>\n",
       "<table border=\"1\" class=\"dataframe\">\n",
       "  <thead>\n",
       "    <tr style=\"text-align: right;\">\n",
       "      <th></th>\n",
       "      <th>Neighborhood</th>\n",
       "      <th>Precinct</th>\n",
       "      <th>Offense</th>\n",
       "      <th>UCRCode</th>\n",
       "      <th>Year</th>\n",
       "      <th>Month</th>\n",
       "      <th>DayOfWeek_Num</th>\n",
       "      <th>DayOfWeek</th>\n",
       "      <th>Hour</th>\n",
       "      <th>Category</th>\n",
       "      <th>...</th>\n",
       "      <th>BlockNo</th>\n",
       "      <th>Rot30_X</th>\n",
       "      <th>Rot30_Y</th>\n",
       "      <th>Rot45_X</th>\n",
       "      <th>Rot45_Y</th>\n",
       "      <th>Rot60_X</th>\n",
       "      <th>Rot60_Y</th>\n",
       "      <th>Radius</th>\n",
       "      <th>Angle</th>\n",
       "      <th>Cluster</th>\n",
       "    </tr>\n",
       "  </thead>\n",
       "  <tbody>\n",
       "    <tr>\n",
       "      <th>11380</th>\n",
       "      <td>45</td>\n",
       "      <td>1</td>\n",
       "      <td>31</td>\n",
       "      <td>7</td>\n",
       "      <td>2</td>\n",
       "      <td>6</td>\n",
       "      <td>5</td>\n",
       "      <td>Saturday</td>\n",
       "      <td>14</td>\n",
       "      <td>LARCENY</td>\n",
       "      <td>...</td>\n",
       "      <td>0</td>\n",
       "      <td>-0.029674</td>\n",
       "      <td>-0.000395</td>\n",
       "      <td>-0.028560</td>\n",
       "      <td>-0.008061</td>\n",
       "      <td>-0.025501</td>\n",
       "      <td>-0.015179</td>\n",
       "      <td>0.029676</td>\n",
       "      <td>-1.060496</td>\n",
       "      <td>25</td>\n",
       "    </tr>\n",
       "    <tr>\n",
       "      <th>8731</th>\n",
       "      <td>77</td>\n",
       "      <td>3</td>\n",
       "      <td>28</td>\n",
       "      <td>7</td>\n",
       "      <td>0</td>\n",
       "      <td>11</td>\n",
       "      <td>0</td>\n",
       "      <td>Monday</td>\n",
       "      <td>14</td>\n",
       "      <td>LARCENY</td>\n",
       "      <td>...</td>\n",
       "      <td>0</td>\n",
       "      <td>0.002942</td>\n",
       "      <td>-0.001507</td>\n",
       "      <td>0.003232</td>\n",
       "      <td>-0.000694</td>\n",
       "      <td>0.003302</td>\n",
       "      <td>0.000166</td>\n",
       "      <td>0.003306</td>\n",
       "      <td>2.567789</td>\n",
       "      <td>18</td>\n",
       "    </tr>\n",
       "    <tr>\n",
       "      <th>3283</th>\n",
       "      <td>45</td>\n",
       "      <td>1</td>\n",
       "      <td>21</td>\n",
       "      <td>7</td>\n",
       "      <td>0</td>\n",
       "      <td>7</td>\n",
       "      <td>2</td>\n",
       "      <td>Wednesday</td>\n",
       "      <td>11</td>\n",
       "      <td>LARCENY</td>\n",
       "      <td>...</td>\n",
       "      <td>0</td>\n",
       "      <td>-0.024230</td>\n",
       "      <td>-0.002672</td>\n",
       "      <td>-0.022713</td>\n",
       "      <td>-0.008852</td>\n",
       "      <td>-0.019648</td>\n",
       "      <td>-0.014429</td>\n",
       "      <td>0.024377</td>\n",
       "      <td>-1.157034</td>\n",
       "      <td>25</td>\n",
       "    </tr>\n",
       "    <tr>\n",
       "      <th>16375</th>\n",
       "      <td>1</td>\n",
       "      <td>2</td>\n",
       "      <td>29</td>\n",
       "      <td>7</td>\n",
       "      <td>2</td>\n",
       "      <td>7</td>\n",
       "      <td>6</td>\n",
       "      <td>Sunday</td>\n",
       "      <td>6</td>\n",
       "      <td>LARCENY</td>\n",
       "      <td>...</td>\n",
       "      <td>0</td>\n",
       "      <td>-0.063072</td>\n",
       "      <td>0.163811</td>\n",
       "      <td>-0.103321</td>\n",
       "      <td>0.141904</td>\n",
       "      <td>-0.136528</td>\n",
       "      <td>0.110328</td>\n",
       "      <td>0.175534</td>\n",
       "      <td>0.156061</td>\n",
       "      <td>27</td>\n",
       "    </tr>\n",
       "    <tr>\n",
       "      <th>19965</th>\n",
       "      <td>47</td>\n",
       "      <td>5</td>\n",
       "      <td>5</td>\n",
       "      <td>7</td>\n",
       "      <td>2</td>\n",
       "      <td>9</td>\n",
       "      <td>5</td>\n",
       "      <td>Saturday</td>\n",
       "      <td>23</td>\n",
       "      <td>LARCENY</td>\n",
       "      <td>...</td>\n",
       "      <td>0</td>\n",
       "      <td>-0.015747</td>\n",
       "      <td>-0.049691</td>\n",
       "      <td>-0.002349</td>\n",
       "      <td>-0.052073</td>\n",
       "      <td>0.011208</td>\n",
       "      <td>-0.050907</td>\n",
       "      <td>0.052126</td>\n",
       "      <td>-2.311112</td>\n",
       "      <td>4</td>\n",
       "    </tr>\n",
       "  </tbody>\n",
       "</table>\n",
       "<p>5 rows × 31 columns</p>\n",
       "</div>"
      ],
      "text/plain": [
       "       Neighborhood  Precinct  Offense  UCRCode  Year  Month  DayOfWeek_Num  \\\n",
       "11380            45         1       31        7     2      6              5   \n",
       "8731             77         3       28        7     0     11              0   \n",
       "3283             45         1       21        7     0      7              2   \n",
       "16375             1         2       29        7     2      7              6   \n",
       "19965            47         5        5        7     2      9              5   \n",
       "\n",
       "       DayOfWeek  Hour Category  ...  BlockNo   Rot30_X   Rot30_Y   Rot45_X  \\\n",
       "11380   Saturday    14  LARCENY  ...        0 -0.029674 -0.000395 -0.028560   \n",
       "8731      Monday    14  LARCENY  ...        0  0.002942 -0.001507  0.003232   \n",
       "3283   Wednesday    11  LARCENY  ...        0 -0.024230 -0.002672 -0.022713   \n",
       "16375     Sunday     6  LARCENY  ...        0 -0.063072  0.163811 -0.103321   \n",
       "19965   Saturday    23  LARCENY  ...        0 -0.015747 -0.049691 -0.002349   \n",
       "\n",
       "        Rot45_Y   Rot60_X   Rot60_Y    Radius     Angle  Cluster  \n",
       "11380 -0.008061 -0.025501 -0.015179  0.029676 -1.060496       25  \n",
       "8731  -0.000694  0.003302  0.000166  0.003306  2.567789       18  \n",
       "3283  -0.008852 -0.019648 -0.014429  0.024377 -1.157034       25  \n",
       "16375  0.141904 -0.136528  0.110328  0.175534  0.156061       27  \n",
       "19965 -0.052073  0.011208 -0.050907  0.052126 -2.311112        4  \n",
       "\n",
       "[5 rows x 31 columns]"
      ]
     },
     "metadata": {},
     "execution_count": 277
    }
   ],
   "metadata": {
    "ExecuteTime": {
     "end_time": "2018-09-15T00:15:28.586908Z",
     "start_time": "2018-09-15T00:15:28.566585Z"
    },
    "pycharm": {
     "is_executing": true
    }
   }
  },
  {
   "cell_type": "markdown",
   "source": [
    "### DayOfWeek\n",
    "\n",
    "- we are going to use sklearn's LabelEncoder to encode the categorical data to numeric\n",
    "- Day of week is considered a categorical and nominal variable"
   ],
   "metadata": {}
  },
  {
   "cell_type": "code",
   "execution_count": null,
   "source": [
    "train_df.head()\n",
    "\n",
    "for dataset in data:\n",
    "    dow_le = LabelEncoder()\n",
    "    dow_le.fit(dataset['DayOfWeek'].unique())\n",
    "    print(list(dow_le.classes_))\n",
    "    dataset['DayOfWeek']=dow_le.transform(dataset['DayOfWeek'])"
   ],
   "outputs": [
    {
     "output_type": "stream",
     "name": "stdout",
     "text": [
      "['Friday', 'Monday', 'Saturday', 'Sunday', 'Thursday', 'Tuesday', 'Wednesday']\n",
      "['Friday', 'Monday', 'Saturday', 'Sunday', 'Thursday', 'Tuesday', 'Wednesday']\n"
     ]
    }
   ],
   "metadata": {
    "ExecuteTime": {
     "end_time": "2018-09-15T00:15:30.490086Z",
     "start_time": "2018-09-15T00:15:28.963333Z"
    },
    "pycharm": {
     "is_executing": true
    }
   }
  },
  {
   "cell_type": "code",
   "execution_count": null,
   "source": [
    "train_df['DayOfWeek'].unique()"
   ],
   "outputs": [
    {
     "output_type": "execute_result",
     "data": {
      "text/plain": [
       "array([2, 1, 6, 3, 4, 5, 0])"
      ]
     },
     "metadata": {},
     "execution_count": 279
    }
   ],
   "metadata": {
    "ExecuteTime": {
     "end_time": "2018-09-15T00:15:30.502616Z",
     "start_time": "2018-09-15T00:15:30.491985Z"
    },
    "pycharm": {
     "is_executing": true
    }
   }
  },
  {
   "cell_type": "code",
   "execution_count": null,
   "source": [
    "dict(zip(dow_le.classes_, dow_le.transform(dow_le.classes_)))"
   ],
   "outputs": [
    {
     "output_type": "execute_result",
     "data": {
      "text/plain": [
       "{'Friday': 0,\n",
       " 'Monday': 1,\n",
       " 'Saturday': 2,\n",
       " 'Sunday': 3,\n",
       " 'Thursday': 4,\n",
       " 'Tuesday': 5,\n",
       " 'Wednesday': 6}"
      ]
     },
     "metadata": {},
     "execution_count": 280
    }
   ],
   "metadata": {
    "ExecuteTime": {
     "end_time": "2018-09-15T00:15:30.514008Z",
     "start_time": "2018-09-15T00:15:30.505862Z"
    },
    "pycharm": {
     "is_executing": true
    }
   }
  },
  {
   "cell_type": "markdown",
   "source": [
    "### Street Type\n",
    "\n",
    "- we are going to use sklearn's LabelEncoder to encode the categorical data to numeric"
   ],
   "metadata": {}
  },
  {
   "cell_type": "code",
   "execution_count": null,
   "source": [
    "train_df.info()\n",
    "\n",
    "for dataset in data:\n",
    "    st_le = LabelEncoder()\n",
    "    st_le.fit(dataset['StreetType'].unique())\n",
    "    print(list(st_le.classes_))\n",
    "    dataset['StreetType']=st_le.transform(dataset['StreetType'])"
   ],
   "outputs": [
    {
     "output_type": "stream",
     "name": "stdout",
     "text": [
      "<class 'pandas.core.frame.DataFrame'>\n",
      "Int64Index: 43504 entries, 11380 to 2916\n",
      "Data columns (total 31 columns):\n",
      " #   Column         Non-Null Count  Dtype  \n",
      "---  ------         --------------  -----  \n",
      " 0   Neighborhood   43504 non-null  int64  \n",
      " 1   Precinct       43504 non-null  int64  \n",
      " 2   Offense        43504 non-null  int64  \n",
      " 3   UCRCode        43504 non-null  int64  \n",
      " 4   Year           43504 non-null  int64  \n",
      " 5   Month          43504 non-null  int64  \n",
      " 6   DayOfWeek_Num  43504 non-null  int64  \n",
      " 7   DayOfWeek      43504 non-null  int64  \n",
      " 8   Hour           43504 non-null  int64  \n",
      " 9   Category       43504 non-null  object \n",
      " 10  X              43504 non-null  float64\n",
      " 11  Y              43504 non-null  float64\n",
      " 12  Minute         43504 non-null  int64  \n",
      " 13  Day            43504 non-null  int64  \n",
      " 14  Hour_Zone      43504 non-null  int64  \n",
      " 15  WeekOfYear     43504 non-null  int64  \n",
      " 16  Holiday        43504 non-null  bool   \n",
      " 17  BusinessHour   43504 non-null  uint8  \n",
      " 18  Season         43504 non-null  int64  \n",
      " 19  Weekend        43504 non-null  int64  \n",
      " 20  StreetType     43504 non-null  object \n",
      " 21  BlockNo        43504 non-null  int64  \n",
      " 22  Rot30_X        43504 non-null  float64\n",
      " 23  Rot30_Y        43504 non-null  float64\n",
      " 24  Rot45_X        43504 non-null  float64\n",
      " 25  Rot45_Y        43504 non-null  float64\n",
      " 26  Rot60_X        43504 non-null  float64\n",
      " 27  Rot60_Y        43504 non-null  float64\n",
      " 28  Radius         43504 non-null  float64\n",
      " 29  Angle          43504 non-null  float64\n",
      " 30  Cluster        43504 non-null  int32  \n",
      "dtypes: bool(1), float64(10), int32(1), int64(16), object(2), uint8(1)\n",
      "memory usage: 9.9+ MB\n",
      "['AL', 'AV', 'BL', 'CT', 'DR', 'HY', 'INT', 'LN', 'OTHER', 'PL', 'RD', 'ST', 'WAY', 'WY']\n",
      "['AL', 'AV', 'BL', 'CT', 'DR', 'INT', 'LN', 'OTHER', 'PL', 'RD', 'ST', 'WAY', 'WY']\n"
     ]
    }
   ],
   "metadata": {
    "ExecuteTime": {
     "end_time": "2018-09-15T00:15:32.609940Z",
     "start_time": "2018-09-15T00:15:31.021643Z"
    },
    "pycharm": {
     "is_executing": true
    }
   }
  },
  {
   "cell_type": "code",
   "execution_count": null,
   "source": [
    "train_df['StreetType'].unique()"
   ],
   "outputs": [
    {
     "output_type": "execute_result",
     "data": {
      "text/plain": [
       "array([11,  1,  6,  0,  9, 13,  8,  2,  4, 10,  7,  3, 12,  5])"
      ]
     },
     "metadata": {},
     "execution_count": 282
    }
   ],
   "metadata": {
    "ExecuteTime": {
     "end_time": "2018-09-15T00:15:32.621448Z",
     "start_time": "2018-09-15T00:15:32.611850Z"
    },
    "pycharm": {
     "is_executing": true
    }
   }
  },
  {
   "cell_type": "code",
   "execution_count": null,
   "source": [
    "train_df.info()"
   ],
   "outputs": [
    {
     "output_type": "stream",
     "name": "stdout",
     "text": [
      "<class 'pandas.core.frame.DataFrame'>\n",
      "Int64Index: 43504 entries, 11380 to 2916\n",
      "Data columns (total 31 columns):\n",
      " #   Column         Non-Null Count  Dtype  \n",
      "---  ------         --------------  -----  \n",
      " 0   Neighborhood   43504 non-null  int64  \n",
      " 1   Precinct       43504 non-null  int64  \n",
      " 2   Offense        43504 non-null  int64  \n",
      " 3   UCRCode        43504 non-null  int64  \n",
      " 4   Year           43504 non-null  int64  \n",
      " 5   Month          43504 non-null  int64  \n",
      " 6   DayOfWeek_Num  43504 non-null  int64  \n",
      " 7   DayOfWeek      43504 non-null  int64  \n",
      " 8   Hour           43504 non-null  int64  \n",
      " 9   Category       43504 non-null  object \n",
      " 10  X              43504 non-null  float64\n",
      " 11  Y              43504 non-null  float64\n",
      " 12  Minute         43504 non-null  int64  \n",
      " 13  Day            43504 non-null  int64  \n",
      " 14  Hour_Zone      43504 non-null  int64  \n",
      " 15  WeekOfYear     43504 non-null  int64  \n",
      " 16  Holiday        43504 non-null  bool   \n",
      " 17  BusinessHour   43504 non-null  uint8  \n",
      " 18  Season         43504 non-null  int64  \n",
      " 19  Weekend        43504 non-null  int64  \n",
      " 20  StreetType     43504 non-null  int64  \n",
      " 21  BlockNo        43504 non-null  int64  \n",
      " 22  Rot30_X        43504 non-null  float64\n",
      " 23  Rot30_Y        43504 non-null  float64\n",
      " 24  Rot45_X        43504 non-null  float64\n",
      " 25  Rot45_Y        43504 non-null  float64\n",
      " 26  Rot60_X        43504 non-null  float64\n",
      " 27  Rot60_Y        43504 non-null  float64\n",
      " 28  Radius         43504 non-null  float64\n",
      " 29  Angle          43504 non-null  float64\n",
      " 30  Cluster        43504 non-null  int32  \n",
      "dtypes: bool(1), float64(10), int32(1), int64(17), object(1), uint8(1)\n",
      "memory usage: 9.9+ MB\n"
     ]
    }
   ],
   "metadata": {
    "ExecuteTime": {
     "end_time": "2018-09-15T00:15:33.124717Z",
     "start_time": "2018-09-15T00:15:32.658114Z"
    },
    "pycharm": {
     "is_executing": true
    }
   }
  },
  {
   "cell_type": "markdown",
   "source": [
    "### Holiday\n",
    "\n",
    "- Encode the binary feature"
   ],
   "metadata": {}
  },
  {
   "cell_type": "code",
   "execution_count": null,
   "source": [
    "train_df['Holiday'].replace(False, 0, inplace=True)\n",
    "train_df['Holiday'].replace(True, 1, inplace=True)\n",
    "test_df['Holiday'].replace(False, 0, inplace=True)\n",
    "test_df['Holiday'].replace(True, 1, inplace=True)\n",
    "\n",
    "train_df['Holiday'] = train_df['Holiday'].astype(int)\n",
    "train_df['Holiday'] = train_df['Holiday'].astype(int)"
   ],
   "outputs": [],
   "metadata": {
    "ExecuteTime": {
     "end_time": "2018-09-15T00:15:33.366955Z",
     "start_time": "2018-09-15T00:15:33.126363Z"
    },
    "pycharm": {
     "is_executing": true
    }
   }
  },
  {
   "cell_type": "code",
   "execution_count": null,
   "source": [
    "train_df[train_df['Holiday'] == 1].head()"
   ],
   "outputs": [
    {
     "output_type": "execute_result",
     "data": {
      "text/html": [
       "<div>\n",
       "<style scoped>\n",
       "    .dataframe tbody tr th:only-of-type {\n",
       "        vertical-align: middle;\n",
       "    }\n",
       "\n",
       "    .dataframe tbody tr th {\n",
       "        vertical-align: top;\n",
       "    }\n",
       "\n",
       "    .dataframe thead th {\n",
       "        text-align: right;\n",
       "    }\n",
       "</style>\n",
       "<table border=\"1\" class=\"dataframe\">\n",
       "  <thead>\n",
       "    <tr style=\"text-align: right;\">\n",
       "      <th></th>\n",
       "      <th>Neighborhood</th>\n",
       "      <th>Precinct</th>\n",
       "      <th>Offense</th>\n",
       "      <th>UCRCode</th>\n",
       "      <th>Year</th>\n",
       "      <th>Month</th>\n",
       "      <th>DayOfWeek_Num</th>\n",
       "      <th>DayOfWeek</th>\n",
       "      <th>Hour</th>\n",
       "      <th>Category</th>\n",
       "      <th>...</th>\n",
       "      <th>BlockNo</th>\n",
       "      <th>Rot30_X</th>\n",
       "      <th>Rot30_Y</th>\n",
       "      <th>Rot45_X</th>\n",
       "      <th>Rot45_Y</th>\n",
       "      <th>Rot60_X</th>\n",
       "      <th>Rot60_Y</th>\n",
       "      <th>Radius</th>\n",
       "      <th>Angle</th>\n",
       "      <th>Cluster</th>\n",
       "    </tr>\n",
       "  </thead>\n",
       "  <tbody>\n",
       "    <tr>\n",
       "      <th>8731</th>\n",
       "      <td>77</td>\n",
       "      <td>3</td>\n",
       "      <td>28</td>\n",
       "      <td>7</td>\n",
       "      <td>0</td>\n",
       "      <td>11</td>\n",
       "      <td>0</td>\n",
       "      <td>1</td>\n",
       "      <td>14</td>\n",
       "      <td>LARCENY</td>\n",
       "      <td>...</td>\n",
       "      <td>0</td>\n",
       "      <td>0.002942</td>\n",
       "      <td>-0.001507</td>\n",
       "      <td>0.003232</td>\n",
       "      <td>-0.000694</td>\n",
       "      <td>0.003302</td>\n",
       "      <td>0.000166</td>\n",
       "      <td>0.003306</td>\n",
       "      <td>2.567789</td>\n",
       "      <td>18</td>\n",
       "    </tr>\n",
       "    <tr>\n",
       "      <th>1964</th>\n",
       "      <td>84</td>\n",
       "      <td>5</td>\n",
       "      <td>27</td>\n",
       "      <td>7</td>\n",
       "      <td>0</td>\n",
       "      <td>1</td>\n",
       "      <td>0</td>\n",
       "      <td>1</td>\n",
       "      <td>18</td>\n",
       "      <td>LARCENY</td>\n",
       "      <td>...</td>\n",
       "      <td>0</td>\n",
       "      <td>0.007154</td>\n",
       "      <td>-0.060161</td>\n",
       "      <td>0.022481</td>\n",
       "      <td>-0.056260</td>\n",
       "      <td>0.036276</td>\n",
       "      <td>-0.048524</td>\n",
       "      <td>0.060585</td>\n",
       "      <td>-2.736355</td>\n",
       "      <td>33</td>\n",
       "    </tr>\n",
       "    <tr>\n",
       "      <th>10460</th>\n",
       "      <td>40</td>\n",
       "      <td>5</td>\n",
       "      <td>6</td>\n",
       "      <td>6</td>\n",
       "      <td>0</td>\n",
       "      <td>12</td>\n",
       "      <td>1</td>\n",
       "      <td>5</td>\n",
       "      <td>2</td>\n",
       "      <td>BURGLARY</td>\n",
       "      <td>...</td>\n",
       "      <td>0</td>\n",
       "      <td>0.024898</td>\n",
       "      <td>-0.120792</td>\n",
       "      <td>0.055312</td>\n",
       "      <td>-0.110232</td>\n",
       "      <td>0.081958</td>\n",
       "      <td>-0.092160</td>\n",
       "      <td>0.123331</td>\n",
       "      <td>-2.821267</td>\n",
       "      <td>13</td>\n",
       "    </tr>\n",
       "    <tr>\n",
       "      <th>3789</th>\n",
       "      <td>49</td>\n",
       "      <td>5</td>\n",
       "      <td>29</td>\n",
       "      <td>7</td>\n",
       "      <td>2</td>\n",
       "      <td>7</td>\n",
       "      <td>4</td>\n",
       "      <td>0</td>\n",
       "      <td>0</td>\n",
       "      <td>LARCENY</td>\n",
       "      <td>...</td>\n",
       "      <td>0</td>\n",
       "      <td>0.061507</td>\n",
       "      <td>-0.188294</td>\n",
       "      <td>0.108146</td>\n",
       "      <td>-0.165959</td>\n",
       "      <td>0.147414</td>\n",
       "      <td>-0.132314</td>\n",
       "      <td>0.198086</td>\n",
       "      <td>-2.933721</td>\n",
       "      <td>14</td>\n",
       "    </tr>\n",
       "    <tr>\n",
       "      <th>22690</th>\n",
       "      <td>22</td>\n",
       "      <td>3</td>\n",
       "      <td>16</td>\n",
       "      <td>8</td>\n",
       "      <td>1</td>\n",
       "      <td>2</td>\n",
       "      <td>0</td>\n",
       "      <td>1</td>\n",
       "      <td>5</td>\n",
       "      <td>AUTO THEFT</td>\n",
       "      <td>...</td>\n",
       "      <td>0</td>\n",
       "      <td>0.042301</td>\n",
       "      <td>-0.029828</td>\n",
       "      <td>0.048580</td>\n",
       "      <td>-0.017863</td>\n",
       "      <td>0.051548</td>\n",
       "      <td>-0.004681</td>\n",
       "      <td>0.051760</td>\n",
       "      <td>2.708548</td>\n",
       "      <td>10</td>\n",
       "    </tr>\n",
       "  </tbody>\n",
       "</table>\n",
       "<p>5 rows × 31 columns</p>\n",
       "</div>"
      ],
      "text/plain": [
       "       Neighborhood  Precinct  Offense  UCRCode  Year  Month  DayOfWeek_Num  \\\n",
       "8731             77         3       28        7     0     11              0   \n",
       "1964             84         5       27        7     0      1              0   \n",
       "10460            40         5        6        6     0     12              1   \n",
       "3789             49         5       29        7     2      7              4   \n",
       "22690            22         3       16        8     1      2              0   \n",
       "\n",
       "       DayOfWeek  Hour    Category  ...  BlockNo   Rot30_X   Rot30_Y  \\\n",
       "8731           1    14     LARCENY  ...        0  0.002942 -0.001507   \n",
       "1964           1    18     LARCENY  ...        0  0.007154 -0.060161   \n",
       "10460          5     2    BURGLARY  ...        0  0.024898 -0.120792   \n",
       "3789           0     0     LARCENY  ...        0  0.061507 -0.188294   \n",
       "22690          1     5  AUTO THEFT  ...        0  0.042301 -0.029828   \n",
       "\n",
       "        Rot45_X   Rot45_Y   Rot60_X   Rot60_Y    Radius     Angle  Cluster  \n",
       "8731   0.003232 -0.000694  0.003302  0.000166  0.003306  2.567789       18  \n",
       "1964   0.022481 -0.056260  0.036276 -0.048524  0.060585 -2.736355       33  \n",
       "10460  0.055312 -0.110232  0.081958 -0.092160  0.123331 -2.821267       13  \n",
       "3789   0.108146 -0.165959  0.147414 -0.132314  0.198086 -2.933721       14  \n",
       "22690  0.048580 -0.017863  0.051548 -0.004681  0.051760  2.708548       10  \n",
       "\n",
       "[5 rows x 31 columns]"
      ]
     },
     "metadata": {},
     "execution_count": 285
    }
   ],
   "metadata": {
    "ExecuteTime": {
     "end_time": "2018-09-15T00:15:33.401544Z",
     "start_time": "2018-09-15T00:15:33.368756Z"
    },
    "pycharm": {
     "is_executing": true
    }
   }
  },
  {
   "cell_type": "code",
   "execution_count": null,
   "source": [
    "test_df[test_df['Holiday'] == 1].head()"
   ],
   "outputs": [
    {
     "output_type": "execute_result",
     "data": {
      "text/html": [
       "<div>\n",
       "<style scoped>\n",
       "    .dataframe tbody tr th:only-of-type {\n",
       "        vertical-align: middle;\n",
       "    }\n",
       "\n",
       "    .dataframe tbody tr th {\n",
       "        vertical-align: top;\n",
       "    }\n",
       "\n",
       "    .dataframe thead th {\n",
       "        text-align: right;\n",
       "    }\n",
       "</style>\n",
       "<table border=\"1\" class=\"dataframe\">\n",
       "  <thead>\n",
       "    <tr style=\"text-align: right;\">\n",
       "      <th></th>\n",
       "      <th>Neighborhood</th>\n",
       "      <th>Precinct</th>\n",
       "      <th>Offense</th>\n",
       "      <th>Description</th>\n",
       "      <th>UCRCode</th>\n",
       "      <th>Year</th>\n",
       "      <th>Month</th>\n",
       "      <th>DayOfWeek_Num</th>\n",
       "      <th>DayOfWeek</th>\n",
       "      <th>Hour</th>\n",
       "      <th>...</th>\n",
       "      <th>BlockNo</th>\n",
       "      <th>Rot30_X</th>\n",
       "      <th>Rot30_Y</th>\n",
       "      <th>Rot45_X</th>\n",
       "      <th>Rot45_Y</th>\n",
       "      <th>Rot60_X</th>\n",
       "      <th>Rot60_Y</th>\n",
       "      <th>Radius</th>\n",
       "      <th>Angle</th>\n",
       "      <th>Cluster</th>\n",
       "    </tr>\n",
       "  </thead>\n",
       "  <tbody>\n",
       "    <tr>\n",
       "      <th>14724</th>\n",
       "      <td>74</td>\n",
       "      <td>4</td>\n",
       "      <td>26</td>\n",
       "      <td>THEFT FROM MOTR VEHC</td>\n",
       "      <td>7</td>\n",
       "      <td>2</td>\n",
       "      <td>7</td>\n",
       "      <td>4</td>\n",
       "      <td>0</td>\n",
       "      <td>21</td>\n",
       "      <td>...</td>\n",
       "      <td>0</td>\n",
       "      <td>-0.064574</td>\n",
       "      <td>0.028127</td>\n",
       "      <td>-0.069654</td>\n",
       "      <td>0.010456</td>\n",
       "      <td>-0.069987</td>\n",
       "      <td>-0.007928</td>\n",
       "      <td>0.070434</td>\n",
       "      <td>-0.636402</td>\n",
       "      <td>39</td>\n",
       "    </tr>\n",
       "    <tr>\n",
       "      <th>4891</th>\n",
       "      <td>57</td>\n",
       "      <td>4</td>\n",
       "      <td>28</td>\n",
       "      <td>OTHER THEFT</td>\n",
       "      <td>7</td>\n",
       "      <td>1</td>\n",
       "      <td>1</td>\n",
       "      <td>0</td>\n",
       "      <td>1</td>\n",
       "      <td>17</td>\n",
       "      <td>...</td>\n",
       "      <td>0</td>\n",
       "      <td>-0.087323</td>\n",
       "      <td>0.074491</td>\n",
       "      <td>-0.103627</td>\n",
       "      <td>0.049352</td>\n",
       "      <td>-0.112869</td>\n",
       "      <td>0.020849</td>\n",
       "      <td>0.114779</td>\n",
       "      <td>-0.340936</td>\n",
       "      <td>8</td>\n",
       "    </tr>\n",
       "    <tr>\n",
       "      <th>3781</th>\n",
       "      <td>50</td>\n",
       "      <td>2</td>\n",
       "      <td>28</td>\n",
       "      <td>OTHER THEFT</td>\n",
       "      <td>7</td>\n",
       "      <td>2</td>\n",
       "      <td>7</td>\n",
       "      <td>4</td>\n",
       "      <td>0</td>\n",
       "      <td>20</td>\n",
       "      <td>...</td>\n",
       "      <td>0</td>\n",
       "      <td>0.011669</td>\n",
       "      <td>0.068245</td>\n",
       "      <td>-0.006392</td>\n",
       "      <td>0.068939</td>\n",
       "      <td>-0.024017</td>\n",
       "      <td>0.064936</td>\n",
       "      <td>0.069235</td>\n",
       "      <td>0.692946</td>\n",
       "      <td>28</td>\n",
       "    </tr>\n",
       "    <tr>\n",
       "      <th>8037</th>\n",
       "      <td>49</td>\n",
       "      <td>5</td>\n",
       "      <td>26</td>\n",
       "      <td>THEFT FROM MOTR VEHC</td>\n",
       "      <td>7</td>\n",
       "      <td>0</td>\n",
       "      <td>10</td>\n",
       "      <td>0</td>\n",
       "      <td>1</td>\n",
       "      <td>14</td>\n",
       "      <td>...</td>\n",
       "      <td>0</td>\n",
       "      <td>0.063566</td>\n",
       "      <td>-0.187833</td>\n",
       "      <td>0.110015</td>\n",
       "      <td>-0.164981</td>\n",
       "      <td>0.148966</td>\n",
       "      <td>-0.130885</td>\n",
       "      <td>0.198297</td>\n",
       "      <td>-2.944311</td>\n",
       "      <td>9</td>\n",
       "    </tr>\n",
       "    <tr>\n",
       "      <th>4931</th>\n",
       "      <td>42</td>\n",
       "      <td>5</td>\n",
       "      <td>15</td>\n",
       "      <td>AUTOMOBILE THEFT</td>\n",
       "      <td>8</td>\n",
       "      <td>1</td>\n",
       "      <td>2</td>\n",
       "      <td>0</td>\n",
       "      <td>1</td>\n",
       "      <td>7</td>\n",
       "      <td>...</td>\n",
       "      <td>0</td>\n",
       "      <td>-0.003595</td>\n",
       "      <td>-0.139263</td>\n",
       "      <td>0.032572</td>\n",
       "      <td>-0.135448</td>\n",
       "      <td>0.066518</td>\n",
       "      <td>-0.122403</td>\n",
       "      <td>0.139310</td>\n",
       "      <td>-2.592187</td>\n",
       "      <td>15</td>\n",
       "    </tr>\n",
       "  </tbody>\n",
       "</table>\n",
       "<p>5 rows × 32 columns</p>\n",
       "</div>"
      ],
      "text/plain": [
       "       Neighborhood  Precinct  Offense                     Description  \\\n",
       "14724            74         4       26  THEFT FROM MOTR VEHC             \n",
       "4891             57         4       28  OTHER THEFT                      \n",
       "3781             50         2       28  OTHER THEFT                      \n",
       "8037             49         5       26  THEFT FROM MOTR VEHC             \n",
       "4931             42         5       15  AUTOMOBILE THEFT                 \n",
       "\n",
       "       UCRCode  Year  Month  DayOfWeek_Num  DayOfWeek  Hour  ... BlockNo  \\\n",
       "14724        7     2      7              4          0    21  ...       0   \n",
       "4891         7     1      1              0          1    17  ...       0   \n",
       "3781         7     2      7              4          0    20  ...       0   \n",
       "8037         7     0     10              0          1    14  ...       0   \n",
       "4931         8     1      2              0          1     7  ...       0   \n",
       "\n",
       "        Rot30_X   Rot30_Y   Rot45_X   Rot45_Y   Rot60_X   Rot60_Y    Radius  \\\n",
       "14724 -0.064574  0.028127 -0.069654  0.010456 -0.069987 -0.007928  0.070434   \n",
       "4891  -0.087323  0.074491 -0.103627  0.049352 -0.112869  0.020849  0.114779   \n",
       "3781   0.011669  0.068245 -0.006392  0.068939 -0.024017  0.064936  0.069235   \n",
       "8037   0.063566 -0.187833  0.110015 -0.164981  0.148966 -0.130885  0.198297   \n",
       "4931  -0.003595 -0.139263  0.032572 -0.135448  0.066518 -0.122403  0.139310   \n",
       "\n",
       "          Angle  Cluster  \n",
       "14724 -0.636402       39  \n",
       "4891  -0.340936        8  \n",
       "3781   0.692946       28  \n",
       "8037  -2.944311        9  \n",
       "4931  -2.592187       15  \n",
       "\n",
       "[5 rows x 32 columns]"
      ]
     },
     "metadata": {},
     "execution_count": 286
    }
   ],
   "metadata": {
    "ExecuteTime": {
     "end_time": "2018-09-15T00:15:33.644042Z",
     "start_time": "2018-09-15T00:15:33.403046Z"
    },
    "pycharm": {
     "is_executing": true
    }
   }
  },
  {
   "cell_type": "markdown",
   "source": [
    "### Category\n",
    "\n",
    "- we are going to use sklearn's LabelEncoder to encode the categorical data to numeric"
   ],
   "metadata": {}
  },
  {
   "cell_type": "code",
   "execution_count": null,
   "source": [
    "data = [train_df]\n",
    "\n",
    "for dataset in data:\n",
    "    cat_le = LabelEncoder()\n",
    "    cat_le.fit(dataset['Category'].unique())\n",
    "    print(list(cat_le.classes_))\n",
    "    dataset['Category']=cat_le.transform(dataset['Category'])"
   ],
   "outputs": [
    {
     "output_type": "stream",
     "name": "stdout",
     "text": [
      "['ARSON', 'ASSAULT', 'AUTO THEFT', 'BURGLARY', 'LARCENY', 'MURDER', 'RAPE', 'ROBBERY']\n"
     ]
    }
   ],
   "metadata": {
    "ExecuteTime": {
     "end_time": "2018-09-15T00:15:34.733063Z",
     "start_time": "2018-09-15T00:15:33.645874Z"
    },
    "pycharm": {
     "is_executing": true
    }
   }
  },
  {
   "cell_type": "code",
   "execution_count": null,
   "source": [
    "len(train_df['Category'].unique())"
   ],
   "outputs": [
    {
     "output_type": "execute_result",
     "data": {
      "text/plain": [
       "8"
      ]
     },
     "metadata": {},
     "execution_count": 288
    }
   ],
   "metadata": {
    "ExecuteTime": {
     "end_time": "2018-09-15T00:15:34.744138Z",
     "start_time": "2018-09-15T00:15:34.735515Z"
    },
    "pycharm": {
     "is_executing": true
    }
   }
  },
  {
   "cell_type": "code",
   "execution_count": null,
   "source": [
    "# So we know the mapping (important)\n",
    "dict(zip(cat_le.classes_, cat_le.transform(cat_le.classes_)))"
   ],
   "outputs": [
    {
     "output_type": "execute_result",
     "data": {
      "text/plain": [
       "{'ARSON': 0,\n",
       " 'ASSAULT': 1,\n",
       " 'AUTO THEFT': 2,\n",
       " 'BURGLARY': 3,\n",
       " 'LARCENY': 4,\n",
       " 'MURDER': 5,\n",
       " 'RAPE': 6,\n",
       " 'ROBBERY': 7}"
      ]
     },
     "metadata": {},
     "execution_count": 289
    }
   ],
   "metadata": {
    "ExecuteTime": {
     "end_time": "2018-09-15T00:15:34.751446Z",
     "start_time": "2018-09-15T00:15:34.746020Z"
    },
    "pycharm": {
     "is_executing": true
    }
   }
  },
  {
   "cell_type": "code",
   "execution_count": null,
   "source": [
    "train_df.head()"
   ],
   "outputs": [
    {
     "output_type": "execute_result",
     "data": {
      "text/html": [
       "<div>\n",
       "<style scoped>\n",
       "    .dataframe tbody tr th:only-of-type {\n",
       "        vertical-align: middle;\n",
       "    }\n",
       "\n",
       "    .dataframe tbody tr th {\n",
       "        vertical-align: top;\n",
       "    }\n",
       "\n",
       "    .dataframe thead th {\n",
       "        text-align: right;\n",
       "    }\n",
       "</style>\n",
       "<table border=\"1\" class=\"dataframe\">\n",
       "  <thead>\n",
       "    <tr style=\"text-align: right;\">\n",
       "      <th></th>\n",
       "      <th>Neighborhood</th>\n",
       "      <th>Precinct</th>\n",
       "      <th>Offense</th>\n",
       "      <th>UCRCode</th>\n",
       "      <th>Year</th>\n",
       "      <th>Month</th>\n",
       "      <th>DayOfWeek_Num</th>\n",
       "      <th>DayOfWeek</th>\n",
       "      <th>Hour</th>\n",
       "      <th>Category</th>\n",
       "      <th>...</th>\n",
       "      <th>BlockNo</th>\n",
       "      <th>Rot30_X</th>\n",
       "      <th>Rot30_Y</th>\n",
       "      <th>Rot45_X</th>\n",
       "      <th>Rot45_Y</th>\n",
       "      <th>Rot60_X</th>\n",
       "      <th>Rot60_Y</th>\n",
       "      <th>Radius</th>\n",
       "      <th>Angle</th>\n",
       "      <th>Cluster</th>\n",
       "    </tr>\n",
       "  </thead>\n",
       "  <tbody>\n",
       "    <tr>\n",
       "      <th>11380</th>\n",
       "      <td>45</td>\n",
       "      <td>1</td>\n",
       "      <td>31</td>\n",
       "      <td>7</td>\n",
       "      <td>2</td>\n",
       "      <td>6</td>\n",
       "      <td>5</td>\n",
       "      <td>2</td>\n",
       "      <td>14</td>\n",
       "      <td>4</td>\n",
       "      <td>...</td>\n",
       "      <td>0</td>\n",
       "      <td>-0.029674</td>\n",
       "      <td>-0.000395</td>\n",
       "      <td>-0.028560</td>\n",
       "      <td>-0.008061</td>\n",
       "      <td>-0.025501</td>\n",
       "      <td>-0.015179</td>\n",
       "      <td>0.029676</td>\n",
       "      <td>-1.060496</td>\n",
       "      <td>25</td>\n",
       "    </tr>\n",
       "    <tr>\n",
       "      <th>8731</th>\n",
       "      <td>77</td>\n",
       "      <td>3</td>\n",
       "      <td>28</td>\n",
       "      <td>7</td>\n",
       "      <td>0</td>\n",
       "      <td>11</td>\n",
       "      <td>0</td>\n",
       "      <td>1</td>\n",
       "      <td>14</td>\n",
       "      <td>4</td>\n",
       "      <td>...</td>\n",
       "      <td>0</td>\n",
       "      <td>0.002942</td>\n",
       "      <td>-0.001507</td>\n",
       "      <td>0.003232</td>\n",
       "      <td>-0.000694</td>\n",
       "      <td>0.003302</td>\n",
       "      <td>0.000166</td>\n",
       "      <td>0.003306</td>\n",
       "      <td>2.567789</td>\n",
       "      <td>18</td>\n",
       "    </tr>\n",
       "    <tr>\n",
       "      <th>3283</th>\n",
       "      <td>45</td>\n",
       "      <td>1</td>\n",
       "      <td>21</td>\n",
       "      <td>7</td>\n",
       "      <td>0</td>\n",
       "      <td>7</td>\n",
       "      <td>2</td>\n",
       "      <td>6</td>\n",
       "      <td>11</td>\n",
       "      <td>4</td>\n",
       "      <td>...</td>\n",
       "      <td>0</td>\n",
       "      <td>-0.024230</td>\n",
       "      <td>-0.002672</td>\n",
       "      <td>-0.022713</td>\n",
       "      <td>-0.008852</td>\n",
       "      <td>-0.019648</td>\n",
       "      <td>-0.014429</td>\n",
       "      <td>0.024377</td>\n",
       "      <td>-1.157034</td>\n",
       "      <td>25</td>\n",
       "    </tr>\n",
       "    <tr>\n",
       "      <th>16375</th>\n",
       "      <td>1</td>\n",
       "      <td>2</td>\n",
       "      <td>29</td>\n",
       "      <td>7</td>\n",
       "      <td>2</td>\n",
       "      <td>7</td>\n",
       "      <td>6</td>\n",
       "      <td>3</td>\n",
       "      <td>6</td>\n",
       "      <td>4</td>\n",
       "      <td>...</td>\n",
       "      <td>0</td>\n",
       "      <td>-0.063072</td>\n",
       "      <td>0.163811</td>\n",
       "      <td>-0.103321</td>\n",
       "      <td>0.141904</td>\n",
       "      <td>-0.136528</td>\n",
       "      <td>0.110328</td>\n",
       "      <td>0.175534</td>\n",
       "      <td>0.156061</td>\n",
       "      <td>27</td>\n",
       "    </tr>\n",
       "    <tr>\n",
       "      <th>19965</th>\n",
       "      <td>47</td>\n",
       "      <td>5</td>\n",
       "      <td>5</td>\n",
       "      <td>7</td>\n",
       "      <td>2</td>\n",
       "      <td>9</td>\n",
       "      <td>5</td>\n",
       "      <td>2</td>\n",
       "      <td>23</td>\n",
       "      <td>4</td>\n",
       "      <td>...</td>\n",
       "      <td>0</td>\n",
       "      <td>-0.015747</td>\n",
       "      <td>-0.049691</td>\n",
       "      <td>-0.002349</td>\n",
       "      <td>-0.052073</td>\n",
       "      <td>0.011208</td>\n",
       "      <td>-0.050907</td>\n",
       "      <td>0.052126</td>\n",
       "      <td>-2.311112</td>\n",
       "      <td>4</td>\n",
       "    </tr>\n",
       "  </tbody>\n",
       "</table>\n",
       "<p>5 rows × 31 columns</p>\n",
       "</div>"
      ],
      "text/plain": [
       "       Neighborhood  Precinct  Offense  UCRCode  Year  Month  DayOfWeek_Num  \\\n",
       "11380            45         1       31        7     2      6              5   \n",
       "8731             77         3       28        7     0     11              0   \n",
       "3283             45         1       21        7     0      7              2   \n",
       "16375             1         2       29        7     2      7              6   \n",
       "19965            47         5        5        7     2      9              5   \n",
       "\n",
       "       DayOfWeek  Hour  Category  ...  BlockNo   Rot30_X   Rot30_Y   Rot45_X  \\\n",
       "11380          2    14         4  ...        0 -0.029674 -0.000395 -0.028560   \n",
       "8731           1    14         4  ...        0  0.002942 -0.001507  0.003232   \n",
       "3283           6    11         4  ...        0 -0.024230 -0.002672 -0.022713   \n",
       "16375          3     6         4  ...        0 -0.063072  0.163811 -0.103321   \n",
       "19965          2    23         4  ...        0 -0.015747 -0.049691 -0.002349   \n",
       "\n",
       "        Rot45_Y   Rot60_X   Rot60_Y    Radius     Angle  Cluster  \n",
       "11380 -0.008061 -0.025501 -0.015179  0.029676 -1.060496       25  \n",
       "8731  -0.000694  0.003302  0.000166  0.003306  2.567789       18  \n",
       "3283  -0.008852 -0.019648 -0.014429  0.024377 -1.157034       25  \n",
       "16375  0.141904 -0.136528  0.110328  0.175534  0.156061       27  \n",
       "19965 -0.052073  0.011208 -0.050907  0.052126 -2.311112        4  \n",
       "\n",
       "[5 rows x 31 columns]"
      ]
     },
     "metadata": {},
     "execution_count": 290
    }
   ],
   "metadata": {
    "ExecuteTime": {
     "end_time": "2018-09-15T00:15:34.771176Z",
     "start_time": "2018-09-15T00:15:34.753364Z"
    },
    "pycharm": {
     "is_executing": true
    }
   }
  },
  {
   "cell_type": "code",
   "execution_count": null,
   "source": [
    "train_df.info()"
   ],
   "outputs": [
    {
     "output_type": "stream",
     "name": "stdout",
     "text": [
      "<class 'pandas.core.frame.DataFrame'>\n",
      "Int64Index: 43504 entries, 11380 to 2916\n",
      "Data columns (total 31 columns):\n",
      " #   Column         Non-Null Count  Dtype  \n",
      "---  ------         --------------  -----  \n",
      " 0   Neighborhood   43504 non-null  int64  \n",
      " 1   Precinct       43504 non-null  int64  \n",
      " 2   Offense        43504 non-null  int64  \n",
      " 3   UCRCode        43504 non-null  int64  \n",
      " 4   Year           43504 non-null  int64  \n",
      " 5   Month          43504 non-null  int64  \n",
      " 6   DayOfWeek_Num  43504 non-null  int64  \n",
      " 7   DayOfWeek      43504 non-null  int64  \n",
      " 8   Hour           43504 non-null  int64  \n",
      " 9   Category       43504 non-null  int64  \n",
      " 10  X              43504 non-null  float64\n",
      " 11  Y              43504 non-null  float64\n",
      " 12  Minute         43504 non-null  int64  \n",
      " 13  Day            43504 non-null  int64  \n",
      " 14  Hour_Zone      43504 non-null  int64  \n",
      " 15  WeekOfYear     43504 non-null  int64  \n",
      " 16  Holiday        43504 non-null  int64  \n",
      " 17  BusinessHour   43504 non-null  uint8  \n",
      " 18  Season         43504 non-null  int64  \n",
      " 19  Weekend        43504 non-null  int64  \n",
      " 20  StreetType     43504 non-null  int64  \n",
      " 21  BlockNo        43504 non-null  int64  \n",
      " 22  Rot30_X        43504 non-null  float64\n",
      " 23  Rot30_Y        43504 non-null  float64\n",
      " 24  Rot45_X        43504 non-null  float64\n",
      " 25  Rot45_Y        43504 non-null  float64\n",
      " 26  Rot60_X        43504 non-null  float64\n",
      " 27  Rot60_Y        43504 non-null  float64\n",
      " 28  Radius         43504 non-null  float64\n",
      " 29  Angle          43504 non-null  float64\n",
      " 30  Cluster        43504 non-null  int32  \n",
      "dtypes: float64(10), int32(1), int64(19), uint8(1)\n",
      "memory usage: 10.2 MB\n"
     ]
    }
   ],
   "metadata": {
    "ExecuteTime": {
     "end_time": "2018-09-15T00:15:35.216673Z",
     "start_time": "2018-09-15T00:15:34.772873Z"
    },
    "pycharm": {
     "is_executing": true
    }
   }
  },
  {
   "cell_type": "markdown",
   "source": [
    "## View Information about Data\n",
    "\n",
    "- One last check before training"
   ],
   "metadata": {}
  },
  {
   "cell_type": "code",
   "execution_count": null,
   "source": [
    "train_df.info()"
   ],
   "outputs": [
    {
     "output_type": "stream",
     "name": "stdout",
     "text": [
      "<class 'pandas.core.frame.DataFrame'>\n",
      "Int64Index: 43504 entries, 11380 to 2916\n",
      "Data columns (total 31 columns):\n",
      " #   Column         Non-Null Count  Dtype  \n",
      "---  ------         --------------  -----  \n",
      " 0   Neighborhood   43504 non-null  int64  \n",
      " 1   Precinct       43504 non-null  int64  \n",
      " 2   Offense        43504 non-null  int64  \n",
      " 3   UCRCode        43504 non-null  int64  \n",
      " 4   Year           43504 non-null  int64  \n",
      " 5   Month          43504 non-null  int64  \n",
      " 6   DayOfWeek_Num  43504 non-null  int64  \n",
      " 7   DayOfWeek      43504 non-null  int64  \n",
      " 8   Hour           43504 non-null  int64  \n",
      " 9   Category       43504 non-null  int64  \n",
      " 10  X              43504 non-null  float64\n",
      " 11  Y              43504 non-null  float64\n",
      " 12  Minute         43504 non-null  int64  \n",
      " 13  Day            43504 non-null  int64  \n",
      " 14  Hour_Zone      43504 non-null  int64  \n",
      " 15  WeekOfYear     43504 non-null  int64  \n",
      " 16  Holiday        43504 non-null  int64  \n",
      " 17  BusinessHour   43504 non-null  uint8  \n",
      " 18  Season         43504 non-null  int64  \n",
      " 19  Weekend        43504 non-null  int64  \n",
      " 20  StreetType     43504 non-null  int64  \n",
      " 21  BlockNo        43504 non-null  int64  \n",
      " 22  Rot30_X        43504 non-null  float64\n",
      " 23  Rot30_Y        43504 non-null  float64\n",
      " 24  Rot45_X        43504 non-null  float64\n",
      " 25  Rot45_Y        43504 non-null  float64\n",
      " 26  Rot60_X        43504 non-null  float64\n",
      " 27  Rot60_Y        43504 non-null  float64\n",
      " 28  Radius         43504 non-null  float64\n",
      " 29  Angle          43504 non-null  float64\n",
      " 30  Cluster        43504 non-null  int32  \n",
      "dtypes: float64(10), int32(1), int64(19), uint8(1)\n",
      "memory usage: 10.2 MB\n"
     ]
    }
   ],
   "metadata": {
    "ExecuteTime": {
     "end_time": "2018-09-15T00:15:35.519400Z",
     "start_time": "2018-09-15T00:15:35.218326Z"
    },
    "pycharm": {
     "is_executing": true
    }
   }
  },
  {
   "cell_type": "code",
   "execution_count": null,
   "source": [
    "# # Convert all to 32 bit integers so less memory and will train faster (no loss in data since our integers dont reach)\n",
    "columns_to_convert = ['DayOfWeek', 'Precinct', 'Minute', 'Hour', 'Day', 'Month', 'Year', \n",
    "                      'Hour_Zone', 'WeekOfYear', 'Season', 'StreetType', 'BlockNo', 'Cluster']\n",
    "                      #'Neighborhood']\n",
    "train_df[columns_to_convert] = train_df[columns_to_convert].astype('int16')\n",
    "test_df[columns_to_convert] = test_df[columns_to_convert].astype('int16')\n",
    "\n",
    "train_df.info()"
   ],
   "outputs": [
    {
     "output_type": "stream",
     "name": "stdout",
     "text": [
      "<class 'pandas.core.frame.DataFrame'>\n",
      "Int64Index: 43504 entries, 11380 to 2916\n",
      "Data columns (total 31 columns):\n",
      " #   Column         Non-Null Count  Dtype  \n",
      "---  ------         --------------  -----  \n",
      " 0   Neighborhood   43504 non-null  int64  \n",
      " 1   Precinct       43504 non-null  int16  \n",
      " 2   Offense        43504 non-null  int64  \n",
      " 3   UCRCode        43504 non-null  int64  \n",
      " 4   Year           43504 non-null  int16  \n",
      " 5   Month          43504 non-null  int16  \n",
      " 6   DayOfWeek_Num  43504 non-null  int64  \n",
      " 7   DayOfWeek      43504 non-null  int16  \n",
      " 8   Hour           43504 non-null  int16  \n",
      " 9   Category       43504 non-null  int64  \n",
      " 10  X              43504 non-null  float64\n",
      " 11  Y              43504 non-null  float64\n",
      " 12  Minute         43504 non-null  int16  \n",
      " 13  Day            43504 non-null  int16  \n",
      " 14  Hour_Zone      43504 non-null  int16  \n",
      " 15  WeekOfYear     43504 non-null  int16  \n",
      " 16  Holiday        43504 non-null  int64  \n",
      " 17  BusinessHour   43504 non-null  uint8  \n",
      " 18  Season         43504 non-null  int16  \n",
      " 19  Weekend        43504 non-null  int64  \n",
      " 20  StreetType     43504 non-null  int16  \n",
      " 21  BlockNo        43504 non-null  int16  \n",
      " 22  Rot30_X        43504 non-null  float64\n",
      " 23  Rot30_Y        43504 non-null  float64\n",
      " 24  Rot45_X        43504 non-null  float64\n",
      " 25  Rot45_Y        43504 non-null  float64\n",
      " 26  Rot60_X        43504 non-null  float64\n",
      " 27  Rot60_Y        43504 non-null  float64\n",
      " 28  Radius         43504 non-null  float64\n",
      " 29  Angle          43504 non-null  float64\n",
      " 30  Cluster        43504 non-null  int16  \n",
      "dtypes: float64(10), int16(13), int64(7), uint8(1)\n",
      "memory usage: 7.1 MB\n"
     ]
    }
   ],
   "metadata": {
    "ExecuteTime": {
     "end_time": "2018-09-15T00:15:36.424967Z",
     "start_time": "2018-09-15T00:15:35.520949Z"
    },
    "pycharm": {
     "is_executing": true
    }
   }
  },
  {
   "cell_type": "markdown",
   "source": [
    "# Building Machine Learning Models\n",
    "\n",
    "- Baseline Models\n",
    "    - Let's train a couple models on a stratified sample of the training data\n",
    "    - Evaluate on a hold out set to get baseline results for each model to determine what model to use\n",
    "    - Models:\n",
    "        - Stochastic Gradient Descent (with elastic net regularization)\n",
    "        - Gaussian Naive Bayes\n",
    "        - K Nearest Neighbors\n",
    "        - Logistic Regression (with L1 regularization)\n",
    "        - Random Forest\n",
    "        - XGBoost\n",
    "    - Almost all the default scikit-learn ML algorithm hyperparameters exhibit bad performance\n",
    "        - Researched online & read literature to determine some more ideal default hyperparameters\n",
    "            - [Reference](https://arxiv.org/abs/1708.05070)\n",
    "- Couple things to note:\n",
    "    - **Decision tree models** including Ensemble methods (Random Forest & XGBoost) can handle categorical variables without one-hot encoding them. \n",
    "    - **Linear models** (SGD & Logistic Regression) cannot handle categorical features & need features to be OHE before training\n",
    "    - Always OneHotEncode before you split data up to training/dev/test so that all features & classes will be represented"
   ],
   "metadata": {}
  },
  {
   "cell_type": "code",
   "execution_count": null,
   "source": [
    "# result = opt.fit(X_train.values, Y_train.values, callback=status_print)\n",
    "\n",
    "X_train = train_df.drop(\"Category\", axis=1).copy()\n",
    "Y_train = train_df[\"Category\"].copy()\n",
    "\n",
    "# Set testing data (drop Id)\n",
    "#X_test = test_df.drop(\"Id\", axis=1).copy()"
   ],
   "outputs": [],
   "metadata": {
    "ExecuteTime": {
     "end_time": "2018-09-15T00:15:36.648460Z",
     "start_time": "2018-09-15T00:15:36.426939Z"
    },
    "pycharm": {
     "is_executing": true
    }
   }
  },
  {
   "cell_type": "code",
   "execution_count": null,
   "source": [
    "def one_hot_encode(train_data):\n",
    "    '''One Hot Encode the categorical features'''\n",
    "    encoded_train_data = train_data\n",
    "\n",
    "    #encoded_train_data = pd.concat([encoded_train_data, pd.get_dummies(pd.Series(encoded_train_data['Neighborhood']), prefix='Neighborhood')], axis=1)\n",
    "    encoded_train_data = pd.concat([encoded_train_data, pd.get_dummies(pd.Series(encoded_train_data['Precinct']), prefix='Precinct')], axis=1)\n",
    "    encoded_train_data = pd.concat([encoded_train_data, pd.get_dummies(pd.Series(encoded_train_data['DayOfWeek']), prefix='DayOfWeek')], axis=1)\n",
    "    encoded_train_data = pd.concat([encoded_train_data, pd.get_dummies(pd.Series(encoded_train_data['StreetType']), prefix='StreetType')], axis=1)\n",
    "    encoded_train_data = pd.concat([encoded_train_data, pd.get_dummies(pd.Series(encoded_train_data['Season']), prefix='Season')], axis=1)\n",
    "    encoded_train_data = pd.concat([encoded_train_data, pd.get_dummies(pd.Series(encoded_train_data['Hour_Zone']), prefix='Hour_Zone')], axis=1)\n",
    "    encoded_train_data = pd.concat([encoded_train_data, pd.get_dummies(pd.Series(encoded_train_data['Cluster']), prefix='Cluster')], axis=1)\n",
    "\n",
    "    encoded_train_data = encoded_train_data.drop(['Cluster','StreetType', 'Season', 'Hour_Zone', 'DayOfWeek', 'Precinct'], axis=1)\n",
    "\n",
    "    return encoded_train_data"
   ],
   "outputs": [],
   "metadata": {
    "ExecuteTime": {
     "end_time": "2018-09-15T00:15:36.668125Z",
     "start_time": "2018-09-15T00:15:36.650857Z"
    },
    "pycharm": {
     "is_executing": true
    }
   }
  },
  {
   "cell_type": "code",
   "execution_count": null,
   "source": [
    "X_encoded_train = one_hot_encode(X_train)"
   ],
   "outputs": [],
   "metadata": {
    "ExecuteTime": {
     "end_time": "2018-09-15T00:15:38.078394Z",
     "start_time": "2018-09-15T00:15:36.669880Z"
    },
    "pycharm": {
     "is_executing": true
    }
   }
  },
  {
   "cell_type": "code",
   "execution_count": null,
   "source": [
    "# Use these for ML algorithms that can't handle categorical data (Logistic Regression, Linear Models)\n",
    "mini_encoded_train_data, mini_encoded_dev_data, mini_train_labels, mini_dev_labels = train_test_split(X_encoded_train, \n",
    "                                                                                      Y_train,\n",
    "                                                                                      stratify=Y_train,\n",
    "                                                                                      test_size=0.5,\n",
    "                                                                                      random_state=1)"
   ],
   "outputs": [],
   "metadata": {
    "ExecuteTime": {
     "end_time": "2018-09-15T00:15:38.889144Z",
     "start_time": "2018-09-15T00:15:38.080685Z"
    },
    "pycharm": {
     "is_executing": true
    }
   }
  },
  {
   "cell_type": "code",
   "execution_count": null,
   "source": [
    "# Use these for ML algorithms that can handle categorical data without OHE\n",
    "mini_train_data, mini_dev_data, mini_train_labels, mini_dev_labels = train_test_split(X_train,\n",
    "                                                                                      Y_train,\n",
    "                                                                                      stratify=Y_train,\n",
    "                                                                                      test_size=0.5,\n",
    "                                                                                      random_state=1)\n"
   ],
   "outputs": [],
   "metadata": {
    "ExecuteTime": {
     "end_time": "2018-09-15T00:15:39.373300Z",
     "start_time": "2018-09-15T00:15:38.891328Z"
    },
    "pycharm": {
     "is_executing": true
    }
   }
  },
  {
   "cell_type": "code",
   "execution_count": null,
   "source": [
    "# K Neighbors\n",
    "knn = KNeighborsClassifier()\n",
    "knn.fit(mini_train_data, mini_train_labels)\n",
    "pred_probs = knn.predict_proba(mini_dev_data)\n",
    "knn_loss = log_loss(mini_dev_labels, pred_probs)\n",
    "\n",
    "\n",
    "print('KNN Validation Log Loss: ', knn_loss)"
   ],
   "outputs": [
    {
     "output_type": "stream",
     "name": "stdout",
     "text": [
      "KNN Validation Log Loss:  2.5943647189960943\n"
     ]
    }
   ],
   "metadata": {
    "ExecuteTime": {
     "end_time": "2018-09-15T00:21:04.680834Z",
     "start_time": "2018-09-15T00:15:39.375996Z"
    },
    "pycharm": {
     "is_executing": true
    }
   }
  },
  {
   "cell_type": "code",
   "execution_count": null,
   "source": [
    "# Naive Bayes\n",
    "gaussian = GaussianNB()\n",
    "gaussian.fit(mini_train_data, mini_train_labels)\n",
    "pred_probs = gaussian.predict_proba(mini_dev_data)\n",
    "nb_loss = log_loss(mini_dev_labels, pred_probs)\n",
    "\n",
    "\n",
    "print('Gaussian Naive Bayes Validation Log Loss: ', nb_loss)"
   ],
   "outputs": [
    {
     "output_type": "stream",
     "name": "stdout",
     "text": [
      "Gaussian Naive Bayes Validation Log Loss:  7.462901613755392e-15\n"
     ]
    }
   ],
   "metadata": {
    "ExecuteTime": {
     "end_time": "2018-09-15T00:21:10.419938Z",
     "start_time": "2018-09-15T00:21:04.683462Z"
    },
    "pycharm": {
     "is_executing": true
    }
   }
  },
  {
   "cell_type": "code",
   "execution_count": null,
   "source": [
    "# stochastic gradient descent (SGD) learning\n",
    "sgd = linear_model.SGDClassifier(penalty='elasticnet', loss='log', \n",
    "                                  tol=0.0001, max_iter=1000, n_jobs=3, random_state=1)\n",
    "sgd.fit(mini_encoded_train_data, mini_train_labels)\n",
    "pred_probs = sgd.predict_proba(mini_encoded_dev_data)\n",
    "# sgd.fit(one_hot_encode(mini_train_data), mini_train_labels)\n",
    "# sgd = gaussian.predict_proba(one_hot_encode(mini_dev_data))\n",
    "sgd_loss = log_loss(mini_dev_labels, pred_probs)\n",
    "\n",
    "print('Linear Model SGD Validation Log Loss: ', sgd_loss)"
   ],
   "outputs": [
    {
     "output_type": "stream",
     "name": "stdout",
     "text": [
      "Linear Model SGD Validation Log Loss:  2.524191938930568\n"
     ]
    }
   ],
   "metadata": {
    "ExecuteTime": {
     "end_time": "2018-09-15T00:22:42.776583Z",
     "start_time": "2018-09-15T00:21:10.422757Z"
    },
    "pycharm": {
     "is_executing": true
    }
   }
  },
  {
   "cell_type": "code",
   "execution_count": null,
   "source": [
    "# Logistic Regression\n",
    "logreg = LogisticRegression(penalty='l1', C=1.5, solver='saga', multi_class='multinomial', \n",
    "                            tol=0.0001, max_iter=1000, verbose=3, n_jobs=jobs, random_state=1)\n",
    "\n",
    "logreg.fit(mini_encoded_train_data, mini_train_labels)\n",
    "pred_probs = logreg.predict_proba(mini_encoded_dev_data)\n",
    "\n",
    "logreg_loss = log_loss(mini_dev_labels, pred_probs)\n",
    "\n",
    "\n",
    "print('Logistic Regression Validation Log Loss: ', logreg_loss)"
   ],
   "outputs": [
    {
     "output_type": "stream",
     "name": "stdout",
     "text": [
      "Epoch 1, change: 1.00000000\n"
     ]
    },
    {
     "output_type": "stream",
     "name": "stderr",
     "text": [
      "[Parallel(n_jobs=1000)]: Using backend ThreadingBackend with 1000 concurrent workers.\n"
     ]
    },
    {
     "output_type": "stream",
     "name": "stdout",
     "text": [
      "Epoch 2, change: 0.22027997\n",
      "Epoch 3, change: 0.17042231\n",
      "Epoch 4, change: 0.14449822\n",
      "Epoch 5, change: 0.12793020\n",
      "Epoch 6, change: 0.11018445\n",
      "Epoch 7, change: 0.09353372\n",
      "Epoch 8, change: 0.08034122\n",
      "Epoch 9, change: 0.07011421\n",
      "Epoch 10, change: 0.06284175\n",
      "Epoch 11, change: 0.05736645\n",
      "Epoch 12, change: 0.05281880\n",
      "Epoch 13, change: 0.04879994\n",
      "Epoch 14, change: 0.04537899\n",
      "Epoch 15, change: 0.04249344\n",
      "Epoch 16, change: 0.03981332\n",
      "Epoch 17, change: 0.03747177\n",
      "Epoch 18, change: 0.03538643\n",
      "Epoch 19, change: 0.03346808\n",
      "Epoch 20, change: 0.03178975\n",
      "Epoch 21, change: 0.03027352\n",
      "Epoch 22, change: 0.02880122\n",
      "Epoch 23, change: 0.02753095\n",
      "Epoch 24, change: 0.02638704\n",
      "Epoch 25, change: 0.02527710\n",
      "Epoch 26, change: 0.02428557\n",
      "Epoch 27, change: 0.02334832\n",
      "Epoch 28, change: 0.02247828\n",
      "Epoch 29, change: 0.02167946\n",
      "Epoch 30, change: 0.02093988\n",
      "Epoch 31, change: 0.02023165\n",
      "Epoch 32, change: 0.01957633\n",
      "Epoch 33, change: 0.01889548\n",
      "Epoch 34, change: 0.01826197\n",
      "Epoch 35, change: 0.01761706\n",
      "Epoch 36, change: 0.01704516\n",
      "Epoch 37, change: 0.01651157\n",
      "Epoch 38, change: 0.01598402\n",
      "Epoch 39, change: 0.01548753\n",
      "Epoch 40, change: 0.01502874\n",
      "Epoch 41, change: 0.01460558\n",
      "Epoch 42, change: 0.01418291\n",
      "Epoch 43, change: 0.01379830\n",
      "Epoch 44, change: 0.01342185\n",
      "Epoch 45, change: 0.01307316\n",
      "Epoch 46, change: 0.01273573\n",
      "Epoch 47, change: 0.01241163\n",
      "Epoch 48, change: 0.01210614\n",
      "Epoch 49, change: 0.01181471\n",
      "Epoch 50, change: 0.01153291\n",
      "Epoch 51, change: 0.01126741\n",
      "Epoch 52, change: 0.01100449\n",
      "Epoch 53, change: 0.01076526\n",
      "Epoch 54, change: 0.01052400\n",
      "Epoch 55, change: 0.01030007\n",
      "Epoch 56, change: 0.01008865\n",
      "Epoch 57, change: 0.00987606\n",
      "Epoch 58, change: 0.00967294\n",
      "Epoch 59, change: 0.00947650\n",
      "Epoch 60, change: 0.00929029\n",
      "Epoch 61, change: 0.00910920\n",
      "Epoch 62, change: 0.00893527\n",
      "Epoch 63, change: 0.00876347\n",
      "Epoch 64, change: 0.00860954\n",
      "Epoch 65, change: 0.00844672\n",
      "Epoch 66, change: 0.00829085\n",
      "Epoch 67, change: 0.00815055\n",
      "Epoch 68, change: 0.00800387\n",
      "Epoch 69, change: 0.00787315\n",
      "Epoch 70, change: 0.00773053\n",
      "Epoch 71, change: 0.00760725\n",
      "Epoch 72, change: 0.00747793\n",
      "Epoch 73, change: 0.00735787\n",
      "Epoch 74, change: 0.00724071\n",
      "Epoch 75, change: 0.00712219\n",
      "Epoch 76, change: 0.00701243\n",
      "Epoch 77, change: 0.00690278\n",
      "Epoch 78, change: 0.00679901\n",
      "Epoch 79, change: 0.00669821\n",
      "Epoch 80, change: 0.00659409\n",
      "Epoch 81, change: 0.00649938\n",
      "Epoch 82, change: 0.00640415\n",
      "Epoch 83, change: 0.00631173\n",
      "Epoch 84, change: 0.00621867\n",
      "Epoch 85, change: 0.00613216\n",
      "Epoch 86, change: 0.00604935\n",
      "Epoch 87, change: 0.00596334\n",
      "Epoch 88, change: 0.00588266\n",
      "Epoch 89, change: 0.00580050\n",
      "Epoch 90, change: 0.00572620\n",
      "Epoch 91, change: 0.00565215\n",
      "Epoch 92, change: 0.00557666\n",
      "Epoch 93, change: 0.00550510\n",
      "Epoch 94, change: 0.00543345\n",
      "Epoch 95, change: 0.00536545\n",
      "Epoch 96, change: 0.00529937\n",
      "Epoch 97, change: 0.00523184\n",
      "Epoch 98, change: 0.00516610\n",
      "Epoch 99, change: 0.00510342\n",
      "Epoch 100, change: 0.00504480\n",
      "Epoch 101, change: 0.00498148\n",
      "Epoch 102, change: 0.00492186\n",
      "Epoch 103, change: 0.00486586\n",
      "Epoch 104, change: 0.00480690\n",
      "Epoch 105, change: 0.00475318\n",
      "Epoch 106, change: 0.00469949\n",
      "Epoch 107, change: 0.00464483\n",
      "Epoch 108, change: 0.00459122\n",
      "Epoch 109, change: 0.00454135\n",
      "Epoch 110, change: 0.00449216\n",
      "Epoch 111, change: 0.00444079\n",
      "Epoch 112, change: 0.00439388\n",
      "Epoch 113, change: 0.00434537\n",
      "Epoch 114, change: 0.00429873\n",
      "Epoch 115, change: 0.00425507\n",
      "Epoch 116, change: 0.00420880\n",
      "Epoch 117, change: 0.00416532\n",
      "Epoch 118, change: 0.00412222\n",
      "Epoch 119, change: 0.00407935\n",
      "Epoch 120, change: 0.00403725\n",
      "Epoch 121, change: 0.00399836\n",
      "Epoch 122, change: 0.00395601\n",
      "Epoch 123, change: 0.00391699\n",
      "Epoch 124, change: 0.00387929\n",
      "Epoch 125, change: 0.00384030\n",
      "Epoch 126, change: 0.00380277\n",
      "Epoch 127, change: 0.00376603\n",
      "Epoch 128, change: 0.00373064\n",
      "Epoch 129, change: 0.00369580\n",
      "Epoch 130, change: 0.00365893\n",
      "Epoch 131, change: 0.00362573\n",
      "Epoch 132, change: 0.00359133\n",
      "Epoch 133, change: 0.00355744\n",
      "Epoch 134, change: 0.00352368\n",
      "Epoch 135, change: 0.00349129\n",
      "Epoch 136, change: 0.00346028\n",
      "Epoch 137, change: 0.00342887\n",
      "Epoch 138, change: 0.00339861\n",
      "Epoch 139, change: 0.00336868\n",
      "Epoch 140, change: 0.00333802\n",
      "Epoch 141, change: 0.00330852\n",
      "Epoch 142, change: 0.00327842\n",
      "Epoch 143, change: 0.00325095\n",
      "Epoch 144, change: 0.00322427\n",
      "Epoch 145, change: 0.00319550\n",
      "Epoch 146, change: 0.00316721\n",
      "Epoch 147, change: 0.00314040\n",
      "Epoch 148, change: 0.00311505\n",
      "Epoch 149, change: 0.00308825\n",
      "Epoch 150, change: 0.00306230\n",
      "Epoch 151, change: 0.00303844\n",
      "Epoch 152, change: 0.00301294\n",
      "Epoch 153, change: 0.00298817\n",
      "Epoch 154, change: 0.00296360\n",
      "Epoch 155, change: 0.00293912\n",
      "Epoch 156, change: 0.00291695\n",
      "Epoch 157, change: 0.00289292\n",
      "Epoch 158, change: 0.00286951\n",
      "Epoch 159, change: 0.00284702\n",
      "Epoch 160, change: 0.00282489\n",
      "Epoch 161, change: 0.00280296\n",
      "Epoch 162, change: 0.00278118\n",
      "Epoch 163, change: 0.00275985\n",
      "Epoch 164, change: 0.00273856\n",
      "Epoch 165, change: 0.00271809\n",
      "Epoch 166, change: 0.00269576\n",
      "Epoch 167, change: 0.00267563\n",
      "Epoch 168, change: 0.00265635\n",
      "Epoch 169, change: 0.00263651\n",
      "Epoch 170, change: 0.00261689\n",
      "Epoch 171, change: 0.00259774\n",
      "Epoch 172, change: 0.00257816\n",
      "Epoch 173, change: 0.00255875\n",
      "Epoch 174, change: 0.00254190\n",
      "Epoch 175, change: 0.00252263\n",
      "Epoch 176, change: 0.00250383\n",
      "Epoch 177, change: 0.00248722\n",
      "Epoch 178, change: 0.00246850\n",
      "Epoch 179, change: 0.00245074\n",
      "Epoch 180, change: 0.00243360\n",
      "Epoch 181, change: 0.00241724\n",
      "Epoch 182, change: 0.00239991\n",
      "Epoch 183, change: 0.00238361\n",
      "Epoch 184, change: 0.00236713\n",
      "Epoch 185, change: 0.00235075\n",
      "Epoch 186, change: 0.00233436\n",
      "Epoch 187, change: 0.00231801\n",
      "Epoch 188, change: 0.00230368\n",
      "Epoch 189, change: 0.00228728\n",
      "Epoch 190, change: 0.00227219\n",
      "Epoch 191, change: 0.00225679\n",
      "Epoch 192, change: 0.00224167\n",
      "Epoch 193, change: 0.00222700\n",
      "Epoch 194, change: 0.00221345\n",
      "Epoch 195, change: 0.00219751\n",
      "Epoch 196, change: 0.00218355\n",
      "Epoch 197, change: 0.00216958\n",
      "Epoch 198, change: 0.00215566\n",
      "Epoch 199, change: 0.00214055\n",
      "Epoch 200, change: 0.00212831\n",
      "Epoch 201, change: 0.00211407\n",
      "Epoch 202, change: 0.00210105\n",
      "Epoch 203, change: 0.00208791\n",
      "Epoch 204, change: 0.00207500\n",
      "Epoch 205, change: 0.00206212\n",
      "Epoch 206, change: 0.00204876\n",
      "Epoch 207, change: 0.00203587\n",
      "Epoch 208, change: 0.00202289\n",
      "Epoch 209, change: 0.00201104\n",
      "Epoch 210, change: 0.00199824\n",
      "Epoch 211, change: 0.00198636\n",
      "Epoch 212, change: 0.00197455\n",
      "Epoch 213, change: 0.00196292\n",
      "Epoch 214, change: 0.00195032\n",
      "Epoch 215, change: 0.00193918\n",
      "Epoch 216, change: 0.00192695\n",
      "Epoch 217, change: 0.00191542\n",
      "Epoch 218, change: 0.00190503\n",
      "Epoch 219, change: 0.00189285\n",
      "Epoch 220, change: 0.00188219\n",
      "Epoch 221, change: 0.00187110\n",
      "Epoch 222, change: 0.00186033\n",
      "Epoch 223, change: 0.00184955\n",
      "Epoch 224, change: 0.00183974\n",
      "Epoch 225, change: 0.00182796\n",
      "Epoch 226, change: 0.00181759\n",
      "Epoch 227, change: 0.00180772\n",
      "Epoch 228, change: 0.00179712\n",
      "Epoch 229, change: 0.00178719\n",
      "Epoch 230, change: 0.00177704\n",
      "Epoch 231, change: 0.00176690\n",
      "Epoch 232, change: 0.00175688\n",
      "Epoch 233, change: 0.00174726\n",
      "Epoch 234, change: 0.00173774\n",
      "Epoch 235, change: 0.00172814\n",
      "Epoch 236, change: 0.00171891\n",
      "Epoch 237, change: 0.00170918\n",
      "Epoch 238, change: 0.00169950\n",
      "Epoch 239, change: 0.00169082\n",
      "Epoch 240, change: 0.00168173\n",
      "Epoch 241, change: 0.00167243\n",
      "Epoch 242, change: 0.00166297\n",
      "Epoch 243, change: 0.00165444\n",
      "Epoch 244, change: 0.00164570\n",
      "Epoch 245, change: 0.00163645\n",
      "Epoch 246, change: 0.00162830\n",
      "Epoch 247, change: 0.00161898\n",
      "Epoch 248, change: 0.00161076\n",
      "Epoch 249, change: 0.00160297\n",
      "Epoch 250, change: 0.00159424\n",
      "Epoch 251, change: 0.00158616\n",
      "Epoch 252, change: 0.00157741\n",
      "Epoch 253, change: 0.00156982\n",
      "Epoch 254, change: 0.00156126\n",
      "Epoch 255, change: 0.00155339\n",
      "Epoch 256, change: 0.00154552\n",
      "Epoch 257, change: 0.00153725\n",
      "Epoch 258, change: 0.00152980\n",
      "Epoch 259, change: 0.00152201\n",
      "Epoch 260, change: 0.00151406\n",
      "Epoch 261, change: 0.00150636\n",
      "Epoch 262, change: 0.00149919\n",
      "Epoch 263, change: 0.00149198\n",
      "Epoch 264, change: 0.00148430\n",
      "Epoch 265, change: 0.00147715\n",
      "Epoch 266, change: 0.00146966\n",
      "Epoch 267, change: 0.00146297\n",
      "Epoch 268, change: 0.00145505\n",
      "Epoch 269, change: 0.00144823\n",
      "Epoch 270, change: 0.00144115\n",
      "Epoch 271, change: 0.00143431\n",
      "Epoch 272, change: 0.00142734\n",
      "Epoch 273, change: 0.00142053\n",
      "Epoch 274, change: 0.00141347\n",
      "Epoch 275, change: 0.00140718\n",
      "Epoch 276, change: 0.00140017\n",
      "Epoch 277, change: 0.00139314\n",
      "Epoch 278, change: 0.00138672\n",
      "Epoch 279, change: 0.00138038\n",
      "Epoch 280, change: 0.00137388\n",
      "Epoch 281, change: 0.00136727\n",
      "Epoch 282, change: 0.00136124\n",
      "Epoch 283, change: 0.00135455\n",
      "Epoch 284, change: 0.00134828\n",
      "Epoch 285, change: 0.00134197\n",
      "Epoch 286, change: 0.00133571\n",
      "Epoch 287, change: 0.00132939\n",
      "Epoch 288, change: 0.00132354\n",
      "Epoch 289, change: 0.00131733\n",
      "Epoch 290, change: 0.00131134\n",
      "Epoch 291, change: 0.00130547\n",
      "Epoch 292, change: 0.00129962\n",
      "Epoch 293, change: 0.00129368\n",
      "Epoch 294, change: 0.00128767\n",
      "Epoch 295, change: 0.00128227\n",
      "Epoch 296, change: 0.00127634\n",
      "Epoch 297, change: 0.00127080\n",
      "Epoch 298, change: 0.00126483\n",
      "Epoch 299, change: 0.00125916\n",
      "Epoch 300, change: 0.00125399\n",
      "Epoch 301, change: 0.00124831\n",
      "Epoch 302, change: 0.00124277\n",
      "Epoch 303, change: 0.00123713\n",
      "Epoch 304, change: 0.00123184\n",
      "Epoch 305, change: 0.00122636\n",
      "Epoch 306, change: 0.00122146\n",
      "Epoch 307, change: 0.00121597\n",
      "Epoch 308, change: 0.00121049\n",
      "Epoch 309, change: 0.00120522\n",
      "Epoch 310, change: 0.00120012\n",
      "Epoch 311, change: 0.00119525\n",
      "Epoch 312, change: 0.00119002\n",
      "Epoch 313, change: 0.00118482\n",
      "Epoch 314, change: 0.00118027\n",
      "Epoch 315, change: 0.00117480\n",
      "Epoch 316, change: 0.00116989\n",
      "Epoch 317, change: 0.00116467\n",
      "Epoch 318, change: 0.00116010\n",
      "Epoch 319, change: 0.00115535\n",
      "Epoch 320, change: 0.00115021\n",
      "Epoch 321, change: 0.00114555\n",
      "Epoch 322, change: 0.00114086\n",
      "Epoch 323, change: 0.00113638\n",
      "Epoch 324, change: 0.00113151\n",
      "Epoch 325, change: 0.00112640\n",
      "Epoch 326, change: 0.00112217\n",
      "Epoch 327, change: 0.00111738\n",
      "Epoch 328, change: 0.00111309\n",
      "Epoch 329, change: 0.00110854\n",
      "Epoch 330, change: 0.00110378\n",
      "Epoch 331, change: 0.00109964\n",
      "Epoch 332, change: 0.00109468\n",
      "Epoch 333, change: 0.00109064\n",
      "Epoch 334, change: 0.00108646\n",
      "Epoch 335, change: 0.00108179\n",
      "Epoch 336, change: 0.00107757\n",
      "Epoch 337, change: 0.00107338\n",
      "Epoch 338, change: 0.00106887\n",
      "Epoch 339, change: 0.00106499\n",
      "Epoch 340, change: 0.00106040\n",
      "Epoch 341, change: 0.00105628\n",
      "Epoch 342, change: 0.00105219\n",
      "Epoch 343, change: 0.00104798\n",
      "Epoch 344, change: 0.00104392\n",
      "Epoch 345, change: 0.00103985\n",
      "Epoch 346, change: 0.00103596\n",
      "Epoch 347, change: 0.00103182\n",
      "Epoch 348, change: 0.00102744\n",
      "Epoch 349, change: 0.00102370\n",
      "Epoch 350, change: 0.00101988\n",
      "Epoch 351, change: 0.00101565\n",
      "Epoch 352, change: 0.00101205\n",
      "Epoch 353, change: 0.00100797\n",
      "Epoch 354, change: 0.00100434\n",
      "Epoch 355, change: 0.00100045\n",
      "Epoch 356, change: 0.00099672\n",
      "Epoch 357, change: 0.00099269\n",
      "Epoch 358, change: 0.00098917\n",
      "Epoch 359, change: 0.00098515\n",
      "Epoch 360, change: 0.00098160\n",
      "Epoch 361, change: 0.00097799\n",
      "Epoch 362, change: 0.00097435\n",
      "Epoch 363, change: 0.00097080\n",
      "Epoch 364, change: 0.00096697\n",
      "Epoch 365, change: 0.00096363\n",
      "Epoch 366, change: 0.00096003\n",
      "Epoch 367, change: 0.00095619\n",
      "Epoch 368, change: 0.00095246\n",
      "Epoch 369, change: 0.00094939\n",
      "Epoch 370, change: 0.00094579\n",
      "Epoch 371, change: 0.00094233\n",
      "Epoch 372, change: 0.00093869\n",
      "Epoch 373, change: 0.00093551\n",
      "Epoch 374, change: 0.00093210\n",
      "Epoch 375, change: 0.00092871\n",
      "Epoch 376, change: 0.00092504\n",
      "Epoch 377, change: 0.00092224\n",
      "Epoch 378, change: 0.00091844\n",
      "Epoch 379, change: 0.00091535\n",
      "Epoch 380, change: 0.00091228\n",
      "Epoch 381, change: 0.00090899\n",
      "Epoch 382, change: 0.00090546\n",
      "Epoch 383, change: 0.00090202\n",
      "Epoch 384, change: 0.00089917\n",
      "Epoch 385, change: 0.00089600\n",
      "Epoch 386, change: 0.00089275\n",
      "Epoch 387, change: 0.00088972\n",
      "Epoch 388, change: 0.00088668\n",
      "Epoch 389, change: 0.00088313\n",
      "Epoch 390, change: 0.00088031\n",
      "Epoch 391, change: 0.00087704\n",
      "Epoch 392, change: 0.00087410\n",
      "Epoch 393, change: 0.00087106\n",
      "Epoch 394, change: 0.00086798\n",
      "Epoch 395, change: 0.00086519\n",
      "Epoch 396, change: 0.00086183\n",
      "Epoch 397, change: 0.00085898\n",
      "Epoch 398, change: 0.00085620\n",
      "Epoch 399, change: 0.00085344\n",
      "Epoch 400, change: 0.00085027\n",
      "Epoch 401, change: 0.00084721\n",
      "Epoch 402, change: 0.00084453\n",
      "Epoch 403, change: 0.00084153\n",
      "Epoch 404, change: 0.00083859\n",
      "Epoch 405, change: 0.00083599\n",
      "Epoch 406, change: 0.00083327\n",
      "Epoch 407, change: 0.00083022\n",
      "Epoch 408, change: 0.00082734\n",
      "Epoch 409, change: 0.00082474\n",
      "Epoch 410, change: 0.00082187\n",
      "Epoch 411, change: 0.00081924\n",
      "Epoch 412, change: 0.00081631\n",
      "Epoch 413, change: 0.00081360\n",
      "Epoch 414, change: 0.00081109\n",
      "Epoch 415, change: 0.00080818\n",
      "Epoch 416, change: 0.00080563\n",
      "Epoch 417, change: 0.00080307\n",
      "Epoch 418, change: 0.00080038\n",
      "Epoch 419, change: 0.00079777\n",
      "Epoch 420, change: 0.00079505\n",
      "Epoch 421, change: 0.00079239\n",
      "Epoch 422, change: 0.00079003\n",
      "Epoch 423, change: 0.00078792\n",
      "Epoch 424, change: 0.00078675\n",
      "Epoch 425, change: 0.00078506\n",
      "Epoch 426, change: 0.00078400\n",
      "Epoch 427, change: 0.00078174\n",
      "Epoch 428, change: 0.00078036\n",
      "Epoch 429, change: 0.00077941\n",
      "Epoch 430, change: 0.00077740\n",
      "Epoch 431, change: 0.00077636\n",
      "Epoch 432, change: 0.00077461\n",
      "Epoch 433, change: 0.00077342\n",
      "Epoch 434, change: 0.00077236\n",
      "Epoch 435, change: 0.00077030\n",
      "Epoch 436, change: 0.00076879\n",
      "Epoch 437, change: 0.00076769\n",
      "Epoch 438, change: 0.00076556\n",
      "Epoch 439, change: 0.00076440\n",
      "Epoch 440, change: 0.00076271\n",
      "Epoch 441, change: 0.00076178\n",
      "Epoch 442, change: 0.00075985\n",
      "Epoch 443, change: 0.00075916\n",
      "Epoch 444, change: 0.00075752\n",
      "Epoch 445, change: 0.00075643\n",
      "Epoch 446, change: 0.00075407\n",
      "Epoch 447, change: 0.00075322\n",
      "Epoch 448, change: 0.00075194\n",
      "Epoch 449, change: 0.00075033\n",
      "Epoch 450, change: 0.00074859\n",
      "Epoch 451, change: 0.00074826\n",
      "Epoch 452, change: 0.00074592\n",
      "Epoch 453, change: 0.00074522\n",
      "Epoch 454, change: 0.00074350\n",
      "Epoch 455, change: 0.00074227\n",
      "Epoch 456, change: 0.00074117\n",
      "Epoch 457, change: 0.00073958\n",
      "Epoch 458, change: 0.00073828\n",
      "Epoch 459, change: 0.00073696\n",
      "Epoch 460, change: 0.00073582\n",
      "Epoch 461, change: 0.00073446\n",
      "Epoch 462, change: 0.00073340\n",
      "Epoch 463, change: 0.00073170\n",
      "Epoch 464, change: 0.00073082\n",
      "Epoch 465, change: 0.00072920\n",
      "Epoch 466, change: 0.00072815\n",
      "Epoch 467, change: 0.00072686\n",
      "Epoch 468, change: 0.00072514\n",
      "Epoch 469, change: 0.00072431\n",
      "Epoch 470, change: 0.00072283\n",
      "Epoch 471, change: 0.00072172\n",
      "Epoch 472, change: 0.00072081\n",
      "Epoch 473, change: 0.00071881\n",
      "Epoch 474, change: 0.00071771\n",
      "Epoch 475, change: 0.00071698\n",
      "Epoch 476, change: 0.00071514\n",
      "Epoch 477, change: 0.00071425\n",
      "Epoch 478, change: 0.00071295\n",
      "Epoch 479, change: 0.00071154\n",
      "Epoch 480, change: 0.00071029\n",
      "Epoch 481, change: 0.00070911\n",
      "Epoch 482, change: 0.00070791\n",
      "Epoch 483, change: 0.00070683\n",
      "Epoch 484, change: 0.00070569\n",
      "Epoch 485, change: 0.00070444\n",
      "Epoch 486, change: 0.00070327\n",
      "Epoch 487, change: 0.00070177\n",
      "Epoch 488, change: 0.00070076\n",
      "Epoch 489, change: 0.00069960\n",
      "Epoch 490, change: 0.00069825\n",
      "Epoch 491, change: 0.00069730\n",
      "Epoch 492, change: 0.00069598\n",
      "Epoch 493, change: 0.00069505\n",
      "Epoch 494, change: 0.00069364\n",
      "Epoch 495, change: 0.00069246\n",
      "Epoch 496, change: 0.00069182\n",
      "Epoch 497, change: 0.00069011\n",
      "Epoch 498, change: 0.00068913\n",
      "Epoch 499, change: 0.00068790\n",
      "Epoch 500, change: 0.00068708\n",
      "Epoch 501, change: 0.00068584\n",
      "Epoch 502, change: 0.00068439\n",
      "Epoch 503, change: 0.00068367\n",
      "Epoch 504, change: 0.00068210\n",
      "Epoch 505, change: 0.00068112\n",
      "Epoch 506, change: 0.00067976\n",
      "Epoch 507, change: 0.00067956\n",
      "Epoch 508, change: 0.00067757\n",
      "Epoch 509, change: 0.00067653\n",
      "Epoch 510, change: 0.00067575\n",
      "Epoch 511, change: 0.00067452\n",
      "Epoch 512, change: 0.00067361\n",
      "Epoch 513, change: 0.00067197\n",
      "Epoch 514, change: 0.00067125\n",
      "Epoch 515, change: 0.00067050\n",
      "Epoch 516, change: 0.00066907\n",
      "Epoch 517, change: 0.00066801\n",
      "Epoch 518, change: 0.00066717\n",
      "Epoch 519, change: 0.00066556\n",
      "Epoch 520, change: 0.00066536\n",
      "Epoch 521, change: 0.00066338\n",
      "Epoch 522, change: 0.00066301\n",
      "Epoch 523, change: 0.00066149\n",
      "Epoch 524, change: 0.00066050\n",
      "Epoch 525, change: 0.00065966\n",
      "Epoch 526, change: 0.00065848\n",
      "Epoch 527, change: 0.00065779\n",
      "Epoch 528, change: 0.00065613\n",
      "Epoch 529, change: 0.00065572\n",
      "Epoch 530, change: 0.00065436\n",
      "Epoch 531, change: 0.00065341\n",
      "Epoch 532, change: 0.00065233\n",
      "Epoch 533, change: 0.00065114\n",
      "Epoch 534, change: 0.00065089\n",
      "Epoch 535, change: 0.00064919\n",
      "Epoch 536, change: 0.00064848\n",
      "Epoch 537, change: 0.00064722\n",
      "Epoch 538, change: 0.00064600\n",
      "Epoch 539, change: 0.00064550\n",
      "Epoch 540, change: 0.00064431\n",
      "Epoch 541, change: 0.00064348\n",
      "Epoch 542, change: 0.00064217\n",
      "Epoch 543, change: 0.00064137\n",
      "Epoch 544, change: 0.00064047\n",
      "Epoch 545, change: 0.00063944\n",
      "Epoch 546, change: 0.00063820\n",
      "Epoch 547, change: 0.00063766\n",
      "Epoch 548, change: 0.00063617\n",
      "Epoch 549, change: 0.00063588\n",
      "Epoch 550, change: 0.00063434\n",
      "Epoch 551, change: 0.00063348\n",
      "Epoch 552, change: 0.00063299\n",
      "Epoch 553, change: 0.00063162\n",
      "Epoch 554, change: 0.00063048\n",
      "Epoch 555, change: 0.00062968\n",
      "Epoch 556, change: 0.00062901\n",
      "Epoch 557, change: 0.00062793\n",
      "Epoch 558, change: 0.00062676\n",
      "Epoch 559, change: 0.00062598\n",
      "Epoch 560, change: 0.00062506\n",
      "Epoch 561, change: 0.00062425\n",
      "Epoch 562, change: 0.00062312\n",
      "Epoch 563, change: 0.00062254\n",
      "Epoch 564, change: 0.00062132\n",
      "Epoch 565, change: 0.00062064\n",
      "Epoch 566, change: 0.00061975\n",
      "Epoch 567, change: 0.00061905\n",
      "Epoch 568, change: 0.00061759\n",
      "Epoch 569, change: 0.00061687\n",
      "Epoch 570, change: 0.00061600\n",
      "Epoch 571, change: 0.00061542\n",
      "Epoch 572, change: 0.00061415\n",
      "Epoch 573, change: 0.00061347\n",
      "Epoch 574, change: 0.00061249\n",
      "Epoch 575, change: 0.00061152\n",
      "Epoch 576, change: 0.00061085\n",
      "Epoch 577, change: 0.00060981\n",
      "Epoch 578, change: 0.00060870\n",
      "Epoch 579, change: 0.00060827\n",
      "Epoch 580, change: 0.00060730\n",
      "Epoch 581, change: 0.00060629\n",
      "Epoch 582, change: 0.00060531\n",
      "Epoch 583, change: 0.00060464\n",
      "Epoch 584, change: 0.00060381\n",
      "Epoch 585, change: 0.00060284\n",
      "Epoch 586, change: 0.00060180\n",
      "Epoch 587, change: 0.00060152\n",
      "Epoch 588, change: 0.00060006\n",
      "Epoch 589, change: 0.00059951\n",
      "Epoch 590, change: 0.00059881\n",
      "Epoch 591, change: 0.00059771\n",
      "Epoch 592, change: 0.00059688\n",
      "Epoch 593, change: 0.00059611\n",
      "Epoch 594, change: 0.00059534\n",
      "Epoch 595, change: 0.00059462\n",
      "Epoch 596, change: 0.00059313\n",
      "Epoch 597, change: 0.00059274\n",
      "Epoch 598, change: 0.00059210\n",
      "Epoch 599, change: 0.00059121\n",
      "Epoch 600, change: 0.00059029\n",
      "Epoch 601, change: 0.00058911\n",
      "Epoch 602, change: 0.00058888\n",
      "Epoch 603, change: 0.00058806\n",
      "Epoch 604, change: 0.00058702\n",
      "Epoch 605, change: 0.00058628\n",
      "Epoch 606, change: 0.00058556\n",
      "Epoch 607, change: 0.00058482\n",
      "Epoch 608, change: 0.00058385\n",
      "Epoch 609, change: 0.00058333\n",
      "Epoch 610, change: 0.00058236\n",
      "Epoch 611, change: 0.00058137\n",
      "Epoch 612, change: 0.00058063\n",
      "Epoch 613, change: 0.00057961\n",
      "Epoch 614, change: 0.00057904\n",
      "Epoch 615, change: 0.00057824\n",
      "Epoch 616, change: 0.00057753\n",
      "Epoch 617, change: 0.00057678\n",
      "Epoch 618, change: 0.00057598\n",
      "Epoch 619, change: 0.00057540\n",
      "Epoch 620, change: 0.00057457\n",
      "Epoch 621, change: 0.00057345\n",
      "Epoch 622, change: 0.00057285\n",
      "Epoch 623, change: 0.00057195\n",
      "Epoch 624, change: 0.00057131\n",
      "Epoch 625, change: 0.00057059\n",
      "Epoch 626, change: 0.00056978\n",
      "Epoch 627, change: 0.00056938\n",
      "Epoch 628, change: 0.00056836\n",
      "Epoch 629, change: 0.00056750\n",
      "Epoch 630, change: 0.00056671\n",
      "Epoch 631, change: 0.00056624\n",
      "Epoch 632, change: 0.00056522\n",
      "Epoch 633, change: 0.00056480\n",
      "Epoch 634, change: 0.00056391\n",
      "Epoch 635, change: 0.00056325\n",
      "Epoch 636, change: 0.00056246\n",
      "Epoch 637, change: 0.00056166\n",
      "Epoch 638, change: 0.00056078\n",
      "Epoch 639, change: 0.00056018\n",
      "Epoch 640, change: 0.00055965\n",
      "Epoch 641, change: 0.00055872\n",
      "Epoch 642, change: 0.00055781\n",
      "Epoch 643, change: 0.00055747\n",
      "Epoch 644, change: 0.00055657\n",
      "Epoch 645, change: 0.00055594\n",
      "Epoch 646, change: 0.00055511\n",
      "Epoch 647, change: 0.00055458\n",
      "Epoch 648, change: 0.00055369\n",
      "Epoch 649, change: 0.00055307\n",
      "Epoch 650, change: 0.00055225\n",
      "Epoch 651, change: 0.00055134\n",
      "Epoch 652, change: 0.00055086\n",
      "Epoch 653, change: 0.00054983\n",
      "Epoch 654, change: 0.00054957\n",
      "Epoch 655, change: 0.00054845\n",
      "Epoch 656, change: 0.00054817\n",
      "Epoch 657, change: 0.00054739\n",
      "Epoch 658, change: 0.00054675\n",
      "Epoch 659, change: 0.00054594\n",
      "Epoch 660, change: 0.00054525\n",
      "Epoch 661, change: 0.00054456\n",
      "Epoch 662, change: 0.00054396\n",
      "Epoch 663, change: 0.00054338\n",
      "Epoch 664, change: 0.00054257\n",
      "Epoch 665, change: 0.00054181\n",
      "Epoch 666, change: 0.00054119\n",
      "Epoch 667, change: 0.00054043\n",
      "Epoch 668, change: 0.00053988\n",
      "Epoch 669, change: 0.00053912\n",
      "Epoch 670, change: 0.00053876\n",
      "Epoch 671, change: 0.00053756\n",
      "Epoch 672, change: 0.00053746\n",
      "Epoch 673, change: 0.00053643\n",
      "Epoch 674, change: 0.00053587\n",
      "Epoch 675, change: 0.00053537\n",
      "Epoch 676, change: 0.00053482\n",
      "Epoch 677, change: 0.00053390\n",
      "Epoch 678, change: 0.00053321\n",
      "Epoch 679, change: 0.00053259\n",
      "Epoch 680, change: 0.00053210\n",
      "Epoch 681, change: 0.00053133\n",
      "Epoch 682, change: 0.00053067\n",
      "Epoch 683, change: 0.00053014\n",
      "Epoch 684, change: 0.00052893\n",
      "Epoch 685, change: 0.00052890\n",
      "Epoch 686, change: 0.00052781\n",
      "Epoch 687, change: 0.00052710\n",
      "Epoch 688, change: 0.00052671\n",
      "Epoch 689, change: 0.00052615\n",
      "Epoch 690, change: 0.00052522\n",
      "Epoch 691, change: 0.00052489\n",
      "Epoch 692, change: 0.00052431\n",
      "Epoch 693, change: 0.00052355\n",
      "Epoch 694, change: 0.00052284\n",
      "Epoch 695, change: 0.00052237\n",
      "Epoch 696, change: 0.00052179\n",
      "Epoch 697, change: 0.00052103\n",
      "Epoch 698, change: 0.00052038\n",
      "Epoch 699, change: 0.00051980\n",
      "Epoch 700, change: 0.00051935\n",
      "Epoch 701, change: 0.00051844\n",
      "Epoch 702, change: 0.00051795\n",
      "Epoch 703, change: 0.00051767\n",
      "Epoch 704, change: 0.00051672\n",
      "Epoch 705, change: 0.00051605\n",
      "Epoch 706, change: 0.00051566\n",
      "Epoch 707, change: 0.00051476\n",
      "Epoch 708, change: 0.00051431\n",
      "Epoch 709, change: 0.00051367\n",
      "Epoch 710, change: 0.00051284\n",
      "Epoch 711, change: 0.00051277\n",
      "Epoch 712, change: 0.00051198\n",
      "Epoch 713, change: 0.00051108\n",
      "Epoch 714, change: 0.00051099\n",
      "Epoch 715, change: 0.00051017\n",
      "Epoch 716, change: 0.00050945\n",
      "Epoch 717, change: 0.00050896\n",
      "Epoch 718, change: 0.00050805\n",
      "Epoch 719, change: 0.00050776\n",
      "Epoch 720, change: 0.00050703\n",
      "Epoch 721, change: 0.00050687\n",
      "Epoch 722, change: 0.00050605\n",
      "Epoch 723, change: 0.00050530\n",
      "Epoch 724, change: 0.00050488\n",
      "Epoch 725, change: 0.00050434\n",
      "Epoch 726, change: 0.00050376\n",
      "Epoch 727, change: 0.00050320\n",
      "Epoch 728, change: 0.00050267\n",
      "Epoch 729, change: 0.00050195\n",
      "Epoch 730, change: 0.00050146\n",
      "Epoch 731, change: 0.00050099\n",
      "Epoch 732, change: 0.00050058\n",
      "Epoch 733, change: 0.00049960\n",
      "Epoch 734, change: 0.00049930\n",
      "Epoch 735, change: 0.00049879\n",
      "Epoch 736, change: 0.00049797\n",
      "Epoch 737, change: 0.00049765\n",
      "Epoch 738, change: 0.00049671\n",
      "Epoch 739, change: 0.00049628\n",
      "Epoch 740, change: 0.00049606\n",
      "Epoch 741, change: 0.00049518\n",
      "Epoch 742, change: 0.00049480\n",
      "Epoch 743, change: 0.00049437\n",
      "Epoch 744, change: 0.00049396\n",
      "Epoch 745, change: 0.00049358\n",
      "Epoch 746, change: 0.00049317\n",
      "Epoch 747, change: 0.00049277\n",
      "Epoch 748, change: 0.00049237\n",
      "Epoch 749, change: 0.00049198\n",
      "Epoch 750, change: 0.00049159\n",
      "Epoch 751, change: 0.00049119\n",
      "Epoch 752, change: 0.00049085\n",
      "Epoch 753, change: 0.00049040\n",
      "Epoch 754, change: 0.00049005\n",
      "Epoch 755, change: 0.00048966\n",
      "Epoch 756, change: 0.00048928\n",
      "Epoch 757, change: 0.00048890\n",
      "Epoch 758, change: 0.00048849\n",
      "Epoch 759, change: 0.00048809\n",
      "Epoch 760, change: 0.00048775\n",
      "Epoch 761, change: 0.00048738\n",
      "Epoch 762, change: 0.00048694\n",
      "Epoch 763, change: 0.00048662\n",
      "Epoch 764, change: 0.00048622\n",
      "Epoch 765, change: 0.00048582\n",
      "Epoch 766, change: 0.00048547\n",
      "Epoch 767, change: 0.00048508\n",
      "Epoch 768, change: 0.00048469\n",
      "Epoch 769, change: 0.00048433\n",
      "Epoch 770, change: 0.00048396\n",
      "Epoch 771, change: 0.00048357\n",
      "Epoch 772, change: 0.00048321\n",
      "Epoch 773, change: 0.00048283\n",
      "Epoch 774, change: 0.00048245\n",
      "Epoch 775, change: 0.00048209\n",
      "Epoch 776, change: 0.00048174\n",
      "Epoch 777, change: 0.00048135\n",
      "Epoch 778, change: 0.00048098\n",
      "Epoch 779, change: 0.00048060\n",
      "Epoch 780, change: 0.00048027\n",
      "Epoch 781, change: 0.00047987\n",
      "Epoch 782, change: 0.00047954\n",
      "Epoch 783, change: 0.00047917\n",
      "Epoch 784, change: 0.00047882\n",
      "Epoch 785, change: 0.00047841\n",
      "Epoch 786, change: 0.00047806\n",
      "Epoch 787, change: 0.00047771\n",
      "Epoch 788, change: 0.00047733\n",
      "Epoch 789, change: 0.00047699\n",
      "Epoch 790, change: 0.00047663\n",
      "Epoch 791, change: 0.00047628\n",
      "Epoch 792, change: 0.00047592\n",
      "Epoch 793, change: 0.00047557\n",
      "Epoch 794, change: 0.00047519\n",
      "Epoch 795, change: 0.00047486\n",
      "Epoch 796, change: 0.00047451\n",
      "Epoch 797, change: 0.00047410\n",
      "Epoch 798, change: 0.00047375\n",
      "Epoch 799, change: 0.00047341\n",
      "Epoch 800, change: 0.00047309\n",
      "Epoch 801, change: 0.00047271\n",
      "Epoch 802, change: 0.00047235\n",
      "Epoch 803, change: 0.00047203\n",
      "Epoch 804, change: 0.00047165\n",
      "Epoch 805, change: 0.00047133\n",
      "Epoch 806, change: 0.00047100\n",
      "Epoch 807, change: 0.00047062\n",
      "Epoch 808, change: 0.00047025\n",
      "Epoch 809, change: 0.00046994\n",
      "Epoch 810, change: 0.00046959\n",
      "Epoch 811, change: 0.00046928\n",
      "Epoch 812, change: 0.00046892\n",
      "Epoch 813, change: 0.00046857\n",
      "Epoch 814, change: 0.00046824\n",
      "Epoch 815, change: 0.00046787\n",
      "Epoch 816, change: 0.00046752\n",
      "Epoch 817, change: 0.00046719\n",
      "Epoch 818, change: 0.00046684\n",
      "Epoch 819, change: 0.00046652\n",
      "Epoch 820, change: 0.00046619\n",
      "Epoch 821, change: 0.00046582\n",
      "Epoch 822, change: 0.00046548\n",
      "Epoch 823, change: 0.00046517\n",
      "Epoch 824, change: 0.00046484\n",
      "Epoch 825, change: 0.00046450\n",
      "Epoch 826, change: 0.00046417\n",
      "Epoch 827, change: 0.00046385\n",
      "Epoch 828, change: 0.00046348\n",
      "Epoch 829, change: 0.00046318\n",
      "Epoch 830, change: 0.00046283\n",
      "Epoch 831, change: 0.00046251\n",
      "Epoch 832, change: 0.00046219\n",
      "Epoch 833, change: 0.00046186\n",
      "Epoch 834, change: 0.00046149\n",
      "Epoch 835, change: 0.00046119\n",
      "Epoch 836, change: 0.00046087\n",
      "Epoch 837, change: 0.00046051\n",
      "Epoch 838, change: 0.00046021\n",
      "Epoch 839, change: 0.00045987\n",
      "Epoch 840, change: 0.00045958\n",
      "Epoch 841, change: 0.00045920\n",
      "Epoch 842, change: 0.00045890\n",
      "Epoch 843, change: 0.00045859\n",
      "Epoch 844, change: 0.00045826\n",
      "Epoch 845, change: 0.00045797\n",
      "Epoch 846, change: 0.00045762\n",
      "Epoch 847, change: 0.00045726\n",
      "Epoch 848, change: 0.00045699\n",
      "Epoch 849, change: 0.00045665\n",
      "Epoch 850, change: 0.00045636\n",
      "Epoch 851, change: 0.00045601\n",
      "Epoch 852, change: 0.00045571\n",
      "Epoch 853, change: 0.00045536\n",
      "Epoch 854, change: 0.00045505\n",
      "Epoch 855, change: 0.00045476\n",
      "Epoch 856, change: 0.00045444\n",
      "Epoch 857, change: 0.00045414\n",
      "Epoch 858, change: 0.00045380\n",
      "Epoch 859, change: 0.00045350\n",
      "Epoch 860, change: 0.00045319\n",
      "Epoch 861, change: 0.00045289\n",
      "Epoch 862, change: 0.00045256\n",
      "Epoch 863, change: 0.00045224\n",
      "Epoch 864, change: 0.00045195\n",
      "Epoch 865, change: 0.00045165\n",
      "Epoch 866, change: 0.00045133\n",
      "Epoch 867, change: 0.00045098\n",
      "Epoch 868, change: 0.00045072\n",
      "Epoch 869, change: 0.00045039\n",
      "Epoch 870, change: 0.00045011\n",
      "Epoch 871, change: 0.00044978\n",
      "Epoch 872, change: 0.00044950\n",
      "Epoch 873, change: 0.00044917\n",
      "Epoch 874, change: 0.00044887\n",
      "Epoch 875, change: 0.00044856\n",
      "Epoch 876, change: 0.00044828\n",
      "Epoch 877, change: 0.00044796\n",
      "Epoch 878, change: 0.00044764\n",
      "Epoch 879, change: 0.00044735\n",
      "Epoch 880, change: 0.00044706\n",
      "Epoch 881, change: 0.00044677\n",
      "Epoch 882, change: 0.00044645\n",
      "Epoch 883, change: 0.00044616\n",
      "Epoch 884, change: 0.00044587\n",
      "Epoch 885, change: 0.00044554\n",
      "Epoch 886, change: 0.00044524\n",
      "Epoch 887, change: 0.00044498\n",
      "Epoch 888, change: 0.00044466\n",
      "Epoch 889, change: 0.00044435\n",
      "Epoch 890, change: 0.00044409\n",
      "Epoch 891, change: 0.00044378\n",
      "Epoch 892, change: 0.00044348\n",
      "Epoch 893, change: 0.00044321\n",
      "Epoch 894, change: 0.00044287\n",
      "Epoch 895, change: 0.00044258\n",
      "Epoch 896, change: 0.00044231\n",
      "Epoch 897, change: 0.00044200\n",
      "Epoch 898, change: 0.00044173\n",
      "Epoch 899, change: 0.00044143\n",
      "Epoch 900, change: 0.00044114\n",
      "Epoch 901, change: 0.00044087\n",
      "Epoch 902, change: 0.00044056\n",
      "Epoch 903, change: 0.00044030\n",
      "Epoch 904, change: 0.00043999\n",
      "Epoch 905, change: 0.00043969\n",
      "Epoch 906, change: 0.00043942\n",
      "Epoch 907, change: 0.00043911\n",
      "Epoch 908, change: 0.00043882\n",
      "Epoch 909, change: 0.00043855\n",
      "Epoch 910, change: 0.00043827\n",
      "Epoch 911, change: 0.00043799\n",
      "Epoch 912, change: 0.00043770\n",
      "Epoch 913, change: 0.00043742\n",
      "Epoch 914, change: 0.00043713\n",
      "Epoch 915, change: 0.00043685\n",
      "Epoch 916, change: 0.00043655\n",
      "Epoch 917, change: 0.00043629\n",
      "Epoch 918, change: 0.00043600\n",
      "Epoch 919, change: 0.00043573\n",
      "Epoch 920, change: 0.00043544\n",
      "Epoch 921, change: 0.00043517\n",
      "Epoch 922, change: 0.00043489\n",
      "Epoch 923, change: 0.00043460\n",
      "Epoch 924, change: 0.00043432\n",
      "Epoch 925, change: 0.00043406\n",
      "Epoch 926, change: 0.00043378\n",
      "Epoch 927, change: 0.00043349\n",
      "Epoch 928, change: 0.00043323\n",
      "Epoch 929, change: 0.00043297\n",
      "Epoch 930, change: 0.00043267\n",
      "Epoch 931, change: 0.00043236\n",
      "Epoch 932, change: 0.00043213\n",
      "Epoch 933, change: 0.00043185\n",
      "Epoch 934, change: 0.00043156\n",
      "Epoch 935, change: 0.00043129\n",
      "Epoch 936, change: 0.00043103\n",
      "Epoch 937, change: 0.00043075\n",
      "Epoch 938, change: 0.00043048\n",
      "Epoch 939, change: 0.00043021\n",
      "Epoch 940, change: 0.00042994\n",
      "Epoch 941, change: 0.00042966\n",
      "Epoch 942, change: 0.00042941\n",
      "Epoch 943, change: 0.00042910\n",
      "Epoch 944, change: 0.00042888\n",
      "Epoch 945, change: 0.00042859\n",
      "Epoch 946, change: 0.00042835\n",
      "Epoch 947, change: 0.00042806\n",
      "Epoch 948, change: 0.00042780\n",
      "Epoch 949, change: 0.00042757\n",
      "Epoch 950, change: 0.00042722\n",
      "Epoch 951, change: 0.00042700\n",
      "Epoch 952, change: 0.00042671\n",
      "Epoch 953, change: 0.00042647\n",
      "Epoch 954, change: 0.00042621\n",
      "Epoch 955, change: 0.00042591\n",
      "Epoch 956, change: 0.00042567\n",
      "Epoch 957, change: 0.00042542\n",
      "Epoch 958, change: 0.00042513\n",
      "Epoch 959, change: 0.00042489\n",
      "Epoch 960, change: 0.00042462\n",
      "Epoch 961, change: 0.00042436\n",
      "Epoch 962, change: 0.00042411\n",
      "Epoch 963, change: 0.00042382\n",
      "Epoch 964, change: 0.00042359\n",
      "Epoch 965, change: 0.00042332\n",
      "Epoch 966, change: 0.00042304\n",
      "Epoch 967, change: 0.00042279\n",
      "Epoch 968, change: 0.00042254\n",
      "Epoch 969, change: 0.00042230\n",
      "Epoch 970, change: 0.00042202\n",
      "Epoch 971, change: 0.00042179\n",
      "Epoch 972, change: 0.00042151\n",
      "Epoch 973, change: 0.00042124\n",
      "Epoch 974, change: 0.00042102\n",
      "Epoch 975, change: 0.00042073\n",
      "Epoch 976, change: 0.00042048\n",
      "Epoch 977, change: 0.00042022\n",
      "Epoch 978, change: 0.00041998\n",
      "Epoch 979, change: 0.00041971\n",
      "Epoch 980, change: 0.00041948\n",
      "Epoch 981, change: 0.00041921\n",
      "Epoch 982, change: 0.00041897\n",
      "Epoch 983, change: 0.00041872\n",
      "Epoch 984, change: 0.00041850\n",
      "Epoch 985, change: 0.00041819\n",
      "Epoch 986, change: 0.00041797\n",
      "Epoch 987, change: 0.00041769\n",
      "Epoch 988, change: 0.00041747\n",
      "Epoch 989, change: 0.00041721\n",
      "Epoch 990, change: 0.00041697\n",
      "Epoch 991, change: 0.00041669\n",
      "Epoch 992, change: 0.00041646\n",
      "Epoch 993, change: 0.00041620\n",
      "Epoch 994, change: 0.00041597\n",
      "Epoch 995, change: 0.00041573\n",
      "Epoch 996, change: 0.00041547\n",
      "Epoch 997, change: 0.00041523\n",
      "Epoch 998, change: 0.00041501\n",
      "Epoch 999, change: 0.00041473\n",
      "max_iter reached after 86 secondsEpoch 1000, change: 0.00041450\n",
      "\n",
      "Logistic Regression Validation Log Loss:  0.4017137552144028\n"
     ]
    },
    {
     "output_type": "stream",
     "name": "stderr",
     "text": [
      "[Parallel(n_jobs=1000)]: Done   1 out of   1 | elapsed:  1.4min finished\n"
     ]
    }
   ],
   "metadata": {
    "ExecuteTime": {
     "end_time": "2018-09-15T04:58:06.514049Z",
     "start_time": "2018-09-15T00:22:42.778440Z"
    },
    "pycharm": {
     "is_executing": true
    }
   }
  },
  {
   "cell_type": "code",
   "execution_count": null,
   "source": [
    "# Random Forest Ensemble\n",
    "random_forest = RandomForestClassifier(n_estimators=500, max_depth=15, max_features='sqrt',\n",
    "                                       min_samples_leaf=5, min_samples_split=25, \n",
    "                                       random_state=1, verbose=1, n_jobs=jobs)\n",
    "\n",
    "\n",
    "random_forest.fit(mini_train_data, mini_train_labels)\n",
    "pred_probs = random_forest.predict_proba(mini_dev_data)\n",
    "\n",
    "rf_loss = log_loss(mini_dev_labels, pred_probs)\n",
    "\n",
    "print('Random Forest Validation Log Loss: ', rf_loss)"
   ],
   "outputs": [
    {
     "output_type": "stream",
     "name": "stderr",
     "text": [
      "[Parallel(n_jobs=1000)]: Using backend ThreadingBackend with 1000 concurrent workers.\n",
      "[Parallel(n_jobs=1000)]: Done   4 out of 500 | elapsed:    0.2s remaining:   26.6s\n",
      "[Parallel(n_jobs=1000)]: Done 500 out of 500 | elapsed:    2.5s finished\n",
      "[Parallel(n_jobs=500)]: Using backend ThreadingBackend with 500 concurrent workers.\n",
      "[Parallel(n_jobs=500)]: Done   2 out of 500 | elapsed:    0.1s remaining:   18.3s\n"
     ]
    },
    {
     "output_type": "stream",
     "name": "stdout",
     "text": [
      "Random Forest Validation Log Loss:  0.12481225127427174\n"
     ]
    },
    {
     "output_type": "stream",
     "name": "stderr",
     "text": [
      "[Parallel(n_jobs=500)]: Done 500 out of 500 | elapsed:    0.3s finished\n"
     ]
    }
   ],
   "metadata": {
    "ExecuteTime": {
     "end_time": "2018-09-15T05:04:12.620499Z",
     "start_time": "2018-09-15T04:58:06.515799Z"
    },
    "scrolled": true,
    "pycharm": {
     "is_executing": true
    }
   }
  },
  {
   "cell_type": "code",
   "execution_count": null,
   "source": [
    "# XGBoost Ensemble \n",
    "# xgb = XGBClassifier(n_estimators=100, verbose=3, n_jobs=jobs, random_state=1)\n",
    "xgb = XGBClassifier(n_estimators=500, objective=\"multi:softprob\", \n",
    "                    verbose=3, n_jobs=jobs, random_state=1)\n",
    "\n",
    "xgb.fit(mini_encoded_train_data, mini_train_labels)\n",
    "pred_probs = xgb.predict_proba(mini_encoded_dev_data)\n",
    "\n",
    "xgb_loss = log_loss(mini_dev_labels, pred_probs)\n",
    "\n",
    "print('XGBoost Validation Log Loss: ', xgb_loss)"
   ],
   "outputs": [],
   "metadata": {
    "ExecuteTime": {
     "end_time": "2018-09-15T06:34:32.857467Z",
     "start_time": "2018-09-15T05:04:12.622327Z"
    },
    "pycharm": {
     "is_executing": true
    }
   }
  },
  {
   "cell_type": "code",
   "execution_count": null,
   "source": [
    "# Display the rank of the models\n",
    "models = pd.DataFrame({\n",
    "    'Model': ['SGD (Elastic net)', 'Logistic Regression (l1)', 'Random Forest', \n",
    "              'Gaussian Naive Bayes', 'XGBoost', 'K Neighbors'],\n",
    "    'Log_Loss': [sgd_loss, logreg_loss, rf_loss, nb_loss, xgb_loss, knn_loss]})\n",
    "print(models.sort_values(by='Log_Loss', ascending=True).reset_index(drop=True))"
   ],
   "outputs": [],
   "metadata": {
    "ExecuteTime": {
     "end_time": "2018-09-15T06:34:32.876359Z",
     "start_time": "2018-09-15T06:34:32.859371Z"
    },
    "pycharm": {
     "is_executing": true
    }
   }
  },
  {
   "cell_type": "markdown",
   "source": [
    "# Model Selection\n",
    "\n",
    "- Although Logistic Regression with L1 regularization seems promising, our dataset has a mixture of categorical and numerical features that have very different statistics (mean, variance), thus not very linear. In addition, with any linear model, this would require **one hot encoding** that would greatly increase the feature space (some categorical features such as `BlockNumber` have many levels/values). \n",
    "    - Logistic Regression is a generalized linear model, and can theoretically only solve problems where the classes are linearly separable & features are linear.\n",
    "    - In practice, if we do more feature engineering and convert the non-linear features to linear features, we could increase the performance of LR\n",
    "- Ensemble methods have been historically and theoretically powerful in handling datasets with very different features (numerical & categorical features). In addition, ensemble methods are effective in solving non-linear problems. So, I will select between Random Forest & XGBoost as the final model. \n",
    "    - The caveat is that the default hyperparameters for RF & XGB are generally not optimal for the problem in hand, so hyperparameter tuning is necessary, which can take a while since there are so many hyperparameters to tune for (at least in XGB)."
   ],
   "metadata": {}
  },
  {
   "cell_type": "markdown",
   "source": [
    "# Hyperparameter Tuning\n",
    "\n",
    "- Hyperparameter tuning involves defining an objective function (log loss), and using cross-validation to measure the hyperparameter quality. \n",
    "    - We want the hyperparameters that give the highest generalization performance.\n",
    "- Three approaches: Grid Search (`GridSearchCV`), Random Search (`RandomSearchCV`), and Bayes Optimization (`BayesSearchCV`)\n",
    "- Realized `GridSearchCV` took way too long and was impractical, and `RandomSearchCV` was too random.\n",
    "    - Grid and random search are completely uninformed by past evaluations, and as a result, often spend a significant amount of time evaluating “bad” hyperparameters.\n",
    "- Then, I did more research on more efficient & smarter hyperparameter tuning techniques and found Bayeisan Optimization (`BayesSearchCV`)\n",
    "- **Bayesian Optimization Overview**\n",
    "    - Build a probabilistic model of the objective function & use it to select promising hyperparameters to evaluate in the true objective function\n",
    "        - The model used for approximating the objective function is called *surrogate model*. \n",
    "            - E.g. Gaussian Processes \n",
    "    - Keeps track of past evaluation results, which is used to form a probabilistic model mapping hyperparameters to a probability of a score on the objective function\n",
    "    - Instead of optimizing an expensive objective function, we optimize on a cheap proxy function instead.\n",
    "        - *Acquisition function* that directs sampling to areas where an improvement over the current best observation is likely.\n",
    "            - E.g. maximum probability of improvement (MPI), expected improvement (EI) and upper confidence bound (UCB)\n",
    "- **K-Folds Cross Validation**\n",
    "    - Use cross validation to measure the true generalization performance of a model \n",
    "    - This is integrated with the hyperparameter tuning techniques (`GridSearchCV`, `RandomSearchCV`, `BayesSearchCV`)"
   ],
   "metadata": {}
  },
  {
   "cell_type": "markdown",
   "source": [
    "--------\n",
    "## Random Forest (Bagging)\n",
    "\n",
    "- Basic Overview\n",
    "    - An ensemble method that utilizes Bagging (Bootstrapp Aggregation or sampling with replacement)\n",
    "    - Bagging helps reduce **variance** in any single learner (Decision Trees)\n",
    "- Basic Steps:\n",
    "    1. Several decision trees which are generated in parallel, form the base learners of bagging technique.\n",
    "    2. Data sampled with replacement is fed to these learners for training.\n",
    "    3. The final prediction is the averaged output from all the learners.\n",
    "   \n",
    "\n",
    "**Things I learned**:\n",
    "- Since the random forest model is overfitting, we want to increase the **min** parameters of random forest and decrease the **max** parameters of random forest\n",
    "- increasing n_estimators will prevent the random forest from **overfitting**\n",
    "    - lower number of n_estimators will be similiar to just a simple decision tree (very prone to overfitting)\n",
    "- increasing max depth will increase **variance** (overfitting, sensitivity to training set) and decrease **bias**\n",
    "- increasing min samples leaf will decrease **variance** and increase **bias**.\n",
    "- decreasing any of the **max*** parameters and increasing any of the **min*** parameters will increase **regularization**."
   ],
   "metadata": {}
  },
  {
   "cell_type": "code",
   "execution_count": null,
   "source": [
    "n_features = X_train.shape[1]\n",
    "\n",
    "opt = BayesSearchCV(\n",
    "    estimator=RandomForestClassifier(oob_score=True, random_state=1, n_jobs=jobs),\n",
    "    search_spaces= \n",
    "    {\n",
    "        'n_estimators': (100, 600),\n",
    "        'max_depth': (1, 50),  \n",
    "        'max_features': (1, n_features),\n",
    "        'min_samples_leaf': (1, 50),  # integer valued parameter\n",
    "        'min_samples_split': (2, 50),\n",
    "    },\n",
    "    n_iter=20,\n",
    "    optimizer_kwargs= {'base_estimator': 'RF'},\n",
    "    scoring='neg_log_loss',\n",
    "    n_jobs=jobs,\n",
    "    verbose=0,\n",
    "    cv = StratifiedKFold(\n",
    "        n_splits=3,\n",
    "        shuffle=True,\n",
    "        random_state=1\n",
    "    ),\n",
    "    random_state=1\n",
    "    \n",
    ")\n",
    "\n",
    "\n",
    "def status_print(optim_result):\n",
    "    \"\"\"Status callback durring bayesian hyperparameter search\"\"\"\n",
    "    \n",
    "    # Get all the models tested so far in DataFrame format\n",
    "    all_models = pd.DataFrame(opt.cv_results_)    \n",
    "    \n",
    "    # Get current parameters and the best parameters    \n",
    "    best_params = pd.Series(opt.best_params_)\n",
    "    print('Model #{}\\nBest LogLoss: {}\\nBest params: {}\\n'.format(\n",
    "        len(all_models),\n",
    "        np.round(opt.best_score_, 6),\n",
    "        opt.best_params_\n",
    "    ))\n",
    "    \n",
    "    # Save all model results\n",
    "    clf_name = opt.estimator.__class__.__name__\n",
    "    all_models.to_csv(clf_name + \"_cv_results.csv\")\n"
   ],
   "outputs": [],
   "metadata": {
    "ExecuteTime": {
     "end_time": "2018-09-15T06:34:33.878874Z",
     "start_time": "2018-09-15T06:34:33.825618Z"
    },
    "pycharm": {
     "is_executing": true
    }
   }
  },
  {
   "cell_type": "code",
   "execution_count": null,
   "source": [
    "result = opt.fit(X_train.values, Y_train.values, callback=status_print)"
   ],
   "outputs": [],
   "metadata": {
    "ExecuteTime": {
     "end_time": "2018-09-15T11:29:52.084160Z",
     "start_time": "2018-09-15T06:34:33.881264Z"
    },
    "scrolled": true,
    "pycharm": {
     "is_executing": true
    }
   }
  },
  {
   "cell_type": "code",
   "execution_count": null,
   "source": [
    "result.best_params_"
   ],
   "outputs": [],
   "metadata": {
    "ExecuteTime": {
     "end_time": "2018-09-17T04:55:53.896268Z",
     "start_time": "2018-09-17T04:55:53.757495Z"
    },
    "pycharm": {
     "is_executing": true
    }
   }
  },
  {
   "cell_type": "markdown",
   "source": [
    "## XGBoost (Boosting)\n",
    "\n",
    "- Basic Overview:\n",
    "    - Another ensemble method that uses Boosting instead of Bagging (Random Forests)\n",
    "    - In **Boosting**, the trees are built sequentially such that each subsequent tree aims to reduce the errors of the previous tree.\n",
    "    - Each tree learns from its predecessors and updates the residual errors. \n",
    "    - Each base learner is weak (high bias) and contributes some vital information for prediction, enabling the boosting technique to produce a strong learner by effectively combining these weak learners.\n",
    "    - The final strong learner brings down both the **bias** and the **variance**.\n",
    "    - In contrast to bagging techniques like Random Forest, in which trees are grown to their maximum extent, boosting makes use of trees with fewer splits\n",
    "        -  Such small trees, which are not very deep, are **highly interpretable**. \n",
    "- Basic Steps:\n",
    "    1. Initial model `F0` to predict target variable `y`. Used to also calculate residual (`y - F0`)\n",
    "    2. A new model `h1` is used to fit to the residuals from the previous step\n",
    "    3. Now, `F0` and `h1` are combined to give `F1`, which is the boosted version of `F0`. \n",
    "        - The MSE or whatever cost function you use (Log loss, MAE) of `F1` will be lower than `F0`.\n",
    "    4. Iterate the above steps to create new models based off the previous models.\n",
    "    \n",
    "### Prevent Overfitting:\n",
    "- Large number of trees will cause overfitting (unlike Random Forests)\n"
   ],
   "metadata": {}
  },
  {
   "cell_type": "code",
   "execution_count": null,
   "source": [
    "# log-uniform: understand as search over p = exp(x) by varying x\n",
    "bayes_cv_tuner = BayesSearchCV(\n",
    "    estimator = XGBClassifier(\n",
    "        #n_jobs = 3,\n",
    "        n_jobs = 20,\n",
    "        objective = 'multi:softprob',\n",
    "        eval_metric = 'mlogloss',\n",
    "        silent=1,\n",
    "        random_state=1\n",
    "    ),\n",
    "    search_spaces = {\n",
    "        'learning_rate': (0.01, 1.0, 'log-uniform'),\n",
    "        'min_child_weight': (0, 10),\n",
    "        'max_depth': (1, 100),\n",
    "        'max_delta_step': (0, 20),\n",
    "        'subsample': (0.01, 1.0, 'uniform'),\n",
    "        'colsample_bytree': (0.01, 1.0, 'uniform'),\n",
    "        'colsample_bylevel': (0.01, 1.0, 'uniform'),\n",
    "        'reg_lambda': (1e-9, 1000, 'log-uniform'),\n",
    "        'reg_alpha': (1e-9, 1.0, 'log-uniform'),\n",
    "        'gamma': (1e-9, 0.5, 'log-uniform'),\n",
    "        'min_child_weight': (0, 5),\n",
    "        'n_estimators': (50, 300),\n",
    "        'scale_pos_weight': (1e-6, 500, 'log-uniform')\n",
    "    },    \n",
    "    scoring = 'neg_log_loss',\n",
    "    cv = StratifiedKFold(\n",
    "        n_splits=3,\n",
    "        shuffle=True,\n",
    "        random_state=1\n",
    "    ),\n",
    "    #n_jobs = 6,\n",
    "    n_jobs = 10,\n",
    "    n_iter = 20,   \n",
    "    verbose = 0,\n",
    "    refit = True,\n",
    "    random_state = 1\n",
    ")\n",
    "\n",
    "def status_print(optim_result):\n",
    "    \"\"\"Status callback durring bayesian hyperparameter search\"\"\"\n",
    "    \n",
    "    # Get all the models tested so far in DataFrame format\n",
    "    all_models = pd.DataFrame(bayes_cv_tuner.cv_results_)    \n",
    "    \n",
    "    # Get current parameters and the best parameters    \n",
    "    best_params = pd.Series(bayes_cv_tuner.best_params_)\n",
    "    print('Model #{}\\nBest Log Loss: {}\\nBest params: {}\\n'.format(\n",
    "        len(all_models),\n",
    "        np.round(bayes_cv_tuner.best_score_, 8),\n",
    "        bayes_cv_tuner.best_params_\n",
    "    ))\n",
    "    \n",
    "    # Save all model results\n",
    "    clf_name = bayes_cv_tuner.estimator.__class__.__name__\n",
    "    all_models.to_csv(clf_name + \"_cv_results.csv\")"
   ],
   "outputs": [],
   "metadata": {
    "ExecuteTime": {
     "end_time": "2018-09-15T21:03:55.844774Z",
     "start_time": "2018-09-15T21:03:55.779287Z"
    },
    "pycharm": {
     "is_executing": true
    }
   }
  },
  {
   "cell_type": "code",
   "execution_count": null,
   "source": [
    "# Fit the model\n",
    "result = bayes_cv_tuner.fit(X_train.values, Y_train.values, callback=status_print)"
   ],
   "outputs": [],
   "metadata": {
    "pycharm": {
     "is_executing": true
    }
   }
  },
  {
   "cell_type": "code",
   "execution_count": null,
   "source": [
    "X_train.head()\n",
    "result.best_params_"
   ],
   "outputs": [],
   "metadata": {
    "pycharm": {
     "is_executing": true
    }
   }
  },
  {
   "cell_type": "markdown",
   "source": [
    "XGBoost Best params:\n",
    "\n",
    "{'colsample_bylevel': 1.0, 'colsample_bytree': 1.0, 'gamma': 0.49999999999999994, 'learning_rate': 0.1858621466840661, \n",
    "'max_delta_step': 0, 'max_depth': 50, 'min_child_weight': 5, 'n_estimators': 86, 'reg_alpha': 1.0, 'reg_lambda': 60.121460571845695, 'scale_pos_weight': 1e-06, 'subsample': 1.0}"
   ],
   "metadata": {}
  },
  {
   "cell_type": "markdown",
   "source": [
    "# Train model with optimal hyperparameters & all features\n",
    "\n",
    "- Initially, I started with a Random Forest, but decided to use XGBoost\n",
    "- We first train the model (with all the features) using the optimal hyperparameters that were found through `BayesSearchCV`\n",
    "- Then, I use the model to predict the probabilities of test set with all the features\n",
    "    - I'll save these predictions later to compare them with another model I will train with certain features removed"
   ],
   "metadata": {}
  },
  {
   "cell_type": "code",
   "execution_count": null,
   "source": [
    "# It seems running time scales quadratically with the number of classes\n",
    "xgb = XGBClassifier(\n",
    "    n_estimators=86, \n",
    "    objective=\"multi:softprob\", \n",
    "    learning_rate=0.1858621466840661,\n",
    "    colsample_bylevel=1.0,\n",
    "    colsample_bytree=1.0,\n",
    "    gamma=0.49999999999999994,\n",
    "    max_delta_step=0,\n",
    "    max_depth=50,\n",
    "    min_child_weight=5,\n",
    "    reg_alpha=1.0,\n",
    "    reg_lambda=60.121460571845695,\n",
    "    scale_pos_weight=1e-06,\n",
    "    subsample=1.0,\n",
    "    random_state=1, \n",
    "    n_jobs=jobs,\n",
    "    silent=False)\n",
    "\n",
    "\n",
    "xgb.fit(X_train, Y_train)\n",
    "\n",
    "Y_test_pred = xgb.predict_proba(X_test)"
   ],
   "outputs": [],
   "metadata": {
    "ExecuteTime": {
     "end_time": "2018-09-17T08:00:30.846347Z",
     "start_time": "2018-09-17T05:06:43.255143Z"
    },
    "pycharm": {
     "is_executing": true
    }
   }
  },
  {
   "cell_type": "code",
   "execution_count": null,
   "source": [
    "# random_forest = RandomForestClassifier(n_estimators=600, max_depth=21, max_features=6,\n",
    "#                                        min_samples_leaf=43, min_samples_split=40, \n",
    "#                                        random_state=1, verbose=3, n_jobs=jobs)\n",
    "# random_forest.fit(X_train, Y_train)\n",
    "\n",
    "# Y_test_pred = random_forest.predict_proba(X_test)"
   ],
   "outputs": [],
   "metadata": {
    "ExecuteTime": {
     "end_time": "2018-09-08T08:58:59.498448Z",
     "start_time": "2018-09-08T08:27:44.681456Z"
    },
    "scrolled": true,
    "pycharm": {
     "is_executing": true
    }
   }
  },
  {
   "cell_type": "markdown",
   "source": [
    "# Feature Importance\n",
    "\n",
    "- Measured by mean decrease in Gini information\n",
    "- This is a form of feature selection that ensemble methods (Random Forest, XGBoost) can use to prevent overfitting\n",
    "    - I drop the features that seem unimportant & with less than a 1% contribution"
   ],
   "metadata": {}
  },
  {
   "cell_type": "code",
   "execution_count": null,
   "source": [
    "importances = pd.DataFrame({'feature': X_train.columns,\n",
    "                            'importance': np.round(xgb.feature_importances_, 5)})\n",
    "importances = importances.sort_values('importance',ascending=False).set_index('feature')"
   ],
   "outputs": [],
   "metadata": {
    "ExecuteTime": {
     "end_time": "2018-09-17T08:00:40.093635Z",
     "start_time": "2018-09-17T08:00:30.849884Z"
    },
    "pycharm": {
     "is_executing": true
    }
   }
  },
  {
   "cell_type": "code",
   "execution_count": null,
   "source": [
    "importances"
   ],
   "outputs": [],
   "metadata": {
    "ExecuteTime": {
     "end_time": "2018-09-17T08:00:40.175114Z",
     "start_time": "2018-09-17T08:00:40.097249Z"
    },
    "pycharm": {
     "is_executing": true
    }
   }
  },
  {
   "cell_type": "markdown",
   "source": [
    "# Feature Removal\n",
    "\n",
    "- Remove features to simplify model and prevent overfitting\n",
    "- Drop anything that contributes under 1% to prevent overfitting"
   ],
   "metadata": {}
  },
  {
   "cell_type": "code",
   "execution_count": null,
   "source": [
    "X_train = X_train.drop(\"BusinessHour\", axis=1)\n",
    "X_test  = X_test.drop(\"BusinessHour\", axis=1)"
   ],
   "outputs": [],
   "metadata": {
    "ExecuteTime": {
     "end_time": "2018-09-17T08:14:35.010195Z",
     "start_time": "2018-09-17T08:14:34.817218Z"
    },
    "pycharm": {
     "is_executing": true
    }
   }
  },
  {
   "cell_type": "code",
   "execution_count": null,
   "source": [
    "X_train = X_train.drop(\"Precinct\", axis=1)\n",
    "X_test  = X_test.drop(\"Precinct\", axis=1)"
   ],
   "outputs": [],
   "metadata": {
    "ExecuteTime": {
     "end_time": "2018-09-17T08:14:36.108016Z",
     "start_time": "2018-09-17T08:14:35.943995Z"
    },
    "pycharm": {
     "is_executing": true
    }
   }
  },
  {
   "cell_type": "code",
   "execution_count": null,
   "source": [
    "X_train = X_train.drop(\"Holiday\", axis=1)\n",
    "X_test  = X_test.drop(\"Holiday\", axis=1)"
   ],
   "outputs": [],
   "metadata": {
    "ExecuteTime": {
     "end_time": "2018-09-17T08:14:36.487347Z",
     "start_time": "2018-09-17T08:14:36.397874Z"
    },
    "pycharm": {
     "is_executing": true
    }
   }
  },
  {
   "cell_type": "code",
   "execution_count": null,
   "source": [
    "X_train = X_train.drop(\"Weekend\", axis=1)\n",
    "X_test  = X_test.drop(\"Weekend\", axis=1)"
   ],
   "outputs": [],
   "metadata": {
    "ExecuteTime": {
     "end_time": "2018-09-17T08:14:53.358791Z",
     "start_time": "2018-09-17T08:14:53.260800Z"
    },
    "pycharm": {
     "is_executing": true
    }
   }
  },
  {
   "cell_type": "code",
   "execution_count": null,
   "source": [
    "X_train.head()"
   ],
   "outputs": [],
   "metadata": {
    "ExecuteTime": {
     "end_time": "2018-09-17T08:14:53.946694Z",
     "start_time": "2018-09-17T08:14:53.897524Z"
    },
    "pycharm": {
     "is_executing": true
    }
   }
  },
  {
   "cell_type": "code",
   "execution_count": null,
   "source": [
    "X_test.head()"
   ],
   "outputs": [],
   "metadata": {
    "ExecuteTime": {
     "end_time": "2018-09-17T08:14:54.532223Z",
     "start_time": "2018-09-17T08:14:54.508723Z"
    },
    "pycharm": {
     "is_executing": true
    }
   }
  },
  {
   "cell_type": "markdown",
   "source": [
    "# Train final model with optimal hyperparameters & features"
   ],
   "metadata": {}
  },
  {
   "cell_type": "code",
   "execution_count": null,
   "source": [
    "# It seems running time scales quadratically with the number of classes\n",
    "xgb = XGBClassifier(\n",
    "    n_estimators=86, \n",
    "    objective=\"multi:softprob\", \n",
    "    learning_rate=0.1858621466840661,\n",
    "    colsample_bylevel=1.0,\n",
    "    colsample_bytree=1.0,\n",
    "    gamma=0.49999999999999994,\n",
    "    max_delta_step=0,\n",
    "    max_depth=50,\n",
    "    min_child_weight=5,\n",
    "    reg_alpha=1.0,\n",
    "    reg_lambda=60.121460571845695,\n",
    "    scale_pos_weight=1e-06,\n",
    "    subsample=1.0,\n",
    "    random_state=1, \n",
    "    n_jobs=jobs,\n",
    "    silent=False)\n",
    "\n",
    "\n",
    "xgb.fit(X_train, Y_train)\n",
    "\n",
    "Y_test_pred = xgb.predict_proba(X_test)"
   ],
   "outputs": [],
   "metadata": {
    "ExecuteTime": {
     "end_time": "2018-09-17T10:48:47.621060Z",
     "start_time": "2018-09-17T08:18:41.414908Z"
    },
    "pycharm": {
     "is_executing": true
    }
   }
  },
  {
   "cell_type": "code",
   "execution_count": null,
   "source": [
    "sample_submission = pd.read_csv('data/sampleSubmission.csv')\n",
    "\n",
    "random_forest = RandomForestClassifier(n_estimators=600, max_depth=21, max_features=6,\n",
    "                                       min_samples_leaf=43, min_samples_split=40, \n",
    "                                       random_state=1, verbose=3, n_jobs=jobs)\n",
    "random_forest.fit(X_train, Y_train)\n",
    "\n",
    "Y_test_pred = random_forest.predict_proba(X_test)"
   ],
   "outputs": [],
   "metadata": {
    "pycharm": {
     "is_executing": true
    }
   }
  },
  {
   "cell_type": "markdown",
   "source": [
    "# Model Evaluation\n",
    "\n",
    "- Evaluate final model based on K-Fold cross validation\n",
    "- Average all K iterations to give the true estimate of the final model's performance"
   ],
   "metadata": {}
  },
  {
   "cell_type": "code",
   "execution_count": null,
   "source": [
    "scores = cross_val_score(xgb, X_train, Y_train, \n",
    "                         cv=StratifiedKFold(n_splits=3, shuffle=True, random_state=1), \n",
    "                         scoring = \"neg_log_loss\", n_jobs=jobs)"
   ],
   "outputs": [],
   "metadata": {
    "ExecuteTime": {
     "end_time": "2018-09-02T04:41:05.199240Z",
     "start_time": "2018-09-02T04:27:11.535Z"
    },
    "pycharm": {
     "is_executing": true
    }
   }
  },
  {
   "cell_type": "code",
   "execution_count": null,
   "source": [
    "sample_submission.to_csv(\n",
    "    'submissions/submission_xgb_with_Season.csv', index=False)\n",
    "print(\"Mean:\", scores.mean())\n",
    "print(\"Standard Deviation:\", scores.std())"
   ],
   "outputs": [],
   "metadata": {
    "ExecuteTime": {
     "end_time": "2018-09-02T04:41:05.202180Z",
     "start_time": "2018-09-02T04:27:11.537Z"
    },
    "pycharm": {
     "is_executing": true
    }
   }
  },
  {
   "cell_type": "markdown",
   "source": [
    "# Kaggle Submission\n",
    "\n",
    "- Reformat and turn in predictions and results from our model"
   ],
   "metadata": {}
  },
  {
   "cell_type": "code",
   "execution_count": null,
   "source": [
    "Y_test_pred.shape"
   ],
   "outputs": [],
   "metadata": {
    "ExecuteTime": {
     "end_time": "2018-09-17T10:48:47.627937Z",
     "start_time": "2018-09-17T10:48:47.623352Z"
    },
    "pycharm": {
     "is_executing": true
    }
   }
  },
  {
   "cell_type": "code",
   "execution_count": null,
   "source": [
    "sample_submission = pd.read_csv('data/sampleSubmission.csv')"
   ],
   "outputs": [],
   "metadata": {
    "ExecuteTime": {
     "end_time": "2018-09-17T11:06:50.148631Z",
     "start_time": "2018-09-17T11:06:47.249150Z"
    },
    "pycharm": {
     "is_executing": true
    }
   }
  },
  {
   "cell_type": "code",
   "execution_count": null,
   "source": [
    "sample_submission.shape"
   ],
   "outputs": [],
   "metadata": {
    "ExecuteTime": {
     "end_time": "2018-09-17T11:06:50.154768Z",
     "start_time": "2018-09-17T11:06:50.150430Z"
    },
    "pycharm": {
     "is_executing": true
    }
   }
  },
  {
   "cell_type": "code",
   "execution_count": null,
   "source": [
    "sample_submission.iloc[:, 1:] = pd.DataFrame(Y_test_pred, columns=sample_submission.columns[1:])"
   ],
   "outputs": [],
   "metadata": {
    "ExecuteTime": {
     "end_time": "2018-09-17T11:06:54.120643Z",
     "start_time": "2018-09-17T11:06:50.157476Z"
    },
    "scrolled": true,
    "pycharm": {
     "is_executing": true
    }
   }
  },
  {
   "cell_type": "code",
   "execution_count": null,
   "source": [
    "sample_submission.head(10)"
   ],
   "outputs": [],
   "metadata": {
    "ExecuteTime": {
     "end_time": "2018-09-17T11:06:54.159292Z",
     "start_time": "2018-09-17T11:06:54.122433Z"
    },
    "pycharm": {
     "is_executing": true
    }
   }
  },
  {
   "cell_type": "code",
   "execution_count": null,
   "source": [
    "sample_submission.to_csv('submissions/submission_xgb_with_Season.csv', index=False)"
   ],
   "outputs": [],
   "metadata": {
    "ExecuteTime": {
     "end_time": "2018-09-17T11:07:37.190126Z",
     "start_time": "2018-09-17T11:06:54.161512Z"
    },
    "pycharm": {
     "is_executing": true
    }
   }
  },
  {
   "cell_type": "markdown",
   "source": [
    "# Summary\n",
    "\n",
    "- After lots of tuning, I finally achieved a kaggle evaluation score (multiclass log loss) of **2.25674**, which would ideally rank at **#136** (out of 2,335 teams) or at the **top 6%** or **94th percentile** on the public leaderboard\n",
    "    - Since this is an old kaggle competition, this would most likely be a lower rank, but I still felt proud to achieve this score\n",
    "    - It is possible that I could run more experiments and tune the hyperparameters to achieve an even better score & ranking \n",
    "    - This was more of a learning experience for me & to get my feet wet with Data Science projects & Kaggle competitions\n",
    "    - In an effort to learn, I refrained from looking up old Kaggle kernels & other resources that completed this specific Kaggle competition.\n",
    "    - I coded most of this myself to learn the data science libraries, but did use resources such as other Kaggle competition kernels and research papers to get a better idea of how to think about the data. Google is awesome.\n",
    "- Below, I show images of my two highest scoring submissions on Kaggle"
   ],
   "metadata": {}
  },
  {
   "cell_type": "code",
   "execution_count": null,
   "source": [
    "from IPython.display import Image\n",
    "Image(filename='images/best_kaggle_submission.png') "
   ],
   "outputs": [],
   "metadata": {
    "ExecuteTime": {
     "end_time": "2018-09-17T11:45:15.757302Z",
     "start_time": "2018-09-17T11:45:15.694747Z"
    },
    "pycharm": {
     "is_executing": true
    }
   }
  },
  {
   "cell_type": "code",
   "execution_count": null,
   "source": [
    "Image(filename='images/2nd_best_kaggle_submission.png') "
   ],
   "outputs": [],
   "metadata": {
    "ExecuteTime": {
     "end_time": "2018-09-17T11:45:26.073609Z",
     "start_time": "2018-09-17T11:45:26.066850Z"
    },
    "pycharm": {
     "is_executing": true
    }
   }
  },
  {
   "cell_type": "markdown",
   "source": [
    "# Conclusion\n",
    "\n",
    "This project has taught me a lot about data science and has given me hands-on experience with working with data and completing an end-to-end data science project. I've had a lot of fun visualizing, analyzing, and experimenting with the data to gain more insight. This is just the beginning of my journey into data science, and I am very excited to see what the future holds in terms of new and interesting data science problems and datasets.\n",
    "\n",
    "- **What I learned**:\n",
    "    - There are more efficient ways to label or integer encode features\n",
    "        - Will use sklearn's LabelEncoder, OneHotEncoder, & MultiLabelBinarizer next time\n",
    "    - Instead of just blindly training models, research more about ways to optimize the hyperparameters efficiently\n",
    "        - Spent too many AWS EC2 hours with `GridSearchCV`, when I should have used *Bayesian Optimization* for efficient hyperparameter tuning\n",
    "        - Do more research on the domain of the problem, certain core ML algorithms, and data processing techniques\n",
    "- **What's next?**\n",
    "    - AutoML with `tpot` or `auto-sklearn`\n",
    "        - automate the hyperparameter tuning and model selection with AutoML packages\n",
    "    - Problem Redirection (Classification ---> Regression)\n",
    "        - Instead of predicting category of crime, predict X & Y coordinates (longitude & latitude) continuous values given same spatial and temporal features as well as category of crime\n",
    "        - **Use case:** Dynamically concentrate police on certain serious categories of crime to prevent crimes from happening beforehand\n",
    "    - Rewrite all code in the jupyter notebook to .py files\n",
    "        - Modularize each of the steps with functions and/or classes\n",
    "        - Useful because I can run the .py file on AWS EC2 without having to host it on jupyter notebook locally\n",
    "            - Meaning I can peacefully shut down my laptop and let script run in the cloud overnight\n"
   ],
   "metadata": {}
  }
 ],
 "metadata": {
  "kernelspec": {
   "name": "python3",
   "display_name": "Python 3.8.10 64-bit ('tensorflow38': conda)"
  },
  "language_info": {
   "codemirror_mode": {
    "name": "ipython",
    "version": 3
   },
   "file_extension": ".py",
   "mimetype": "text/x-python",
   "name": "python",
   "nbconvert_exporter": "python",
   "pygments_lexer": "ipython3",
   "version": "3.8.10"
  },
  "interpreter": {
   "hash": "2db4e91095f3d0dd8e4895c9bb0d966e58035f3ed929db8133accf4a432f4c0d"
  }
 },
 "nbformat": 4,
 "nbformat_minor": 2
}